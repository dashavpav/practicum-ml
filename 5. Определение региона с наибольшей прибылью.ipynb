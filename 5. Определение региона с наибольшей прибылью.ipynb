{
 "cells": [
  {
   "cell_type": "markdown",
   "metadata": {},
   "source": [
    "# Выбор локации для скважины"
   ]
  },
  {
   "cell_type": "markdown",
   "metadata": {},
   "source": [
    "Допустим, вы работаете в добывающей компании «ГлавРосГосНефть». Нужно решить, где бурить новую скважину.\n",
    "\n",
    "Вам предоставлены пробы нефти в трёх регионах: в каждом 10 000 месторождений, где измерили качество нефти и объём её запасов. Постройте модель машинного обучения, которая поможет определить регион, где добыча принесёт наибольшую прибыль. Проанализируйте возможную прибыль и риски техникой *Bootstrap.*\n",
    "\n",
    "Шаги для выбора локации:\n",
    "\n",
    "- В избранном регионе ищут месторождения, для каждого определяют значения признаков;\n",
    "- Строят модель и оценивают объём запасов;\n",
    "- Выбирают месторождения с самым высокими оценками значений. Количество месторождений зависит от бюджета компании и стоимости разработки одной скважины;\n",
    "- Прибыль равна суммарной прибыли отобранных месторождений."
   ]
  },
  {
   "cell_type": "code",
   "execution_count": 1,
   "metadata": {},
   "outputs": [],
   "source": [
    "import pandas as pd\n",
    "from sklearn.model_selection import train_test_split\n",
    "import seaborn as sns\n",
    "import matplotlib.pyplot as plt\n",
    "from sklearn.metrics import mean_absolute_error, r2_score, mean_squared_error\n",
    "from sklearn.linear_model import LinearRegression \n",
    "from sklearn.preprocessing import StandardScaler\n",
    "from numpy.random import RandomState"
   ]
  },
  {
   "cell_type": "code",
   "execution_count": 2,
   "metadata": {},
   "outputs": [],
   "source": [
    "RANDOM_STATE = RandomState(12345) "
   ]
  },
  {
   "cell_type": "markdown",
   "metadata": {},
   "source": [
    "## Загрузка и подготовка данных"
   ]
  },
  {
   "cell_type": "code",
   "execution_count": 3,
   "metadata": {},
   "outputs": [],
   "source": [
    "try :\n",
    "    data_1 = pd.read_csv('geo_data_0.csv')\n",
    "    data_2 = pd.read_csv('geo_data_1.csv')\n",
    "    data_3 = pd.read_csv('geo_data_2.csv')\n",
    "except:\n",
    "    data_1 = pd.read_csv('/datasets/geo_data_0.csv')\n",
    "    data_2 = pd.read_csv('/datasets/geo_data_1.csv')\n",
    "    data_3 = pd.read_csv('/datasets/geo_data_2.csv')"
   ]
  },
  {
   "cell_type": "code",
   "execution_count": 4,
   "metadata": {},
   "outputs": [
    {
     "data": {
      "text/html": [
       "<div>\n",
       "<style scoped>\n",
       "    .dataframe tbody tr th:only-of-type {\n",
       "        vertical-align: middle;\n",
       "    }\n",
       "\n",
       "    .dataframe tbody tr th {\n",
       "        vertical-align: top;\n",
       "    }\n",
       "\n",
       "    .dataframe thead th {\n",
       "        text-align: right;\n",
       "    }\n",
       "</style>\n",
       "<table border=\"1\" class=\"dataframe\">\n",
       "  <thead>\n",
       "    <tr style=\"text-align: right;\">\n",
       "      <th></th>\n",
       "      <th>id</th>\n",
       "      <th>f0</th>\n",
       "      <th>f1</th>\n",
       "      <th>f2</th>\n",
       "      <th>product</th>\n",
       "    </tr>\n",
       "  </thead>\n",
       "  <tbody>\n",
       "    <tr>\n",
       "      <th>0</th>\n",
       "      <td>txEyH</td>\n",
       "      <td>0.705745</td>\n",
       "      <td>-0.497823</td>\n",
       "      <td>1.221170</td>\n",
       "      <td>105.280062</td>\n",
       "    </tr>\n",
       "    <tr>\n",
       "      <th>1</th>\n",
       "      <td>2acmU</td>\n",
       "      <td>1.334711</td>\n",
       "      <td>-0.340164</td>\n",
       "      <td>4.365080</td>\n",
       "      <td>73.037750</td>\n",
       "    </tr>\n",
       "    <tr>\n",
       "      <th>2</th>\n",
       "      <td>409Wp</td>\n",
       "      <td>1.022732</td>\n",
       "      <td>0.151990</td>\n",
       "      <td>1.419926</td>\n",
       "      <td>85.265647</td>\n",
       "    </tr>\n",
       "    <tr>\n",
       "      <th>3</th>\n",
       "      <td>iJLyR</td>\n",
       "      <td>-0.032172</td>\n",
       "      <td>0.139033</td>\n",
       "      <td>2.978566</td>\n",
       "      <td>168.620776</td>\n",
       "    </tr>\n",
       "    <tr>\n",
       "      <th>4</th>\n",
       "      <td>Xdl7t</td>\n",
       "      <td>1.988431</td>\n",
       "      <td>0.155413</td>\n",
       "      <td>4.751769</td>\n",
       "      <td>154.036647</td>\n",
       "    </tr>\n",
       "  </tbody>\n",
       "</table>\n",
       "</div>"
      ],
      "text/plain": [
       "      id        f0        f1        f2     product\n",
       "0  txEyH  0.705745 -0.497823  1.221170  105.280062\n",
       "1  2acmU  1.334711 -0.340164  4.365080   73.037750\n",
       "2  409Wp  1.022732  0.151990  1.419926   85.265647\n",
       "3  iJLyR -0.032172  0.139033  2.978566  168.620776\n",
       "4  Xdl7t  1.988431  0.155413  4.751769  154.036647"
      ]
     },
     "execution_count": 4,
     "metadata": {},
     "output_type": "execute_result"
    }
   ],
   "source": [
    "data_1.head()"
   ]
  },
  {
   "cell_type": "code",
   "execution_count": 5,
   "metadata": {},
   "outputs": [
    {
     "data": {
      "text/html": [
       "<div>\n",
       "<style scoped>\n",
       "    .dataframe tbody tr th:only-of-type {\n",
       "        vertical-align: middle;\n",
       "    }\n",
       "\n",
       "    .dataframe tbody tr th {\n",
       "        vertical-align: top;\n",
       "    }\n",
       "\n",
       "    .dataframe thead th {\n",
       "        text-align: right;\n",
       "    }\n",
       "</style>\n",
       "<table border=\"1\" class=\"dataframe\">\n",
       "  <thead>\n",
       "    <tr style=\"text-align: right;\">\n",
       "      <th></th>\n",
       "      <th>id</th>\n",
       "      <th>f0</th>\n",
       "      <th>f1</th>\n",
       "      <th>f2</th>\n",
       "      <th>product</th>\n",
       "    </tr>\n",
       "  </thead>\n",
       "  <tbody>\n",
       "    <tr>\n",
       "      <th>0</th>\n",
       "      <td>kBEdx</td>\n",
       "      <td>-15.001348</td>\n",
       "      <td>-8.276000</td>\n",
       "      <td>-0.005876</td>\n",
       "      <td>3.179103</td>\n",
       "    </tr>\n",
       "    <tr>\n",
       "      <th>1</th>\n",
       "      <td>62mP7</td>\n",
       "      <td>14.272088</td>\n",
       "      <td>-3.475083</td>\n",
       "      <td>0.999183</td>\n",
       "      <td>26.953261</td>\n",
       "    </tr>\n",
       "    <tr>\n",
       "      <th>2</th>\n",
       "      <td>vyE1P</td>\n",
       "      <td>6.263187</td>\n",
       "      <td>-5.948386</td>\n",
       "      <td>5.001160</td>\n",
       "      <td>134.766305</td>\n",
       "    </tr>\n",
       "    <tr>\n",
       "      <th>3</th>\n",
       "      <td>KcrkZ</td>\n",
       "      <td>-13.081196</td>\n",
       "      <td>-11.506057</td>\n",
       "      <td>4.999415</td>\n",
       "      <td>137.945408</td>\n",
       "    </tr>\n",
       "    <tr>\n",
       "      <th>4</th>\n",
       "      <td>AHL4O</td>\n",
       "      <td>12.702195</td>\n",
       "      <td>-8.147433</td>\n",
       "      <td>5.004363</td>\n",
       "      <td>134.766305</td>\n",
       "    </tr>\n",
       "  </tbody>\n",
       "</table>\n",
       "</div>"
      ],
      "text/plain": [
       "      id         f0         f1        f2     product\n",
       "0  kBEdx -15.001348  -8.276000 -0.005876    3.179103\n",
       "1  62mP7  14.272088  -3.475083  0.999183   26.953261\n",
       "2  vyE1P   6.263187  -5.948386  5.001160  134.766305\n",
       "3  KcrkZ -13.081196 -11.506057  4.999415  137.945408\n",
       "4  AHL4O  12.702195  -8.147433  5.004363  134.766305"
      ]
     },
     "execution_count": 5,
     "metadata": {},
     "output_type": "execute_result"
    }
   ],
   "source": [
    "data_2.head()"
   ]
  },
  {
   "cell_type": "code",
   "execution_count": 6,
   "metadata": {},
   "outputs": [
    {
     "data": {
      "text/html": [
       "<div>\n",
       "<style scoped>\n",
       "    .dataframe tbody tr th:only-of-type {\n",
       "        vertical-align: middle;\n",
       "    }\n",
       "\n",
       "    .dataframe tbody tr th {\n",
       "        vertical-align: top;\n",
       "    }\n",
       "\n",
       "    .dataframe thead th {\n",
       "        text-align: right;\n",
       "    }\n",
       "</style>\n",
       "<table border=\"1\" class=\"dataframe\">\n",
       "  <thead>\n",
       "    <tr style=\"text-align: right;\">\n",
       "      <th></th>\n",
       "      <th>id</th>\n",
       "      <th>f0</th>\n",
       "      <th>f1</th>\n",
       "      <th>f2</th>\n",
       "      <th>product</th>\n",
       "    </tr>\n",
       "  </thead>\n",
       "  <tbody>\n",
       "    <tr>\n",
       "      <th>0</th>\n",
       "      <td>fwXo0</td>\n",
       "      <td>-1.146987</td>\n",
       "      <td>0.963328</td>\n",
       "      <td>-0.828965</td>\n",
       "      <td>27.758673</td>\n",
       "    </tr>\n",
       "    <tr>\n",
       "      <th>1</th>\n",
       "      <td>WJtFt</td>\n",
       "      <td>0.262778</td>\n",
       "      <td>0.269839</td>\n",
       "      <td>-2.530187</td>\n",
       "      <td>56.069697</td>\n",
       "    </tr>\n",
       "    <tr>\n",
       "      <th>2</th>\n",
       "      <td>ovLUW</td>\n",
       "      <td>0.194587</td>\n",
       "      <td>0.289035</td>\n",
       "      <td>-5.586433</td>\n",
       "      <td>62.871910</td>\n",
       "    </tr>\n",
       "    <tr>\n",
       "      <th>3</th>\n",
       "      <td>q6cA6</td>\n",
       "      <td>2.236060</td>\n",
       "      <td>-0.553760</td>\n",
       "      <td>0.930038</td>\n",
       "      <td>114.572842</td>\n",
       "    </tr>\n",
       "    <tr>\n",
       "      <th>4</th>\n",
       "      <td>WPMUX</td>\n",
       "      <td>-0.515993</td>\n",
       "      <td>1.716266</td>\n",
       "      <td>5.899011</td>\n",
       "      <td>149.600746</td>\n",
       "    </tr>\n",
       "  </tbody>\n",
       "</table>\n",
       "</div>"
      ],
      "text/plain": [
       "      id        f0        f1        f2     product\n",
       "0  fwXo0 -1.146987  0.963328 -0.828965   27.758673\n",
       "1  WJtFt  0.262778  0.269839 -2.530187   56.069697\n",
       "2  ovLUW  0.194587  0.289035 -5.586433   62.871910\n",
       "3  q6cA6  2.236060 -0.553760  0.930038  114.572842\n",
       "4  WPMUX -0.515993  1.716266  5.899011  149.600746"
      ]
     },
     "execution_count": 6,
     "metadata": {},
     "output_type": "execute_result"
    }
   ],
   "source": [
    "data_3.head()"
   ]
  },
  {
   "cell_type": "markdown",
   "metadata": {},
   "source": [
    "### Проверим данные на дубликаты."
   ]
  },
  {
   "cell_type": "code",
   "execution_count": 7,
   "metadata": {},
   "outputs": [
    {
     "data": {
      "text/plain": [
       "7530     HZww2\n",
       "41724    bxg6G\n",
       "51970    A5aEY\n",
       "63593    QcMuo\n",
       "66136    74z30\n",
       "69163    AGS9W\n",
       "75715    Tdehs\n",
       "90815    fiKDv\n",
       "92341    TtcGQ\n",
       "97785    bsk9y\n",
       "Name: id, dtype: object"
      ]
     },
     "execution_count": 7,
     "metadata": {},
     "output_type": "execute_result"
    }
   ],
   "source": [
    "data_1[data_1.duplicated('id')]['id']"
   ]
  },
  {
   "cell_type": "code",
   "execution_count": 8,
   "metadata": {},
   "outputs": [
    {
     "data": {
      "text/plain": [
       "41906    LHZR0\n",
       "82178    bfPNe\n",
       "82873    wt4Uk\n",
       "84461    5ltQ6\n",
       "Name: id, dtype: object"
      ]
     },
     "execution_count": 8,
     "metadata": {},
     "output_type": "execute_result"
    }
   ],
   "source": [
    "data_2[data_2.duplicated('id')]['id']"
   ]
  },
  {
   "cell_type": "code",
   "execution_count": 9,
   "metadata": {},
   "outputs": [
    {
     "data": {
      "text/plain": [
       "43233    xCHr8\n",
       "49564    VF7Jo\n",
       "55967    KUPhW\n",
       "95090    Vcm5J\n",
       "Name: id, dtype: object"
      ]
     },
     "execution_count": 9,
     "metadata": {},
     "output_type": "execute_result"
    }
   ],
   "source": [
    "data_3[data_3.duplicated('id')]['id']"
   ]
  },
  {
   "cell_type": "markdown",
   "metadata": {},
   "source": [
    "Изучив дубликаты, можно предположить, что дубликаты могли быть возникнуты по причине возможного пересчета данных. Для решения этой проблемы возьмем среднее значение по каждому признаку и тем самым избавимся от дубликатов."
   ]
  },
  {
   "cell_type": "markdown",
   "metadata": {},
   "source": [
    "Напишем функцию, которая преобразует таблицы, убрав дубликаты. Для этого создадим доп таблицу, где для дублирующихся скважен посчитаем среднее значения их признаков. Удалим из основной таблицы дубликаты, а в оставшихся столбцах поменяем значения на средние.  "
   ]
  },
  {
   "cell_type": "code",
   "execution_count": 10,
   "metadata": {},
   "outputs": [],
   "source": [
    "def new_table(table):\n",
    "    id_dup = table[table.duplicated('id')]['id']\n",
    "    dup_mean=table.query(\"id in @id_dup\").pivot_table(index='id', aggfunc='mean')\n",
    "    table_drop=table.drop_duplicates(subset=['id']).reset_index(drop=True)\n",
    "    for elem_id in id_dup:\n",
    "        table_drop.loc[table_drop['id']==elem_id, ('f0', 'f1', 'f2', 'product')] = dup_mean.loc[[elem_id]].values.tolist()\n",
    "    return table_drop"
   ]
  },
  {
   "cell_type": "code",
   "execution_count": 11,
   "metadata": {},
   "outputs": [],
   "source": [
    "data_1=new_table(data_1)\n",
    "data_2=new_table(data_2)\n",
    "data_3=new_table(data_3)"
   ]
  },
  {
   "cell_type": "code",
   "execution_count": 12,
   "metadata": {},
   "outputs": [
    {
     "name": "stdout",
     "output_type": "stream",
     "text": [
      "Дубликатов в data_1: 0\n",
      "Дубликатов в data_2: 0\n",
      "Дубликатов в data_3: 0\n"
     ]
    }
   ],
   "source": [
    "print('Дубликатов в data_1:',data_1.duplicated('id').sum())\n",
    "print('Дубликатов в data_2:',data_2.duplicated('id').sum())\n",
    "print('Дубликатов в data_3:',data_3.duplicated('id').sum())"
   ]
  },
  {
   "cell_type": "markdown",
   "metadata": {},
   "source": [
    "Далее проверим есть ли пропуски в наших данных."
   ]
  },
  {
   "cell_type": "code",
   "execution_count": 13,
   "metadata": {},
   "outputs": [
    {
     "name": "stdout",
     "output_type": "stream",
     "text": [
      "Пропусков в data_1\n",
      "id         0\n",
      "f0         0\n",
      "f1         0\n",
      "f2         0\n",
      "product    0\n",
      "dtype: int64\n",
      "Пропусков в data_2\n",
      "id         0\n",
      "f0         0\n",
      "f1         0\n",
      "f2         0\n",
      "product    0\n",
      "dtype: int64\n",
      "Пропусков в data_3\n",
      "id         0\n",
      "f0         0\n",
      "f1         0\n",
      "f2         0\n",
      "product    0\n",
      "dtype: int64\n"
     ]
    }
   ],
   "source": [
    "print('Пропусков в data_1','\\n', data_1.isna().sum(), sep='')\n",
    "print('Пропусков в data_2','\\n', data_2.isna().sum(), sep='')\n",
    "print('Пропусков в data_3','\\n', data_3.isna().sum(), sep='')"
   ]
  },
  {
   "cell_type": "markdown",
   "metadata": {},
   "source": [
    "Раз мы избавились от дубликатов, то каждая строка является уникальной, поэтмоу мы можем удалить столбец id."
   ]
  },
  {
   "cell_type": "code",
   "execution_count": 14,
   "metadata": {},
   "outputs": [],
   "source": [
    "data_1=data_1[['f0', 'f1', 'f2', 'product']]\n",
    "data_2=data_2[['f0', 'f1', 'f2', 'product']]\n",
    "data_3=data_3[['f0', 'f1', 'f2', 'product']]"
   ]
  },
  {
   "cell_type": "markdown",
   "metadata": {},
   "source": [
    "### Разобьем данные на обучающие и валидационные"
   ]
  },
  {
   "cell_type": "code",
   "execution_count": 15,
   "metadata": {},
   "outputs": [],
   "source": [
    "features_1 = data_1.drop(columns = ['product'],axis = 1)\n",
    "target_1 = data_1['product']\n",
    "features_2 = data_2.drop(columns = ['product'],axis = 1)\n",
    "target_2 = data_2['product']\n",
    "features_3 = data_3.drop(columns = ['product'],axis = 1)\n",
    "target_3 = data_3['product']"
   ]
  },
  {
   "cell_type": "code",
   "execution_count": 16,
   "metadata": {},
   "outputs": [],
   "source": [
    "features_train_1, features_valid_1, target_train_1, target_valid_1 = train_test_split(\n",
    "    features_1, target_1, test_size=0.25, random_state=RANDOM_STATE)\n",
    "features_train_2, features_valid_2, target_train_2, target_valid_2 = train_test_split(\n",
    "    features_2, target_2, test_size=0.25, random_state=RANDOM_STATE)\n",
    "features_train_3, features_valid_3, target_train_3, target_valid_3 = train_test_split(\n",
    "    features_3, target_3, test_size=0.25, random_state=RANDOM_STATE)"
   ]
  },
  {
   "cell_type": "markdown",
   "metadata": {},
   "source": [
    "Также нормализуем данные"
   ]
  },
  {
   "cell_type": "code",
   "execution_count": 17,
   "metadata": {},
   "outputs": [],
   "source": [
    "def data_scaler(f_t, f_v):\n",
    "    t_index = f_t.index\n",
    "    v_index = f_v.index\n",
    "    scaler = StandardScaler()\n",
    "    scaler.fit(f_t)\n",
    "    return pd.DataFrame(data=scaler.transform(f_t), index=t_index), pd.DataFrame(data=scaler.transform(f_v), index=v_index)"
   ]
  },
  {
   "cell_type": "code",
   "execution_count": 18,
   "metadata": {},
   "outputs": [],
   "source": [
    "features_train_1, features_valid_1 = data_scaler(features_train_1, features_valid_1)\n",
    "features_train_2, features_valid_2 = data_scaler(features_train_2, features_valid_2)\n",
    "features_train_3, features_valid_3 = data_scaler(features_train_3, features_valid_3)"
   ]
  },
  {
   "cell_type": "markdown",
   "metadata": {},
   "source": [
    "## Обучение и проверка модели"
   ]
  },
  {
   "cell_type": "code",
   "execution_count": 19,
   "metadata": {},
   "outputs": [],
   "source": [
    "def model_param(f_train, t_train, f_valid, t_valid):\n",
    "    model = LinearRegression()\n",
    "    model.fit(f_train, t_train)\n",
    "    predictions = model.predict(f_valid)\n",
    "    rmse = (mean_squared_error(t_valid, predictions))**(0.5)\n",
    "    print('RMSE:', rmse)\n",
    "    print('Средний запас предсказанного сырья:', predictions.mean())\n",
    "    return pd.Series(predictions, index=f_valid.index)"
   ]
  },
  {
   "cell_type": "code",
   "execution_count": 20,
   "metadata": {},
   "outputs": [
    {
     "name": "stdout",
     "output_type": "stream",
     "text": [
      "RMSE: 37.852213368277745\n",
      "Средний запас предсказанного сырья: 92.79006774683418\n"
     ]
    }
   ],
   "source": [
    "predictions_1 = model_param(features_train_1, target_train_1, features_valid_1, target_valid_1)"
   ]
  },
  {
   "cell_type": "code",
   "execution_count": 21,
   "metadata": {},
   "outputs": [
    {
     "name": "stdout",
     "output_type": "stream",
     "text": [
      "RMSE: 0.8947792873072147\n",
      "Средний запас предсказанного сырья: 68.95699542947811\n"
     ]
    }
   ],
   "source": [
    "predictions_2 = model_param(features_train_2, target_train_2, features_valid_2, target_valid_2)"
   ]
  },
  {
   "cell_type": "code",
   "execution_count": 22,
   "metadata": {},
   "outputs": [
    {
     "name": "stdout",
     "output_type": "stream",
     "text": [
      "RMSE: 40.041547529175915\n",
      "Средний запас предсказанного сырья: 95.08069522090472\n"
     ]
    }
   ],
   "source": [
    "predictions_3 = model_param(features_train_3, target_train_3, features_valid_3, target_valid_3)"
   ]
  },
  {
   "cell_type": "markdown",
   "metadata": {},
   "source": [
    "### Вывод\n",
    "\n"
   ]
  },
  {
   "cell_type": "markdown",
   "metadata": {},
   "source": [
    "Судя по полученным данным, наименьший RMSE имеет модель по данным второго региона, а средний запас предсказанного сырья в первом и третьем регионах приблизительно одинаковые, во втором меньше на несколько десятков."
   ]
  },
  {
   "cell_type": "markdown",
   "metadata": {},
   "source": [
    "## Подготовка к расчёту прибыли"
   ]
  },
  {
   "cell_type": "code",
   "execution_count": 23,
   "metadata": {},
   "outputs": [],
   "source": [
    "BUDGET = 10 * 1e9 \n",
    "PRICE_PRODUCT = 450000\n",
    "COUNT_POINTS = 500 \n",
    "COUNT_BEST_POINTS = 200 \n",
    "LOSS_LESS = 0.025"
   ]
  },
  {
   "cell_type": "markdown",
   "metadata": {},
   "source": [
    "Рассчитаем достаточный объём сырья для безубыточной разработки новой скважины."
   ]
  },
  {
   "cell_type": "code",
   "execution_count": 24,
   "metadata": {},
   "outputs": [
    {
     "name": "stdout",
     "output_type": "stream",
     "text": [
      "Достаточный объём сырья для безубыточной разработки новой скважины: 111.11111111111111\n"
     ]
    }
   ],
   "source": [
    "budget_point = BUDGET / COUNT_BEST_POINTS\n",
    "enough_product = budget_point / PRICE_PRODUCT\n",
    "print('Достаточный объём сырья для безубыточной разработки новой скважины:', enough_product)"
   ]
  },
  {
   "cell_type": "markdown",
   "metadata": {},
   "source": [
    "Средний запас в каждом регионе не достигает достаточного объема для безубыточной разработки, получается каждый регион будет нести какие-то убытки."
   ]
  },
  {
   "cell_type": "markdown",
   "metadata": {},
   "source": [
    "Зададим функцию для расчёта прибыли по выбранным скважинам и предсказаниям модели."
   ]
  },
  {
   "cell_type": "code",
   "execution_count": 25,
   "metadata": {},
   "outputs": [],
   "source": [
    "def get_revenue(predict, target):\n",
    "        points = predict.sample(n=COUNT_POINTS, replace=True, random_state=RANDOM_STATE)\n",
    "        best_points = points.sort_values(ascending = False)[:COUNT_BEST_POINTS]\n",
    "        product_volume = target[best_points.index].sum()\n",
    "        revenue = PRICE_PRODUCT * product_volume - BUDGET\n",
    "        return revenue, product_volume"
   ]
  },
  {
   "cell_type": "code",
   "execution_count": 26,
   "metadata": {},
   "outputs": [
    {
     "name": "stdout",
     "output_type": "stream",
     "text": [
      "Объём сырья 200 скважин с максимальными значениями предсказаний = 23298.67 тысяч баррелей\n",
      "Прибыль = 484.40 миллионов рублей\n"
     ]
    }
   ],
   "source": [
    "vol_reven=get_revenue(predictions_1, target_valid_1)\n",
    "print(f'Объём сырья {COUNT_BEST_POINTS} скважин с максимальными значениями предсказаний = {vol_reven[1]:.2f} тысяч баррелей\\nПрибыль = {(vol_reven[0]/1e6):.2f} миллионов рублей')"
   ]
  },
  {
   "cell_type": "code",
   "execution_count": 27,
   "metadata": {},
   "outputs": [
    {
     "name": "stdout",
     "output_type": "stream",
     "text": [
      "Объём сырья 200 скважин с максимальными значениями предсказаний = 22377.01 тысяч баррелей\n",
      "Прибыль = 69.66 миллионов рублей\n"
     ]
    }
   ],
   "source": [
    "vol_reven=get_revenue(predictions_2, target_valid_2)\n",
    "print(f'Объём сырья {COUNT_BEST_POINTS} скважин с максимальными значениями предсказаний = {vol_reven[1]:.2f} тысяч баррелей\\nПрибыль = {(vol_reven[0]/1e6):.2f} миллионов рублей')"
   ]
  },
  {
   "cell_type": "code",
   "execution_count": 28,
   "metadata": {},
   "outputs": [
    {
     "name": "stdout",
     "output_type": "stream",
     "text": [
      "Объём сырья 200 скважин с максимальными значениями предсказаний = 23708.74 тысяч баррелей\n",
      "Прибыль = 668.93 миллионов рублей\n"
     ]
    }
   ],
   "source": [
    "vol_reven=get_revenue(predictions_3, target_valid_3)\n",
    "print(f'Объём сырья {COUNT_BEST_POINTS} скважин с максимальными значениями предсказаний = {vol_reven[1]:.2f} тысяч баррелей\\nПрибыль = {(vol_reven[0]/1e6):.2f} миллионов рублей')"
   ]
  },
  {
   "cell_type": "markdown",
   "metadata": {},
   "source": [
    "## Расчёт прибыли и рисков "
   ]
  },
  {
   "cell_type": "markdown",
   "metadata": {},
   "source": [
    "Посчитаем риски и прибыль для каждого региона:"
   ]
  },
  {
   "cell_type": "code",
   "execution_count": 29,
   "metadata": {},
   "outputs": [],
   "source": [
    "def revenue_bootstrap(predict, target):\n",
    "    values=[]\n",
    "    for i in range(1000):\n",
    "        values.append(get_revenue(predict, target)[0])\n",
    "    values = pd.Series(values)\n",
    "    revenue_mean = values.mean()\n",
    "    interv_lower = values.quantile((1 - 0.95) / 2)\n",
    "    interv_upper = values.quantile((1 + 0.95) / 2)\n",
    "    loss_probability = (values < 0).sum() / 1000 \n",
    "    print('Риск убытков =', loss_probability)\n",
    "    print(f'Средняя прибыль = {revenue_mean/1e6:.2f} миллионов рублей')\n",
    "    print(f'95% доверительный интервал = ({interv_lower/1e6:.2f}, {interv_upper/1e6:.2f}), интервал = {(interv_upper - interv_lower)/1e6:.2f}')\n"
   ]
  },
  {
   "cell_type": "code",
   "execution_count": 30,
   "metadata": {},
   "outputs": [
    {
     "name": "stdout",
     "output_type": "stream",
     "text": [
      "Риск убытков = 0.074\n",
      "Средняя прибыль = 389.21 миллионов рублей\n",
      "95% доверительный интервал = (-111.84, 894.00), интервал = 1005.84\n"
     ]
    }
   ],
   "source": [
    "revenue_bootstrap(predictions_1, target_valid_1)"
   ]
  },
  {
   "cell_type": "code",
   "execution_count": 31,
   "metadata": {},
   "outputs": [
    {
     "name": "stdout",
     "output_type": "stream",
     "text": [
      "Риск убытков = 0.013\n",
      "Средняя прибыль = 439.08 миллионов рублей\n",
      "95% доверительный интервал = (33.06, 850.15), интервал = 817.08\n"
     ]
    }
   ],
   "source": [
    "revenue_bootstrap(predictions_2, target_valid_2) "
   ]
  },
  {
   "cell_type": "code",
   "execution_count": 32,
   "metadata": {},
   "outputs": [
    {
     "name": "stdout",
     "output_type": "stream",
     "text": [
      "Риск убытков = 0.046\n",
      "Средняя прибыль = 449.81 миллионов рублей\n",
      "95% доверительный интервал = (-62.39, 943.66), интервал = 1006.05\n"
     ]
    }
   ],
   "source": [
    "revenue_bootstrap(predictions_3, target_valid_3)"
   ]
  },
  {
   "cell_type": "markdown",
   "metadata": {},
   "source": [
    "В итоге лучшим регионом для разработки скважин будет регион №2, так как он имеет наименьший риск убытков, с учетом того, что максимально допустимая вероятность возникновения - 0.025. Так же стоит заметить, что второй регион имеет самую высокую среднюю прибыль, а доверительный интервал наоборот - принимает минимальное значение из трех."
   ]
  },
  {
   "cell_type": "markdown",
   "metadata": {},
   "source": [
    "## Чек-лист готовности проекта"
   ]
  },
  {
   "cell_type": "markdown",
   "metadata": {},
   "source": [
    "Поставьте 'x' в выполненных пунктах. Далее нажмите Shift+Enter."
   ]
  },
  {
   "cell_type": "markdown",
   "metadata": {},
   "source": [
    "- [x]  Jupyter Notebook открыт\n",
    "- [x]  Весь код выполняется без ошибок\n",
    "- [x]  Ячейки с кодом расположены в порядке исполнения\n",
    "- [x]  Выполнен шаг 1: данные подготовлены\n",
    "- [x]  Выполнен шаг 2: модели обучены и проверены\n",
    "    - [x]  Данные корректно разбиты на обучающую и валидационную выборки\n",
    "    - [x]  Модели обучены, предсказания сделаны\n",
    "    - [x]  Предсказания и правильные ответы на валидационной выборке сохранены\n",
    "    - [x]  На экране напечатаны результаты\n",
    "    - [x]  Сделаны выводы\n",
    "- [x]  Выполнен шаг 3: проведена подготовка к расчёту прибыли\n",
    "    - [x]  Для всех ключевых значений созданы константы Python\n",
    "    - [x]  Посчитано минимальное среднее количество продукта в месторождениях региона, достаточное для разработки\n",
    "    - [x]  По предыдущему пункту сделаны выводы\n",
    "    - [x]  Написана функция расчёта прибыли\n",
    "- [x]  Выполнен шаг 4: посчитаны риски и прибыль\n",
    "    - [x]  Проведена процедура *Bootstrap*\n",
    "    - [x]  Все параметры бутстрепа соответствуют условию\n",
    "    - [x]  Найдены все нужные величины\n",
    "    - [x]  Предложен регион для разработки месторождения\n",
    "    - [x]  Выбор региона обоснован"
   ]
  },
  {
   "cell_type": "code",
   "execution_count": null,
   "metadata": {},
   "outputs": [],
   "source": []
  }
 ],
 "metadata": {
  "ExecuteTimeLog": [
   {
    "duration": 1626,
    "start_time": "2022-12-06T13:10:46.509Z"
   },
   {
    "duration": 7,
    "start_time": "2022-12-06T13:10:48.140Z"
   },
   {
    "duration": 766,
    "start_time": "2022-12-06T13:10:48.149Z"
   },
   {
    "duration": 14,
    "start_time": "2022-12-06T13:10:48.917Z"
   },
   {
    "duration": 38,
    "start_time": "2022-12-06T13:10:48.934Z"
   },
   {
    "duration": 35,
    "start_time": "2022-12-06T13:10:48.974Z"
   },
   {
    "duration": 35,
    "start_time": "2022-12-06T13:10:49.018Z"
   },
   {
    "duration": 23,
    "start_time": "2022-12-06T13:10:49.054Z"
   },
   {
    "duration": 25,
    "start_time": "2022-12-06T13:10:49.079Z"
   },
   {
    "duration": 30,
    "start_time": "2022-12-06T13:10:49.106Z"
   },
   {
    "duration": 391,
    "start_time": "2022-12-06T13:10:49.138Z"
   },
   {
    "duration": 61,
    "start_time": "2022-12-06T13:10:49.531Z"
   },
   {
    "duration": 44,
    "start_time": "2022-12-06T13:10:49.593Z"
   },
   {
    "duration": 16,
    "start_time": "2022-12-06T13:10:49.642Z"
   },
   {
    "duration": 16,
    "start_time": "2022-12-06T13:10:49.661Z"
   },
   {
    "duration": 44,
    "start_time": "2022-12-06T13:10:49.678Z"
   },
   {
    "duration": 4,
    "start_time": "2022-12-06T13:10:49.724Z"
   },
   {
    "duration": 51,
    "start_time": "2022-12-06T13:10:49.730Z"
   },
   {
    "duration": 4,
    "start_time": "2022-12-06T13:10:49.782Z"
   },
   {
    "duration": 67,
    "start_time": "2022-12-06T13:10:49.788Z"
   },
   {
    "duration": 199,
    "start_time": "2022-12-06T13:10:49.857Z"
   },
   {
    "duration": 221,
    "start_time": "2022-12-06T13:10:50.058Z"
   },
   {
    "duration": 171,
    "start_time": "2022-12-06T13:10:50.281Z"
   },
   {
    "duration": 61,
    "start_time": "2022-12-06T13:10:50.453Z"
   },
   {
    "duration": 46,
    "start_time": "2022-12-06T13:10:50.516Z"
   },
   {
    "duration": 32,
    "start_time": "2022-12-06T13:10:50.563Z"
   },
   {
    "duration": 41,
    "start_time": "2022-12-06T13:10:50.597Z"
   },
   {
    "duration": 60,
    "start_time": "2022-12-06T13:10:50.640Z"
   },
   {
    "duration": 24,
    "start_time": "2022-12-06T13:10:50.701Z"
   },
   {
    "duration": 757,
    "start_time": "2022-12-06T13:10:50.727Z"
   },
   {
    "duration": 740,
    "start_time": "2022-12-06T13:10:51.486Z"
   },
   {
    "duration": 791,
    "start_time": "2022-12-06T13:10:52.228Z"
   }
  ],
  "kernelspec": {
   "display_name": "Python 3 (ipykernel)",
   "language": "python",
   "name": "python3"
  },
  "language_info": {
   "codemirror_mode": {
    "name": "ipython",
    "version": 3
   },
   "file_extension": ".py",
   "mimetype": "text/x-python",
   "name": "python",
   "nbconvert_exporter": "python",
   "pygments_lexer": "ipython3",
   "version": "3.9.12"
  },
  "toc": {
   "base_numbering": 1,
   "nav_menu": {},
   "number_sections": true,
   "sideBar": true,
   "skip_h1_title": true,
   "title_cell": "Table of Contents",
   "title_sidebar": "Contents",
   "toc_cell": false,
   "toc_position": {},
   "toc_section_display": true,
   "toc_window_display": false
  }
 },
 "nbformat": 4,
 "nbformat_minor": 2
}
