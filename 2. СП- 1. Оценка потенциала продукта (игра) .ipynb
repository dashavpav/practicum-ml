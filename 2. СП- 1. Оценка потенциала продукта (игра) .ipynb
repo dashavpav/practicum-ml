{
 "cells": [
  {
   "cell_type": "markdown",
   "id": "34d76410",
   "metadata": {},
   "source": [
    "# Описание цели исследования\n",
    "Вы работаете в интернет-магазине «Стримчик», который продаёт по всему миру компьютерные игры. Из открытых источников доступны исторические данные о продажах игр, оценки пользователей и экспертов, жанры и платформы (например, Xbox или PlayStation). Вам нужно выявить определяющие успешность игры закономерности. Это позволит сделать ставку на потенциально популярный продукт и спланировать рекламные кампании.\n",
    "Перед вами данные до 2016 года. Представим, что сейчас декабрь 2016 г., и вы планируете кампанию на 2017-й. Нужно отработать принцип работы с данными. Неважно, прогнозируете ли вы продажи на 2017 год по данным 2016-го или же 2027-й — по данным 2026 года."
   ]
  },
  {
   "cell_type": "markdown",
   "id": "5e1a0f8c",
   "metadata": {},
   "source": [
    "# Подготовка и изучение данных"
   ]
  },
  {
   "cell_type": "markdown",
   "id": "7a87f0e8",
   "metadata": {},
   "source": [
    "#### Подключим требуемые библиотеки"
   ]
  },
  {
   "cell_type": "code",
   "execution_count": 1,
   "id": "fdd4a9cb",
   "metadata": {},
   "outputs": [],
   "source": [
    "import pandas as pd\n",
    "import numpy as np\n",
    "import matplotlib.pyplot as plt\n",
    "import seaborn as sns"
   ]
  },
  {
   "cell_type": "markdown",
   "id": "5422fc19",
   "metadata": {},
   "source": [
    "#### Загрузим данные"
   ]
  },
  {
   "cell_type": "code",
   "execution_count": 2,
   "id": "8222e2e4",
   "metadata": {},
   "outputs": [],
   "source": [
    "try:\n",
    "    data = pd.read_csv('games.csv')\n",
    "except:\n",
    "    data = pd.read_csv('/datasets/games.csv')"
   ]
  },
  {
   "cell_type": "markdown",
   "id": "13d5027e",
   "metadata": {},
   "source": [
    "Посмотрим на первые 10 строк, чтобы ознакомиться с данными, а также выведем общую информацию."
   ]
  },
  {
   "cell_type": "code",
   "execution_count": 3,
   "id": "c45d9000",
   "metadata": {},
   "outputs": [
    {
     "data": {
      "text/html": [
       "<div>\n",
       "<style scoped>\n",
       "    .dataframe tbody tr th:only-of-type {\n",
       "        vertical-align: middle;\n",
       "    }\n",
       "\n",
       "    .dataframe tbody tr th {\n",
       "        vertical-align: top;\n",
       "    }\n",
       "\n",
       "    .dataframe thead th {\n",
       "        text-align: right;\n",
       "    }\n",
       "</style>\n",
       "<table border=\"1\" class=\"dataframe\">\n",
       "  <thead>\n",
       "    <tr style=\"text-align: right;\">\n",
       "      <th></th>\n",
       "      <th>Name</th>\n",
       "      <th>Platform</th>\n",
       "      <th>Year_of_Release</th>\n",
       "      <th>Genre</th>\n",
       "      <th>NA_sales</th>\n",
       "      <th>EU_sales</th>\n",
       "      <th>JP_sales</th>\n",
       "      <th>Other_sales</th>\n",
       "      <th>Critic_Score</th>\n",
       "      <th>User_Score</th>\n",
       "      <th>Rating</th>\n",
       "    </tr>\n",
       "  </thead>\n",
       "  <tbody>\n",
       "    <tr>\n",
       "      <th>0</th>\n",
       "      <td>Wii Sports</td>\n",
       "      <td>Wii</td>\n",
       "      <td>2006.0</td>\n",
       "      <td>Sports</td>\n",
       "      <td>41.36</td>\n",
       "      <td>28.96</td>\n",
       "      <td>3.77</td>\n",
       "      <td>8.45</td>\n",
       "      <td>76.0</td>\n",
       "      <td>8</td>\n",
       "      <td>E</td>\n",
       "    </tr>\n",
       "    <tr>\n",
       "      <th>1</th>\n",
       "      <td>Super Mario Bros.</td>\n",
       "      <td>NES</td>\n",
       "      <td>1985.0</td>\n",
       "      <td>Platform</td>\n",
       "      <td>29.08</td>\n",
       "      <td>3.58</td>\n",
       "      <td>6.81</td>\n",
       "      <td>0.77</td>\n",
       "      <td>NaN</td>\n",
       "      <td>NaN</td>\n",
       "      <td>NaN</td>\n",
       "    </tr>\n",
       "    <tr>\n",
       "      <th>2</th>\n",
       "      <td>Mario Kart Wii</td>\n",
       "      <td>Wii</td>\n",
       "      <td>2008.0</td>\n",
       "      <td>Racing</td>\n",
       "      <td>15.68</td>\n",
       "      <td>12.76</td>\n",
       "      <td>3.79</td>\n",
       "      <td>3.29</td>\n",
       "      <td>82.0</td>\n",
       "      <td>8.3</td>\n",
       "      <td>E</td>\n",
       "    </tr>\n",
       "    <tr>\n",
       "      <th>3</th>\n",
       "      <td>Wii Sports Resort</td>\n",
       "      <td>Wii</td>\n",
       "      <td>2009.0</td>\n",
       "      <td>Sports</td>\n",
       "      <td>15.61</td>\n",
       "      <td>10.93</td>\n",
       "      <td>3.28</td>\n",
       "      <td>2.95</td>\n",
       "      <td>80.0</td>\n",
       "      <td>8</td>\n",
       "      <td>E</td>\n",
       "    </tr>\n",
       "    <tr>\n",
       "      <th>4</th>\n",
       "      <td>Pokemon Red/Pokemon Blue</td>\n",
       "      <td>GB</td>\n",
       "      <td>1996.0</td>\n",
       "      <td>Role-Playing</td>\n",
       "      <td>11.27</td>\n",
       "      <td>8.89</td>\n",
       "      <td>10.22</td>\n",
       "      <td>1.00</td>\n",
       "      <td>NaN</td>\n",
       "      <td>NaN</td>\n",
       "      <td>NaN</td>\n",
       "    </tr>\n",
       "    <tr>\n",
       "      <th>5</th>\n",
       "      <td>Tetris</td>\n",
       "      <td>GB</td>\n",
       "      <td>1989.0</td>\n",
       "      <td>Puzzle</td>\n",
       "      <td>23.20</td>\n",
       "      <td>2.26</td>\n",
       "      <td>4.22</td>\n",
       "      <td>0.58</td>\n",
       "      <td>NaN</td>\n",
       "      <td>NaN</td>\n",
       "      <td>NaN</td>\n",
       "    </tr>\n",
       "    <tr>\n",
       "      <th>6</th>\n",
       "      <td>New Super Mario Bros.</td>\n",
       "      <td>DS</td>\n",
       "      <td>2006.0</td>\n",
       "      <td>Platform</td>\n",
       "      <td>11.28</td>\n",
       "      <td>9.14</td>\n",
       "      <td>6.50</td>\n",
       "      <td>2.88</td>\n",
       "      <td>89.0</td>\n",
       "      <td>8.5</td>\n",
       "      <td>E</td>\n",
       "    </tr>\n",
       "    <tr>\n",
       "      <th>7</th>\n",
       "      <td>Wii Play</td>\n",
       "      <td>Wii</td>\n",
       "      <td>2006.0</td>\n",
       "      <td>Misc</td>\n",
       "      <td>13.96</td>\n",
       "      <td>9.18</td>\n",
       "      <td>2.93</td>\n",
       "      <td>2.84</td>\n",
       "      <td>58.0</td>\n",
       "      <td>6.6</td>\n",
       "      <td>E</td>\n",
       "    </tr>\n",
       "    <tr>\n",
       "      <th>8</th>\n",
       "      <td>New Super Mario Bros. Wii</td>\n",
       "      <td>Wii</td>\n",
       "      <td>2009.0</td>\n",
       "      <td>Platform</td>\n",
       "      <td>14.44</td>\n",
       "      <td>6.94</td>\n",
       "      <td>4.70</td>\n",
       "      <td>2.24</td>\n",
       "      <td>87.0</td>\n",
       "      <td>8.4</td>\n",
       "      <td>E</td>\n",
       "    </tr>\n",
       "    <tr>\n",
       "      <th>9</th>\n",
       "      <td>Duck Hunt</td>\n",
       "      <td>NES</td>\n",
       "      <td>1984.0</td>\n",
       "      <td>Shooter</td>\n",
       "      <td>26.93</td>\n",
       "      <td>0.63</td>\n",
       "      <td>0.28</td>\n",
       "      <td>0.47</td>\n",
       "      <td>NaN</td>\n",
       "      <td>NaN</td>\n",
       "      <td>NaN</td>\n",
       "    </tr>\n",
       "  </tbody>\n",
       "</table>\n",
       "</div>"
      ],
      "text/plain": [
       "                        Name Platform  Year_of_Release         Genre  \\\n",
       "0                 Wii Sports      Wii           2006.0        Sports   \n",
       "1          Super Mario Bros.      NES           1985.0      Platform   \n",
       "2             Mario Kart Wii      Wii           2008.0        Racing   \n",
       "3          Wii Sports Resort      Wii           2009.0        Sports   \n",
       "4   Pokemon Red/Pokemon Blue       GB           1996.0  Role-Playing   \n",
       "5                     Tetris       GB           1989.0        Puzzle   \n",
       "6      New Super Mario Bros.       DS           2006.0      Platform   \n",
       "7                   Wii Play      Wii           2006.0          Misc   \n",
       "8  New Super Mario Bros. Wii      Wii           2009.0      Platform   \n",
       "9                  Duck Hunt      NES           1984.0       Shooter   \n",
       "\n",
       "   NA_sales  EU_sales  JP_sales  Other_sales  Critic_Score User_Score Rating  \n",
       "0     41.36     28.96      3.77         8.45          76.0          8      E  \n",
       "1     29.08      3.58      6.81         0.77           NaN        NaN    NaN  \n",
       "2     15.68     12.76      3.79         3.29          82.0        8.3      E  \n",
       "3     15.61     10.93      3.28         2.95          80.0          8      E  \n",
       "4     11.27      8.89     10.22         1.00           NaN        NaN    NaN  \n",
       "5     23.20      2.26      4.22         0.58           NaN        NaN    NaN  \n",
       "6     11.28      9.14      6.50         2.88          89.0        8.5      E  \n",
       "7     13.96      9.18      2.93         2.84          58.0        6.6      E  \n",
       "8     14.44      6.94      4.70         2.24          87.0        8.4      E  \n",
       "9     26.93      0.63      0.28         0.47           NaN        NaN    NaN  "
      ]
     },
     "execution_count": 3,
     "metadata": {},
     "output_type": "execute_result"
    }
   ],
   "source": [
    "data.head(10)"
   ]
  },
  {
   "cell_type": "code",
   "execution_count": 4,
   "id": "586dcf53",
   "metadata": {},
   "outputs": [
    {
     "name": "stdout",
     "output_type": "stream",
     "text": [
      "<class 'pandas.core.frame.DataFrame'>\n",
      "RangeIndex: 16715 entries, 0 to 16714\n",
      "Data columns (total 11 columns):\n",
      " #   Column           Non-Null Count  Dtype  \n",
      "---  ------           --------------  -----  \n",
      " 0   Name             16713 non-null  object \n",
      " 1   Platform         16715 non-null  object \n",
      " 2   Year_of_Release  16446 non-null  float64\n",
      " 3   Genre            16713 non-null  object \n",
      " 4   NA_sales         16715 non-null  float64\n",
      " 5   EU_sales         16715 non-null  float64\n",
      " 6   JP_sales         16715 non-null  float64\n",
      " 7   Other_sales      16715 non-null  float64\n",
      " 8   Critic_Score     8137 non-null   float64\n",
      " 9   User_Score       10014 non-null  object \n",
      " 10  Rating           9949 non-null   object \n",
      "dtypes: float64(6), object(5)\n",
      "memory usage: 1.4+ MB\n"
     ]
    }
   ],
   "source": [
    "data.info()"
   ]
  },
  {
   "cell_type": "markdown",
   "id": "ef73209f",
   "metadata": {},
   "source": [
    "#### Заменим названия столбцов (приведем к нижнему регистру) str.lower()"
   ]
  },
  {
   "cell_type": "code",
   "execution_count": 5,
   "id": "a72d2e04",
   "metadata": {},
   "outputs": [],
   "source": [
    "data.columns=data.columns.str.lower()"
   ]
  },
  {
   "cell_type": "code",
   "execution_count": 6,
   "id": "25c2837d",
   "metadata": {},
   "outputs": [
    {
     "data": {
      "text/plain": [
       "Index(['name', 'platform', 'year_of_release', 'genre', 'na_sales', 'eu_sales',\n",
       "       'jp_sales', 'other_sales', 'critic_score', 'user_score', 'rating'],\n",
       "      dtype='object')"
      ]
     },
     "execution_count": 6,
     "metadata": {},
     "output_type": "execute_result"
    }
   ],
   "source": [
    "data.columns"
   ]
  },
  {
   "cell_type": "markdown",
   "id": "bd95c7ad",
   "metadata": {},
   "source": [
    "#### Обработаем пропуски при необходимости"
   ]
  },
  {
   "cell_type": "markdown",
   "id": "3cb35f5c",
   "metadata": {},
   "source": [
    "По выведенной выше информации о датасете можем заметить, что пропуски присутствуют в следующих столбцах: Name, Year_of_Release, Genre, Critic_Score, User_Score и Rating."
   ]
  },
  {
   "cell_type": "markdown",
   "id": "623600d1",
   "metadata": {},
   "source": [
    "Рассмотрим первым столбец **name**. Выведем только те строки, название игр в которых пропущено."
   ]
  },
  {
   "cell_type": "code",
   "execution_count": 7,
   "id": "20995052",
   "metadata": {},
   "outputs": [
    {
     "data": {
      "text/html": [
       "<div>\n",
       "<style scoped>\n",
       "    .dataframe tbody tr th:only-of-type {\n",
       "        vertical-align: middle;\n",
       "    }\n",
       "\n",
       "    .dataframe tbody tr th {\n",
       "        vertical-align: top;\n",
       "    }\n",
       "\n",
       "    .dataframe thead th {\n",
       "        text-align: right;\n",
       "    }\n",
       "</style>\n",
       "<table border=\"1\" class=\"dataframe\">\n",
       "  <thead>\n",
       "    <tr style=\"text-align: right;\">\n",
       "      <th></th>\n",
       "      <th>name</th>\n",
       "      <th>platform</th>\n",
       "      <th>year_of_release</th>\n",
       "      <th>genre</th>\n",
       "      <th>na_sales</th>\n",
       "      <th>eu_sales</th>\n",
       "      <th>jp_sales</th>\n",
       "      <th>other_sales</th>\n",
       "      <th>critic_score</th>\n",
       "      <th>user_score</th>\n",
       "      <th>rating</th>\n",
       "    </tr>\n",
       "  </thead>\n",
       "  <tbody>\n",
       "    <tr>\n",
       "      <th>659</th>\n",
       "      <td>NaN</td>\n",
       "      <td>GEN</td>\n",
       "      <td>1993.0</td>\n",
       "      <td>NaN</td>\n",
       "      <td>1.78</td>\n",
       "      <td>0.53</td>\n",
       "      <td>0.00</td>\n",
       "      <td>0.08</td>\n",
       "      <td>NaN</td>\n",
       "      <td>NaN</td>\n",
       "      <td>NaN</td>\n",
       "    </tr>\n",
       "    <tr>\n",
       "      <th>14244</th>\n",
       "      <td>NaN</td>\n",
       "      <td>GEN</td>\n",
       "      <td>1993.0</td>\n",
       "      <td>NaN</td>\n",
       "      <td>0.00</td>\n",
       "      <td>0.00</td>\n",
       "      <td>0.03</td>\n",
       "      <td>0.00</td>\n",
       "      <td>NaN</td>\n",
       "      <td>NaN</td>\n",
       "      <td>NaN</td>\n",
       "    </tr>\n",
       "  </tbody>\n",
       "</table>\n",
       "</div>"
      ],
      "text/plain": [
       "      name platform  year_of_release genre  na_sales  eu_sales  jp_sales  \\\n",
       "659    NaN      GEN           1993.0   NaN      1.78      0.53      0.00   \n",
       "14244  NaN      GEN           1993.0   NaN      0.00      0.00      0.03   \n",
       "\n",
       "       other_sales  critic_score user_score rating  \n",
       "659           0.08           NaN        NaN    NaN  \n",
       "14244         0.00           NaN        NaN    NaN  "
      ]
     },
     "execution_count": 7,
     "metadata": {},
     "output_type": "execute_result"
    }
   ],
   "source": [
    "data.query('name.isna()')"
   ]
  },
  {
   "cell_type": "markdown",
   "id": "6cf1fbbd",
   "metadata": {},
   "source": [
    "Таких игр всего лишь 2 штуки. Можно предположить, что эти две игра есть описание одной игры, так как некоторые пропуски одной строки покрываются данными из другой строки, но данная идея может быть неверной, поэтому оставим ее. Попробуем вывести игры одного года создания."
   ]
  },
  {
   "cell_type": "code",
   "execution_count": 8,
   "id": "e20b2a88",
   "metadata": {},
   "outputs": [
    {
     "data": {
      "text/html": [
       "<div>\n",
       "<style scoped>\n",
       "    .dataframe tbody tr th:only-of-type {\n",
       "        vertical-align: middle;\n",
       "    }\n",
       "\n",
       "    .dataframe tbody tr th {\n",
       "        vertical-align: top;\n",
       "    }\n",
       "\n",
       "    .dataframe thead th {\n",
       "        text-align: right;\n",
       "    }\n",
       "</style>\n",
       "<table border=\"1\" class=\"dataframe\">\n",
       "  <thead>\n",
       "    <tr style=\"text-align: right;\">\n",
       "      <th></th>\n",
       "      <th>name</th>\n",
       "      <th>platform</th>\n",
       "      <th>year_of_release</th>\n",
       "      <th>genre</th>\n",
       "      <th>na_sales</th>\n",
       "      <th>eu_sales</th>\n",
       "      <th>jp_sales</th>\n",
       "      <th>other_sales</th>\n",
       "      <th>critic_score</th>\n",
       "      <th>user_score</th>\n",
       "      <th>rating</th>\n",
       "    </tr>\n",
       "  </thead>\n",
       "  <tbody>\n",
       "    <tr>\n",
       "      <th>659</th>\n",
       "      <td>NaN</td>\n",
       "      <td>GEN</td>\n",
       "      <td>1993.0</td>\n",
       "      <td>NaN</td>\n",
       "      <td>1.78</td>\n",
       "      <td>0.53</td>\n",
       "      <td>0.00</td>\n",
       "      <td>0.08</td>\n",
       "      <td>NaN</td>\n",
       "      <td>NaN</td>\n",
       "      <td>NaN</td>\n",
       "    </tr>\n",
       "    <tr>\n",
       "      <th>14244</th>\n",
       "      <td>NaN</td>\n",
       "      <td>GEN</td>\n",
       "      <td>1993.0</td>\n",
       "      <td>NaN</td>\n",
       "      <td>0.00</td>\n",
       "      <td>0.00</td>\n",
       "      <td>0.03</td>\n",
       "      <td>0.00</td>\n",
       "      <td>NaN</td>\n",
       "      <td>NaN</td>\n",
       "      <td>NaN</td>\n",
       "    </tr>\n",
       "  </tbody>\n",
       "</table>\n",
       "</div>"
      ],
      "text/plain": [
       "      name platform  year_of_release genre  na_sales  eu_sales  jp_sales  \\\n",
       "659    NaN      GEN           1993.0   NaN      1.78      0.53      0.00   \n",
       "14244  NaN      GEN           1993.0   NaN      0.00      0.00      0.03   \n",
       "\n",
       "       other_sales  critic_score user_score rating  \n",
       "659           0.08           NaN        NaN    NaN  \n",
       "14244         0.00           NaN        NaN    NaN  "
      ]
     },
     "execution_count": 8,
     "metadata": {},
     "output_type": "execute_result"
    }
   ],
   "source": [
    "data.query('name.isna() and year_of_release == 1993.0')"
   ]
  },
  {
   "cell_type": "markdown",
   "id": "6ee97146",
   "metadata": {},
   "source": [
    "Получили те же две строки. Более верным решение видется удалить данные две строки, так как все же название игры это важный ее фактор."
   ]
  },
  {
   "cell_type": "code",
   "execution_count": 9,
   "id": "92cad5f1",
   "metadata": {},
   "outputs": [],
   "source": [
    "data = data.dropna(subset=['name']).reset_index(drop=True)"
   ]
  },
  {
   "cell_type": "markdown",
   "id": "0ea7c800",
   "metadata": {},
   "source": [
    "Рассмотрим столбец **year_of_release**."
   ]
  },
  {
   "cell_type": "code",
   "execution_count": 10,
   "id": "ba1d6de6",
   "metadata": {
    "scrolled": true
   },
   "outputs": [
    {
     "data": {
      "text/html": [
       "<div>\n",
       "<style scoped>\n",
       "    .dataframe tbody tr th:only-of-type {\n",
       "        vertical-align: middle;\n",
       "    }\n",
       "\n",
       "    .dataframe tbody tr th {\n",
       "        vertical-align: top;\n",
       "    }\n",
       "\n",
       "    .dataframe thead th {\n",
       "        text-align: right;\n",
       "    }\n",
       "</style>\n",
       "<table border=\"1\" class=\"dataframe\">\n",
       "  <thead>\n",
       "    <tr style=\"text-align: right;\">\n",
       "      <th></th>\n",
       "      <th>name</th>\n",
       "      <th>platform</th>\n",
       "      <th>year_of_release</th>\n",
       "      <th>genre</th>\n",
       "      <th>na_sales</th>\n",
       "      <th>eu_sales</th>\n",
       "      <th>jp_sales</th>\n",
       "      <th>other_sales</th>\n",
       "      <th>critic_score</th>\n",
       "      <th>user_score</th>\n",
       "      <th>rating</th>\n",
       "    </tr>\n",
       "  </thead>\n",
       "  <tbody>\n",
       "    <tr>\n",
       "      <th>183</th>\n",
       "      <td>Madden NFL 2004</td>\n",
       "      <td>PS2</td>\n",
       "      <td>NaN</td>\n",
       "      <td>Sports</td>\n",
       "      <td>4.26</td>\n",
       "      <td>0.26</td>\n",
       "      <td>0.01</td>\n",
       "      <td>0.71</td>\n",
       "      <td>94.0</td>\n",
       "      <td>8.5</td>\n",
       "      <td>E</td>\n",
       "    </tr>\n",
       "    <tr>\n",
       "      <th>377</th>\n",
       "      <td>FIFA Soccer 2004</td>\n",
       "      <td>PS2</td>\n",
       "      <td>NaN</td>\n",
       "      <td>Sports</td>\n",
       "      <td>0.59</td>\n",
       "      <td>2.36</td>\n",
       "      <td>0.04</td>\n",
       "      <td>0.51</td>\n",
       "      <td>84.0</td>\n",
       "      <td>6.4</td>\n",
       "      <td>E</td>\n",
       "    </tr>\n",
       "    <tr>\n",
       "      <th>456</th>\n",
       "      <td>LEGO Batman: The Videogame</td>\n",
       "      <td>Wii</td>\n",
       "      <td>NaN</td>\n",
       "      <td>Action</td>\n",
       "      <td>1.80</td>\n",
       "      <td>0.97</td>\n",
       "      <td>0.00</td>\n",
       "      <td>0.29</td>\n",
       "      <td>74.0</td>\n",
       "      <td>7.9</td>\n",
       "      <td>E10+</td>\n",
       "    </tr>\n",
       "    <tr>\n",
       "      <th>475</th>\n",
       "      <td>wwe Smackdown vs. Raw 2006</td>\n",
       "      <td>PS2</td>\n",
       "      <td>NaN</td>\n",
       "      <td>Fighting</td>\n",
       "      <td>1.57</td>\n",
       "      <td>1.02</td>\n",
       "      <td>0.00</td>\n",
       "      <td>0.41</td>\n",
       "      <td>NaN</td>\n",
       "      <td>NaN</td>\n",
       "      <td>NaN</td>\n",
       "    </tr>\n",
       "    <tr>\n",
       "      <th>609</th>\n",
       "      <td>Space Invaders</td>\n",
       "      <td>2600</td>\n",
       "      <td>NaN</td>\n",
       "      <td>Shooter</td>\n",
       "      <td>2.36</td>\n",
       "      <td>0.14</td>\n",
       "      <td>0.00</td>\n",
       "      <td>0.03</td>\n",
       "      <td>NaN</td>\n",
       "      <td>NaN</td>\n",
       "      <td>NaN</td>\n",
       "    </tr>\n",
       "    <tr>\n",
       "      <th>...</th>\n",
       "      <td>...</td>\n",
       "      <td>...</td>\n",
       "      <td>...</td>\n",
       "      <td>...</td>\n",
       "      <td>...</td>\n",
       "      <td>...</td>\n",
       "      <td>...</td>\n",
       "      <td>...</td>\n",
       "      <td>...</td>\n",
       "      <td>...</td>\n",
       "      <td>...</td>\n",
       "    </tr>\n",
       "    <tr>\n",
       "      <th>16371</th>\n",
       "      <td>PDC World Championship Darts 2008</td>\n",
       "      <td>PSP</td>\n",
       "      <td>NaN</td>\n",
       "      <td>Sports</td>\n",
       "      <td>0.01</td>\n",
       "      <td>0.00</td>\n",
       "      <td>0.00</td>\n",
       "      <td>0.00</td>\n",
       "      <td>43.0</td>\n",
       "      <td>tbd</td>\n",
       "      <td>E10+</td>\n",
       "    </tr>\n",
       "    <tr>\n",
       "      <th>16403</th>\n",
       "      <td>Freaky Flyers</td>\n",
       "      <td>GC</td>\n",
       "      <td>NaN</td>\n",
       "      <td>Racing</td>\n",
       "      <td>0.01</td>\n",
       "      <td>0.00</td>\n",
       "      <td>0.00</td>\n",
       "      <td>0.00</td>\n",
       "      <td>69.0</td>\n",
       "      <td>6.5</td>\n",
       "      <td>T</td>\n",
       "    </tr>\n",
       "    <tr>\n",
       "      <th>16446</th>\n",
       "      <td>Inversion</td>\n",
       "      <td>PC</td>\n",
       "      <td>NaN</td>\n",
       "      <td>Shooter</td>\n",
       "      <td>0.01</td>\n",
       "      <td>0.00</td>\n",
       "      <td>0.00</td>\n",
       "      <td>0.00</td>\n",
       "      <td>59.0</td>\n",
       "      <td>6.7</td>\n",
       "      <td>M</td>\n",
       "    </tr>\n",
       "    <tr>\n",
       "      <th>16456</th>\n",
       "      <td>Hakuouki: Shinsengumi Kitan</td>\n",
       "      <td>PS3</td>\n",
       "      <td>NaN</td>\n",
       "      <td>Adventure</td>\n",
       "      <td>0.01</td>\n",
       "      <td>0.00</td>\n",
       "      <td>0.00</td>\n",
       "      <td>0.00</td>\n",
       "      <td>NaN</td>\n",
       "      <td>NaN</td>\n",
       "      <td>NaN</td>\n",
       "    </tr>\n",
       "    <tr>\n",
       "      <th>16520</th>\n",
       "      <td>Virtua Quest</td>\n",
       "      <td>GC</td>\n",
       "      <td>NaN</td>\n",
       "      <td>Role-Playing</td>\n",
       "      <td>0.01</td>\n",
       "      <td>0.00</td>\n",
       "      <td>0.00</td>\n",
       "      <td>0.00</td>\n",
       "      <td>55.0</td>\n",
       "      <td>5.5</td>\n",
       "      <td>T</td>\n",
       "    </tr>\n",
       "  </tbody>\n",
       "</table>\n",
       "<p>269 rows × 11 columns</p>\n",
       "</div>"
      ],
      "text/plain": [
       "                                    name platform  year_of_release  \\\n",
       "183                      Madden NFL 2004      PS2              NaN   \n",
       "377                     FIFA Soccer 2004      PS2              NaN   \n",
       "456           LEGO Batman: The Videogame      Wii              NaN   \n",
       "475           wwe Smackdown vs. Raw 2006      PS2              NaN   \n",
       "609                       Space Invaders     2600              NaN   \n",
       "...                                  ...      ...              ...   \n",
       "16371  PDC World Championship Darts 2008      PSP              NaN   \n",
       "16403                      Freaky Flyers       GC              NaN   \n",
       "16446                          Inversion       PC              NaN   \n",
       "16456        Hakuouki: Shinsengumi Kitan      PS3              NaN   \n",
       "16520                       Virtua Quest       GC              NaN   \n",
       "\n",
       "              genre  na_sales  eu_sales  jp_sales  other_sales  critic_score  \\\n",
       "183          Sports      4.26      0.26      0.01         0.71          94.0   \n",
       "377          Sports      0.59      2.36      0.04         0.51          84.0   \n",
       "456          Action      1.80      0.97      0.00         0.29          74.0   \n",
       "475        Fighting      1.57      1.02      0.00         0.41           NaN   \n",
       "609         Shooter      2.36      0.14      0.00         0.03           NaN   \n",
       "...             ...       ...       ...       ...          ...           ...   \n",
       "16371        Sports      0.01      0.00      0.00         0.00          43.0   \n",
       "16403        Racing      0.01      0.00      0.00         0.00          69.0   \n",
       "16446       Shooter      0.01      0.00      0.00         0.00          59.0   \n",
       "16456     Adventure      0.01      0.00      0.00         0.00           NaN   \n",
       "16520  Role-Playing      0.01      0.00      0.00         0.00          55.0   \n",
       "\n",
       "      user_score rating  \n",
       "183          8.5      E  \n",
       "377          6.4      E  \n",
       "456          7.9   E10+  \n",
       "475          NaN    NaN  \n",
       "609          NaN    NaN  \n",
       "...          ...    ...  \n",
       "16371        tbd   E10+  \n",
       "16403        6.5      T  \n",
       "16446        6.7      M  \n",
       "16456        NaN    NaN  \n",
       "16520        5.5      T  \n",
       "\n",
       "[269 rows x 11 columns]"
      ]
     },
     "execution_count": 10,
     "metadata": {},
     "output_type": "execute_result"
    }
   ],
   "source": [
    "data.query('year_of_release.isna()')"
   ]
  },
  {
   "cell_type": "markdown",
   "id": "71147f12",
   "metadata": {},
   "source": [
    "Нельзя предположить логическую замену к столбцу \"год выпуска\" игры, поэтому удалим их. Возможно, эти данные были пропущены или утерены при переносе или объединении таблиц."
   ]
  },
  {
   "cell_type": "code",
   "execution_count": 11,
   "id": "a1d52769",
   "metadata": {},
   "outputs": [],
   "source": [
    "data = data.dropna(subset=['year_of_release']).reset_index(drop=True)"
   ]
  },
  {
   "cell_type": "markdown",
   "id": "e3f1c2ea",
   "metadata": {},
   "source": [
    "Рассмотрим столбец **Genre**.\n"
   ]
  },
  {
   "cell_type": "code",
   "execution_count": 12,
   "id": "0323123f",
   "metadata": {},
   "outputs": [
    {
     "data": {
      "text/html": [
       "<div>\n",
       "<style scoped>\n",
       "    .dataframe tbody tr th:only-of-type {\n",
       "        vertical-align: middle;\n",
       "    }\n",
       "\n",
       "    .dataframe tbody tr th {\n",
       "        vertical-align: top;\n",
       "    }\n",
       "\n",
       "    .dataframe thead th {\n",
       "        text-align: right;\n",
       "    }\n",
       "</style>\n",
       "<table border=\"1\" class=\"dataframe\">\n",
       "  <thead>\n",
       "    <tr style=\"text-align: right;\">\n",
       "      <th></th>\n",
       "      <th>name</th>\n",
       "      <th>platform</th>\n",
       "      <th>year_of_release</th>\n",
       "      <th>genre</th>\n",
       "      <th>na_sales</th>\n",
       "      <th>eu_sales</th>\n",
       "      <th>jp_sales</th>\n",
       "      <th>other_sales</th>\n",
       "      <th>critic_score</th>\n",
       "      <th>user_score</th>\n",
       "      <th>rating</th>\n",
       "    </tr>\n",
       "  </thead>\n",
       "  <tbody>\n",
       "  </tbody>\n",
       "</table>\n",
       "</div>"
      ],
      "text/plain": [
       "Empty DataFrame\n",
       "Columns: [name, platform, year_of_release, genre, na_sales, eu_sales, jp_sales, other_sales, critic_score, user_score, rating]\n",
       "Index: []"
      ]
     },
     "execution_count": 12,
     "metadata": {},
     "output_type": "execute_result"
    }
   ],
   "source": [
    "data.query('genre.isna()')"
   ]
  },
  {
   "cell_type": "markdown",
   "id": "932447d7",
   "metadata": {},
   "source": [
    "Данных нет, так как пропуски были удалены при удалении строк с пропущенным именем."
   ]
  },
  {
   "cell_type": "markdown",
   "id": "70098c90",
   "metadata": {},
   "source": [
    "Рассмотрим столбец **Critic_Score**."
   ]
  },
  {
   "cell_type": "code",
   "execution_count": 13,
   "id": "a827dbef",
   "metadata": {},
   "outputs": [
    {
     "data": {
      "text/html": [
       "<div>\n",
       "<style scoped>\n",
       "    .dataframe tbody tr th:only-of-type {\n",
       "        vertical-align: middle;\n",
       "    }\n",
       "\n",
       "    .dataframe tbody tr th {\n",
       "        vertical-align: top;\n",
       "    }\n",
       "\n",
       "    .dataframe thead th {\n",
       "        text-align: right;\n",
       "    }\n",
       "</style>\n",
       "<table border=\"1\" class=\"dataframe\">\n",
       "  <thead>\n",
       "    <tr style=\"text-align: right;\">\n",
       "      <th></th>\n",
       "      <th>name</th>\n",
       "      <th>platform</th>\n",
       "      <th>year_of_release</th>\n",
       "      <th>genre</th>\n",
       "      <th>na_sales</th>\n",
       "      <th>eu_sales</th>\n",
       "      <th>jp_sales</th>\n",
       "      <th>other_sales</th>\n",
       "      <th>critic_score</th>\n",
       "      <th>user_score</th>\n",
       "      <th>rating</th>\n",
       "    </tr>\n",
       "  </thead>\n",
       "  <tbody>\n",
       "    <tr>\n",
       "      <th>1</th>\n",
       "      <td>Super Mario Bros.</td>\n",
       "      <td>NES</td>\n",
       "      <td>1985.0</td>\n",
       "      <td>Platform</td>\n",
       "      <td>29.08</td>\n",
       "      <td>3.58</td>\n",
       "      <td>6.81</td>\n",
       "      <td>0.77</td>\n",
       "      <td>NaN</td>\n",
       "      <td>NaN</td>\n",
       "      <td>NaN</td>\n",
       "    </tr>\n",
       "    <tr>\n",
       "      <th>4</th>\n",
       "      <td>Pokemon Red/Pokemon Blue</td>\n",
       "      <td>GB</td>\n",
       "      <td>1996.0</td>\n",
       "      <td>Role-Playing</td>\n",
       "      <td>11.27</td>\n",
       "      <td>8.89</td>\n",
       "      <td>10.22</td>\n",
       "      <td>1.00</td>\n",
       "      <td>NaN</td>\n",
       "      <td>NaN</td>\n",
       "      <td>NaN</td>\n",
       "    </tr>\n",
       "    <tr>\n",
       "      <th>5</th>\n",
       "      <td>Tetris</td>\n",
       "      <td>GB</td>\n",
       "      <td>1989.0</td>\n",
       "      <td>Puzzle</td>\n",
       "      <td>23.20</td>\n",
       "      <td>2.26</td>\n",
       "      <td>4.22</td>\n",
       "      <td>0.58</td>\n",
       "      <td>NaN</td>\n",
       "      <td>NaN</td>\n",
       "      <td>NaN</td>\n",
       "    </tr>\n",
       "    <tr>\n",
       "      <th>9</th>\n",
       "      <td>Duck Hunt</td>\n",
       "      <td>NES</td>\n",
       "      <td>1984.0</td>\n",
       "      <td>Shooter</td>\n",
       "      <td>26.93</td>\n",
       "      <td>0.63</td>\n",
       "      <td>0.28</td>\n",
       "      <td>0.47</td>\n",
       "      <td>NaN</td>\n",
       "      <td>NaN</td>\n",
       "      <td>NaN</td>\n",
       "    </tr>\n",
       "    <tr>\n",
       "      <th>10</th>\n",
       "      <td>Nintendogs</td>\n",
       "      <td>DS</td>\n",
       "      <td>2005.0</td>\n",
       "      <td>Simulation</td>\n",
       "      <td>9.05</td>\n",
       "      <td>10.95</td>\n",
       "      <td>1.93</td>\n",
       "      <td>2.74</td>\n",
       "      <td>NaN</td>\n",
       "      <td>NaN</td>\n",
       "      <td>NaN</td>\n",
       "    </tr>\n",
       "    <tr>\n",
       "      <th>...</th>\n",
       "      <td>...</td>\n",
       "      <td>...</td>\n",
       "      <td>...</td>\n",
       "      <td>...</td>\n",
       "      <td>...</td>\n",
       "      <td>...</td>\n",
       "      <td>...</td>\n",
       "      <td>...</td>\n",
       "      <td>...</td>\n",
       "      <td>...</td>\n",
       "      <td>...</td>\n",
       "    </tr>\n",
       "    <tr>\n",
       "      <th>16439</th>\n",
       "      <td>Samurai Warriors: Sanada Maru</td>\n",
       "      <td>PS3</td>\n",
       "      <td>2016.0</td>\n",
       "      <td>Action</td>\n",
       "      <td>0.00</td>\n",
       "      <td>0.00</td>\n",
       "      <td>0.01</td>\n",
       "      <td>0.00</td>\n",
       "      <td>NaN</td>\n",
       "      <td>NaN</td>\n",
       "      <td>NaN</td>\n",
       "    </tr>\n",
       "    <tr>\n",
       "      <th>16440</th>\n",
       "      <td>LMA Manager 2007</td>\n",
       "      <td>X360</td>\n",
       "      <td>2006.0</td>\n",
       "      <td>Sports</td>\n",
       "      <td>0.00</td>\n",
       "      <td>0.01</td>\n",
       "      <td>0.00</td>\n",
       "      <td>0.00</td>\n",
       "      <td>NaN</td>\n",
       "      <td>NaN</td>\n",
       "      <td>NaN</td>\n",
       "    </tr>\n",
       "    <tr>\n",
       "      <th>16441</th>\n",
       "      <td>Haitaka no Psychedelica</td>\n",
       "      <td>PSV</td>\n",
       "      <td>2016.0</td>\n",
       "      <td>Adventure</td>\n",
       "      <td>0.00</td>\n",
       "      <td>0.00</td>\n",
       "      <td>0.01</td>\n",
       "      <td>0.00</td>\n",
       "      <td>NaN</td>\n",
       "      <td>NaN</td>\n",
       "      <td>NaN</td>\n",
       "    </tr>\n",
       "    <tr>\n",
       "      <th>16442</th>\n",
       "      <td>Spirits &amp; Spells</td>\n",
       "      <td>GBA</td>\n",
       "      <td>2003.0</td>\n",
       "      <td>Platform</td>\n",
       "      <td>0.01</td>\n",
       "      <td>0.00</td>\n",
       "      <td>0.00</td>\n",
       "      <td>0.00</td>\n",
       "      <td>NaN</td>\n",
       "      <td>NaN</td>\n",
       "      <td>NaN</td>\n",
       "    </tr>\n",
       "    <tr>\n",
       "      <th>16443</th>\n",
       "      <td>Winning Post 8 2016</td>\n",
       "      <td>PSV</td>\n",
       "      <td>2016.0</td>\n",
       "      <td>Simulation</td>\n",
       "      <td>0.00</td>\n",
       "      <td>0.00</td>\n",
       "      <td>0.01</td>\n",
       "      <td>0.00</td>\n",
       "      <td>NaN</td>\n",
       "      <td>NaN</td>\n",
       "      <td>NaN</td>\n",
       "    </tr>\n",
       "  </tbody>\n",
       "</table>\n",
       "<p>8461 rows × 11 columns</p>\n",
       "</div>"
      ],
      "text/plain": [
       "                                name platform  year_of_release         genre  \\\n",
       "1                  Super Mario Bros.      NES           1985.0      Platform   \n",
       "4           Pokemon Red/Pokemon Blue       GB           1996.0  Role-Playing   \n",
       "5                             Tetris       GB           1989.0        Puzzle   \n",
       "9                          Duck Hunt      NES           1984.0       Shooter   \n",
       "10                        Nintendogs       DS           2005.0    Simulation   \n",
       "...                              ...      ...              ...           ...   \n",
       "16439  Samurai Warriors: Sanada Maru      PS3           2016.0        Action   \n",
       "16440               LMA Manager 2007     X360           2006.0        Sports   \n",
       "16441        Haitaka no Psychedelica      PSV           2016.0     Adventure   \n",
       "16442               Spirits & Spells      GBA           2003.0      Platform   \n",
       "16443            Winning Post 8 2016      PSV           2016.0    Simulation   \n",
       "\n",
       "       na_sales  eu_sales  jp_sales  other_sales  critic_score user_score  \\\n",
       "1         29.08      3.58      6.81         0.77           NaN        NaN   \n",
       "4         11.27      8.89     10.22         1.00           NaN        NaN   \n",
       "5         23.20      2.26      4.22         0.58           NaN        NaN   \n",
       "9         26.93      0.63      0.28         0.47           NaN        NaN   \n",
       "10         9.05     10.95      1.93         2.74           NaN        NaN   \n",
       "...         ...       ...       ...          ...           ...        ...   \n",
       "16439      0.00      0.00      0.01         0.00           NaN        NaN   \n",
       "16440      0.00      0.01      0.00         0.00           NaN        NaN   \n",
       "16441      0.00      0.00      0.01         0.00           NaN        NaN   \n",
       "16442      0.01      0.00      0.00         0.00           NaN        NaN   \n",
       "16443      0.00      0.00      0.01         0.00           NaN        NaN   \n",
       "\n",
       "      rating  \n",
       "1        NaN  \n",
       "4        NaN  \n",
       "5        NaN  \n",
       "9        NaN  \n",
       "10       NaN  \n",
       "...      ...  \n",
       "16439    NaN  \n",
       "16440    NaN  \n",
       "16441    NaN  \n",
       "16442    NaN  \n",
       "16443    NaN  \n",
       "\n",
       "[8461 rows x 11 columns]"
      ]
     },
     "execution_count": 13,
     "metadata": {},
     "output_type": "execute_result"
    }
   ],
   "source": [
    "data.query('critic_score.isna()')"
   ]
  },
  {
   "cell_type": "code",
   "execution_count": 14,
   "id": "26855e11",
   "metadata": {},
   "outputs": [
    {
     "data": {
      "text/plain": [
       "array([76., nan, 82., 80., 89., 58., 87., 91., 61., 97., 95., 77., 88.,\n",
       "       83., 94., 93., 85., 86., 98., 96., 90., 84., 73., 74., 78., 92.,\n",
       "       71., 72., 68., 62., 49., 67., 81., 66., 56., 79., 70., 59., 64.,\n",
       "       75., 60., 63., 69., 50., 25., 42., 44., 55., 48., 57., 29., 47.,\n",
       "       65., 54., 20., 53., 37., 38., 33., 52., 30., 32., 43., 45., 51.,\n",
       "       40., 46., 39., 34., 41., 36., 31., 27., 35., 26., 19., 28., 23.,\n",
       "       24., 21., 17., 13.])"
      ]
     },
     "execution_count": 14,
     "metadata": {},
     "output_type": "execute_result"
    }
   ],
   "source": [
    "data['critic_score'].unique()"
   ]
  },
  {
   "cell_type": "markdown",
   "id": "07adcc13",
   "metadata": {},
   "source": [
    "Пропуски в оценки критиками может быть возникнуты из-за человеческого или технического фактора. Проблемы могли возникнуть на этапе загрузки и на этапе выгрузки данных. Неправильный запрос, объединение таблиц также может быть причиной. Возможно, что данная игра просто не была оценена критиками."
   ]
  },
  {
   "cell_type": "markdown",
   "id": "579cfcb3",
   "metadata": {},
   "source": [
    "Посмотрим, какое соотношение пропусков ко всем данным, и исходя из этого ответа примем решение заполнить пропуски или удалить их."
   ]
  },
  {
   "cell_type": "code",
   "execution_count": 15,
   "id": "6359fc62",
   "metadata": {},
   "outputs": [
    {
     "data": {
      "text/plain": [
       "0.5145341765993675"
      ]
     },
     "execution_count": 15,
     "metadata": {},
     "output_type": "execute_result"
    }
   ],
   "source": [
    "data.query('critic_score.isna()')['name'].count() / data['name'].count()"
   ]
  },
  {
   "cell_type": "markdown",
   "id": "a6901c24",
   "metadata": {},
   "source": [
    "Половина всех данных - это большая часть, замена на медианное значение сильно искозит распредление, оставим их."
   ]
  },
  {
   "cell_type": "markdown",
   "id": "20c6e480",
   "metadata": {},
   "source": [
    "Рассмотрим столбец **user_score**."
   ]
  },
  {
   "cell_type": "code",
   "execution_count": 16,
   "id": "1552dbcf",
   "metadata": {},
   "outputs": [
    {
     "data": {
      "text/plain": [
       "array(['8', nan, '8.3', '8.5', '6.6', '8.4', '8.6', '7.7', '6.3', '7.4',\n",
       "       '8.2', '9', '7.9', '8.1', '8.7', '7.1', '3.4', '5.3', '4.8', '3.2',\n",
       "       '8.9', '6.4', '7.8', '7.5', '2.6', '7.2', '9.2', '7', '7.3', '4.3',\n",
       "       '7.6', '5.7', '5', '9.1', '6.5', 'tbd', '8.8', '6.9', '9.4', '6.8',\n",
       "       '6.1', '6.7', '5.4', '4', '4.9', '4.5', '9.3', '6.2', '4.2', '6',\n",
       "       '3.7', '4.1', '5.8', '5.6', '5.5', '4.4', '4.6', '5.9', '3.9',\n",
       "       '3.1', '2.9', '5.2', '3.3', '4.7', '5.1', '3.5', '2.5', '1.9', '3',\n",
       "       '2.7', '2.2', '2', '9.5', '2.1', '3.6', '2.8', '1.8', '3.8', '0',\n",
       "       '1.6', '9.6', '2.4', '1.7', '1.1', '0.3', '1.5', '0.7', '1.2',\n",
       "       '2.3', '0.5', '1.3', '0.2', '0.6', '1.4', '0.9', '1', '9.7'],\n",
       "      dtype=object)"
      ]
     },
     "execution_count": 16,
     "metadata": {},
     "output_type": "execute_result"
    }
   ],
   "source": [
    "data['user_score'].unique()"
   ]
  },
  {
   "cell_type": "code",
   "execution_count": 17,
   "id": "32540355",
   "metadata": {},
   "outputs": [
    {
     "data": {
      "text/html": [
       "<div>\n",
       "<style scoped>\n",
       "    .dataframe tbody tr th:only-of-type {\n",
       "        vertical-align: middle;\n",
       "    }\n",
       "\n",
       "    .dataframe tbody tr th {\n",
       "        vertical-align: top;\n",
       "    }\n",
       "\n",
       "    .dataframe thead th {\n",
       "        text-align: right;\n",
       "    }\n",
       "</style>\n",
       "<table border=\"1\" class=\"dataframe\">\n",
       "  <thead>\n",
       "    <tr style=\"text-align: right;\">\n",
       "      <th></th>\n",
       "      <th>name</th>\n",
       "      <th>platform</th>\n",
       "      <th>year_of_release</th>\n",
       "      <th>genre</th>\n",
       "      <th>na_sales</th>\n",
       "      <th>eu_sales</th>\n",
       "      <th>jp_sales</th>\n",
       "      <th>other_sales</th>\n",
       "      <th>critic_score</th>\n",
       "      <th>user_score</th>\n",
       "      <th>rating</th>\n",
       "    </tr>\n",
       "  </thead>\n",
       "  <tbody>\n",
       "    <tr>\n",
       "      <th>1</th>\n",
       "      <td>Super Mario Bros.</td>\n",
       "      <td>NES</td>\n",
       "      <td>1985.0</td>\n",
       "      <td>Platform</td>\n",
       "      <td>29.08</td>\n",
       "      <td>3.58</td>\n",
       "      <td>6.81</td>\n",
       "      <td>0.77</td>\n",
       "      <td>NaN</td>\n",
       "      <td>NaN</td>\n",
       "      <td>NaN</td>\n",
       "    </tr>\n",
       "    <tr>\n",
       "      <th>4</th>\n",
       "      <td>Pokemon Red/Pokemon Blue</td>\n",
       "      <td>GB</td>\n",
       "      <td>1996.0</td>\n",
       "      <td>Role-Playing</td>\n",
       "      <td>11.27</td>\n",
       "      <td>8.89</td>\n",
       "      <td>10.22</td>\n",
       "      <td>1.00</td>\n",
       "      <td>NaN</td>\n",
       "      <td>NaN</td>\n",
       "      <td>NaN</td>\n",
       "    </tr>\n",
       "    <tr>\n",
       "      <th>5</th>\n",
       "      <td>Tetris</td>\n",
       "      <td>GB</td>\n",
       "      <td>1989.0</td>\n",
       "      <td>Puzzle</td>\n",
       "      <td>23.20</td>\n",
       "      <td>2.26</td>\n",
       "      <td>4.22</td>\n",
       "      <td>0.58</td>\n",
       "      <td>NaN</td>\n",
       "      <td>NaN</td>\n",
       "      <td>NaN</td>\n",
       "    </tr>\n",
       "    <tr>\n",
       "      <th>9</th>\n",
       "      <td>Duck Hunt</td>\n",
       "      <td>NES</td>\n",
       "      <td>1984.0</td>\n",
       "      <td>Shooter</td>\n",
       "      <td>26.93</td>\n",
       "      <td>0.63</td>\n",
       "      <td>0.28</td>\n",
       "      <td>0.47</td>\n",
       "      <td>NaN</td>\n",
       "      <td>NaN</td>\n",
       "      <td>NaN</td>\n",
       "    </tr>\n",
       "    <tr>\n",
       "      <th>10</th>\n",
       "      <td>Nintendogs</td>\n",
       "      <td>DS</td>\n",
       "      <td>2005.0</td>\n",
       "      <td>Simulation</td>\n",
       "      <td>9.05</td>\n",
       "      <td>10.95</td>\n",
       "      <td>1.93</td>\n",
       "      <td>2.74</td>\n",
       "      <td>NaN</td>\n",
       "      <td>NaN</td>\n",
       "      <td>NaN</td>\n",
       "    </tr>\n",
       "    <tr>\n",
       "      <th>...</th>\n",
       "      <td>...</td>\n",
       "      <td>...</td>\n",
       "      <td>...</td>\n",
       "      <td>...</td>\n",
       "      <td>...</td>\n",
       "      <td>...</td>\n",
       "      <td>...</td>\n",
       "      <td>...</td>\n",
       "      <td>...</td>\n",
       "      <td>...</td>\n",
       "      <td>...</td>\n",
       "    </tr>\n",
       "    <tr>\n",
       "      <th>16439</th>\n",
       "      <td>Samurai Warriors: Sanada Maru</td>\n",
       "      <td>PS3</td>\n",
       "      <td>2016.0</td>\n",
       "      <td>Action</td>\n",
       "      <td>0.00</td>\n",
       "      <td>0.00</td>\n",
       "      <td>0.01</td>\n",
       "      <td>0.00</td>\n",
       "      <td>NaN</td>\n",
       "      <td>NaN</td>\n",
       "      <td>NaN</td>\n",
       "    </tr>\n",
       "    <tr>\n",
       "      <th>16440</th>\n",
       "      <td>LMA Manager 2007</td>\n",
       "      <td>X360</td>\n",
       "      <td>2006.0</td>\n",
       "      <td>Sports</td>\n",
       "      <td>0.00</td>\n",
       "      <td>0.01</td>\n",
       "      <td>0.00</td>\n",
       "      <td>0.00</td>\n",
       "      <td>NaN</td>\n",
       "      <td>NaN</td>\n",
       "      <td>NaN</td>\n",
       "    </tr>\n",
       "    <tr>\n",
       "      <th>16441</th>\n",
       "      <td>Haitaka no Psychedelica</td>\n",
       "      <td>PSV</td>\n",
       "      <td>2016.0</td>\n",
       "      <td>Adventure</td>\n",
       "      <td>0.00</td>\n",
       "      <td>0.00</td>\n",
       "      <td>0.01</td>\n",
       "      <td>0.00</td>\n",
       "      <td>NaN</td>\n",
       "      <td>NaN</td>\n",
       "      <td>NaN</td>\n",
       "    </tr>\n",
       "    <tr>\n",
       "      <th>16442</th>\n",
       "      <td>Spirits &amp; Spells</td>\n",
       "      <td>GBA</td>\n",
       "      <td>2003.0</td>\n",
       "      <td>Platform</td>\n",
       "      <td>0.01</td>\n",
       "      <td>0.00</td>\n",
       "      <td>0.00</td>\n",
       "      <td>0.00</td>\n",
       "      <td>NaN</td>\n",
       "      <td>NaN</td>\n",
       "      <td>NaN</td>\n",
       "    </tr>\n",
       "    <tr>\n",
       "      <th>16443</th>\n",
       "      <td>Winning Post 8 2016</td>\n",
       "      <td>PSV</td>\n",
       "      <td>2016.0</td>\n",
       "      <td>Simulation</td>\n",
       "      <td>0.00</td>\n",
       "      <td>0.00</td>\n",
       "      <td>0.01</td>\n",
       "      <td>0.00</td>\n",
       "      <td>NaN</td>\n",
       "      <td>NaN</td>\n",
       "      <td>NaN</td>\n",
       "    </tr>\n",
       "  </tbody>\n",
       "</table>\n",
       "<p>6605 rows × 11 columns</p>\n",
       "</div>"
      ],
      "text/plain": [
       "                                name platform  year_of_release         genre  \\\n",
       "1                  Super Mario Bros.      NES           1985.0      Platform   \n",
       "4           Pokemon Red/Pokemon Blue       GB           1996.0  Role-Playing   \n",
       "5                             Tetris       GB           1989.0        Puzzle   \n",
       "9                          Duck Hunt      NES           1984.0       Shooter   \n",
       "10                        Nintendogs       DS           2005.0    Simulation   \n",
       "...                              ...      ...              ...           ...   \n",
       "16439  Samurai Warriors: Sanada Maru      PS3           2016.0        Action   \n",
       "16440               LMA Manager 2007     X360           2006.0        Sports   \n",
       "16441        Haitaka no Psychedelica      PSV           2016.0     Adventure   \n",
       "16442               Spirits & Spells      GBA           2003.0      Platform   \n",
       "16443            Winning Post 8 2016      PSV           2016.0    Simulation   \n",
       "\n",
       "       na_sales  eu_sales  jp_sales  other_sales  critic_score user_score  \\\n",
       "1         29.08      3.58      6.81         0.77           NaN        NaN   \n",
       "4         11.27      8.89     10.22         1.00           NaN        NaN   \n",
       "5         23.20      2.26      4.22         0.58           NaN        NaN   \n",
       "9         26.93      0.63      0.28         0.47           NaN        NaN   \n",
       "10         9.05     10.95      1.93         2.74           NaN        NaN   \n",
       "...         ...       ...       ...          ...           ...        ...   \n",
       "16439      0.00      0.00      0.01         0.00           NaN        NaN   \n",
       "16440      0.00      0.01      0.00         0.00           NaN        NaN   \n",
       "16441      0.00      0.00      0.01         0.00           NaN        NaN   \n",
       "16442      0.01      0.00      0.00         0.00           NaN        NaN   \n",
       "16443      0.00      0.00      0.01         0.00           NaN        NaN   \n",
       "\n",
       "      rating  \n",
       "1        NaN  \n",
       "4        NaN  \n",
       "5        NaN  \n",
       "9        NaN  \n",
       "10       NaN  \n",
       "...      ...  \n",
       "16439    NaN  \n",
       "16440    NaN  \n",
       "16441    NaN  \n",
       "16442    NaN  \n",
       "16443    NaN  \n",
       "\n",
       "[6605 rows x 11 columns]"
      ]
     },
     "execution_count": 17,
     "metadata": {},
     "output_type": "execute_result"
    }
   ],
   "source": [
    "data.query('user_score.isna()')"
   ]
  },
  {
   "cell_type": "markdown",
   "id": "32bc8dd6",
   "metadata": {},
   "source": [
    "Заметим, что в столбце присутствует значение tbd - аббревиатура от английского To Be Determined (будет определено), что означает, что рейтинг еще не был рассчитан. Логично будет заменить это значение на NaN, так как это будет означать тоже самое - отсутствие значения."
   ]
  },
  {
   "cell_type": "code",
   "execution_count": 18,
   "id": "6ae7ca43",
   "metadata": {},
   "outputs": [],
   "source": [
    "data.loc[data['user_score'] =='tbd', 'user_score'] = np.nan"
   ]
  },
  {
   "cell_type": "code",
   "execution_count": 19,
   "id": "f691ddc2",
   "metadata": {},
   "outputs": [
    {
     "data": {
      "text/plain": [
       "0.5461566528825104"
      ]
     },
     "execution_count": 19,
     "metadata": {},
     "output_type": "execute_result"
    }
   ],
   "source": [
    "data.query('user_score.isna()')['name'].count() / data['name'].count()"
   ]
  },
  {
   "cell_type": "markdown",
   "id": "24dad1ac",
   "metadata": {},
   "source": [
    "Получился случай, аналогичный со столбцом critic_score. Если мы заменим все пропуски медианным или средним значением, то это значение будет описывать больше половины всей выборки, что неверно. Мы не можем дать альтернативную замену этим пропускам, поэтому лучше оставить их"
   ]
  },
  {
   "cell_type": "markdown",
   "id": "c004455d",
   "metadata": {},
   "source": [
    "Рассмотрим столбец **rating**."
   ]
  },
  {
   "cell_type": "code",
   "execution_count": 20,
   "id": "4cefc97c",
   "metadata": {},
   "outputs": [
    {
     "data": {
      "text/html": [
       "<div>\n",
       "<style scoped>\n",
       "    .dataframe tbody tr th:only-of-type {\n",
       "        vertical-align: middle;\n",
       "    }\n",
       "\n",
       "    .dataframe tbody tr th {\n",
       "        vertical-align: top;\n",
       "    }\n",
       "\n",
       "    .dataframe thead th {\n",
       "        text-align: right;\n",
       "    }\n",
       "</style>\n",
       "<table border=\"1\" class=\"dataframe\">\n",
       "  <thead>\n",
       "    <tr style=\"text-align: right;\">\n",
       "      <th></th>\n",
       "      <th>name</th>\n",
       "      <th>platform</th>\n",
       "      <th>year_of_release</th>\n",
       "      <th>genre</th>\n",
       "      <th>na_sales</th>\n",
       "      <th>eu_sales</th>\n",
       "      <th>jp_sales</th>\n",
       "      <th>other_sales</th>\n",
       "      <th>critic_score</th>\n",
       "      <th>user_score</th>\n",
       "      <th>rating</th>\n",
       "    </tr>\n",
       "  </thead>\n",
       "  <tbody>\n",
       "    <tr>\n",
       "      <th>1</th>\n",
       "      <td>Super Mario Bros.</td>\n",
       "      <td>NES</td>\n",
       "      <td>1985.0</td>\n",
       "      <td>Platform</td>\n",
       "      <td>29.08</td>\n",
       "      <td>3.58</td>\n",
       "      <td>6.81</td>\n",
       "      <td>0.77</td>\n",
       "      <td>NaN</td>\n",
       "      <td>NaN</td>\n",
       "      <td>NaN</td>\n",
       "    </tr>\n",
       "    <tr>\n",
       "      <th>4</th>\n",
       "      <td>Pokemon Red/Pokemon Blue</td>\n",
       "      <td>GB</td>\n",
       "      <td>1996.0</td>\n",
       "      <td>Role-Playing</td>\n",
       "      <td>11.27</td>\n",
       "      <td>8.89</td>\n",
       "      <td>10.22</td>\n",
       "      <td>1.00</td>\n",
       "      <td>NaN</td>\n",
       "      <td>NaN</td>\n",
       "      <td>NaN</td>\n",
       "    </tr>\n",
       "    <tr>\n",
       "      <th>5</th>\n",
       "      <td>Tetris</td>\n",
       "      <td>GB</td>\n",
       "      <td>1989.0</td>\n",
       "      <td>Puzzle</td>\n",
       "      <td>23.20</td>\n",
       "      <td>2.26</td>\n",
       "      <td>4.22</td>\n",
       "      <td>0.58</td>\n",
       "      <td>NaN</td>\n",
       "      <td>NaN</td>\n",
       "      <td>NaN</td>\n",
       "    </tr>\n",
       "    <tr>\n",
       "      <th>9</th>\n",
       "      <td>Duck Hunt</td>\n",
       "      <td>NES</td>\n",
       "      <td>1984.0</td>\n",
       "      <td>Shooter</td>\n",
       "      <td>26.93</td>\n",
       "      <td>0.63</td>\n",
       "      <td>0.28</td>\n",
       "      <td>0.47</td>\n",
       "      <td>NaN</td>\n",
       "      <td>NaN</td>\n",
       "      <td>NaN</td>\n",
       "    </tr>\n",
       "    <tr>\n",
       "      <th>10</th>\n",
       "      <td>Nintendogs</td>\n",
       "      <td>DS</td>\n",
       "      <td>2005.0</td>\n",
       "      <td>Simulation</td>\n",
       "      <td>9.05</td>\n",
       "      <td>10.95</td>\n",
       "      <td>1.93</td>\n",
       "      <td>2.74</td>\n",
       "      <td>NaN</td>\n",
       "      <td>NaN</td>\n",
       "      <td>NaN</td>\n",
       "    </tr>\n",
       "    <tr>\n",
       "      <th>...</th>\n",
       "      <td>...</td>\n",
       "      <td>...</td>\n",
       "      <td>...</td>\n",
       "      <td>...</td>\n",
       "      <td>...</td>\n",
       "      <td>...</td>\n",
       "      <td>...</td>\n",
       "      <td>...</td>\n",
       "      <td>...</td>\n",
       "      <td>...</td>\n",
       "      <td>...</td>\n",
       "    </tr>\n",
       "    <tr>\n",
       "      <th>16439</th>\n",
       "      <td>Samurai Warriors: Sanada Maru</td>\n",
       "      <td>PS3</td>\n",
       "      <td>2016.0</td>\n",
       "      <td>Action</td>\n",
       "      <td>0.00</td>\n",
       "      <td>0.00</td>\n",
       "      <td>0.01</td>\n",
       "      <td>0.00</td>\n",
       "      <td>NaN</td>\n",
       "      <td>NaN</td>\n",
       "      <td>NaN</td>\n",
       "    </tr>\n",
       "    <tr>\n",
       "      <th>16440</th>\n",
       "      <td>LMA Manager 2007</td>\n",
       "      <td>X360</td>\n",
       "      <td>2006.0</td>\n",
       "      <td>Sports</td>\n",
       "      <td>0.00</td>\n",
       "      <td>0.01</td>\n",
       "      <td>0.00</td>\n",
       "      <td>0.00</td>\n",
       "      <td>NaN</td>\n",
       "      <td>NaN</td>\n",
       "      <td>NaN</td>\n",
       "    </tr>\n",
       "    <tr>\n",
       "      <th>16441</th>\n",
       "      <td>Haitaka no Psychedelica</td>\n",
       "      <td>PSV</td>\n",
       "      <td>2016.0</td>\n",
       "      <td>Adventure</td>\n",
       "      <td>0.00</td>\n",
       "      <td>0.00</td>\n",
       "      <td>0.01</td>\n",
       "      <td>0.00</td>\n",
       "      <td>NaN</td>\n",
       "      <td>NaN</td>\n",
       "      <td>NaN</td>\n",
       "    </tr>\n",
       "    <tr>\n",
       "      <th>16442</th>\n",
       "      <td>Spirits &amp; Spells</td>\n",
       "      <td>GBA</td>\n",
       "      <td>2003.0</td>\n",
       "      <td>Platform</td>\n",
       "      <td>0.01</td>\n",
       "      <td>0.00</td>\n",
       "      <td>0.00</td>\n",
       "      <td>0.00</td>\n",
       "      <td>NaN</td>\n",
       "      <td>NaN</td>\n",
       "      <td>NaN</td>\n",
       "    </tr>\n",
       "    <tr>\n",
       "      <th>16443</th>\n",
       "      <td>Winning Post 8 2016</td>\n",
       "      <td>PSV</td>\n",
       "      <td>2016.0</td>\n",
       "      <td>Simulation</td>\n",
       "      <td>0.00</td>\n",
       "      <td>0.00</td>\n",
       "      <td>0.01</td>\n",
       "      <td>0.00</td>\n",
       "      <td>NaN</td>\n",
       "      <td>NaN</td>\n",
       "      <td>NaN</td>\n",
       "    </tr>\n",
       "  </tbody>\n",
       "</table>\n",
       "<p>6676 rows × 11 columns</p>\n",
       "</div>"
      ],
      "text/plain": [
       "                                name platform  year_of_release         genre  \\\n",
       "1                  Super Mario Bros.      NES           1985.0      Platform   \n",
       "4           Pokemon Red/Pokemon Blue       GB           1996.0  Role-Playing   \n",
       "5                             Tetris       GB           1989.0        Puzzle   \n",
       "9                          Duck Hunt      NES           1984.0       Shooter   \n",
       "10                        Nintendogs       DS           2005.0    Simulation   \n",
       "...                              ...      ...              ...           ...   \n",
       "16439  Samurai Warriors: Sanada Maru      PS3           2016.0        Action   \n",
       "16440               LMA Manager 2007     X360           2006.0        Sports   \n",
       "16441        Haitaka no Psychedelica      PSV           2016.0     Adventure   \n",
       "16442               Spirits & Spells      GBA           2003.0      Platform   \n",
       "16443            Winning Post 8 2016      PSV           2016.0    Simulation   \n",
       "\n",
       "       na_sales  eu_sales  jp_sales  other_sales  critic_score user_score  \\\n",
       "1         29.08      3.58      6.81         0.77           NaN        NaN   \n",
       "4         11.27      8.89     10.22         1.00           NaN        NaN   \n",
       "5         23.20      2.26      4.22         0.58           NaN        NaN   \n",
       "9         26.93      0.63      0.28         0.47           NaN        NaN   \n",
       "10         9.05     10.95      1.93         2.74           NaN        NaN   \n",
       "...         ...       ...       ...          ...           ...        ...   \n",
       "16439      0.00      0.00      0.01         0.00           NaN        NaN   \n",
       "16440      0.00      0.01      0.00         0.00           NaN        NaN   \n",
       "16441      0.00      0.00      0.01         0.00           NaN        NaN   \n",
       "16442      0.01      0.00      0.00         0.00           NaN        NaN   \n",
       "16443      0.00      0.00      0.01         0.00           NaN        NaN   \n",
       "\n",
       "      rating  \n",
       "1        NaN  \n",
       "4        NaN  \n",
       "5        NaN  \n",
       "9        NaN  \n",
       "10       NaN  \n",
       "...      ...  \n",
       "16439    NaN  \n",
       "16440    NaN  \n",
       "16441    NaN  \n",
       "16442    NaN  \n",
       "16443    NaN  \n",
       "\n",
       "[6676 rows x 11 columns]"
      ]
     },
     "execution_count": 20,
     "metadata": {},
     "output_type": "execute_result"
    }
   ],
   "source": [
    "data.query('rating.isna()')"
   ]
  },
  {
   "cell_type": "code",
   "execution_count": 21,
   "id": "149de36e",
   "metadata": {},
   "outputs": [
    {
     "data": {
      "text/plain": [
       "array(['E', nan, 'M', 'T', 'E10+', 'K-A', 'AO', 'EC', 'RP'], dtype=object)"
      ]
     },
     "execution_count": 21,
     "metadata": {},
     "output_type": "execute_result"
    }
   ],
   "source": [
    "data['rating'].unique()"
   ]
  },
  {
   "cell_type": "markdown",
   "id": "03ff657c",
   "metadata": {},
   "source": [
    "Пропуски могут быть заменены значением RP - категория ещё не присвоена, так как отсутвие значения как раз это и подразумевает."
   ]
  },
  {
   "cell_type": "code",
   "execution_count": 22,
   "id": "0d7b7554",
   "metadata": {},
   "outputs": [],
   "source": [
    "data['rating'] = data['rating'].fillna('RP')"
   ]
  },
  {
   "cell_type": "markdown",
   "id": "980bf5ca",
   "metadata": {},
   "source": [
    "Также в списке присутвует значение K-A, что по факту просто является первоначальным названием рейтинга E. Поэтому обновим значения K-A на актуальный ее аналог."
   ]
  },
  {
   "cell_type": "code",
   "execution_count": 23,
   "id": "71c4b761",
   "metadata": {},
   "outputs": [],
   "source": [
    "data.loc[data['rating']=='K-A', 'rating'] = 'E'"
   ]
  },
  {
   "cell_type": "markdown",
   "id": "383139fa",
   "metadata": {},
   "source": [
    "#### Преобразуем данные в нужные типы. "
   ]
  },
  {
   "cell_type": "markdown",
   "id": "872e0593",
   "metadata": {},
   "source": [
    "Для начала выясним, какие типы данных имеются:\n"
   ]
  },
  {
   "cell_type": "code",
   "execution_count": 24,
   "id": "b09276a2",
   "metadata": {
    "scrolled": true
   },
   "outputs": [
    {
     "data": {
      "text/plain": [
       "name                object\n",
       "platform            object\n",
       "year_of_release    float64\n",
       "genre               object\n",
       "na_sales           float64\n",
       "eu_sales           float64\n",
       "jp_sales           float64\n",
       "other_sales        float64\n",
       "critic_score       float64\n",
       "user_score          object\n",
       "rating              object\n",
       "dtype: object"
      ]
     },
     "execution_count": 24,
     "metadata": {},
     "output_type": "execute_result"
    }
   ],
   "source": [
    "data.dtypes"
   ]
  },
  {
   "cell_type": "markdown",
   "id": "e202afc7",
   "metadata": {},
   "source": [
    "- столбец User_Score содержит оценку пользователей, но так как ранее там присутствовало значение tbd, то тип был str. После замены данного значения изменим тип столбца на float.\n",
    "- Мы могли бы заменить значения столбцов year_of_release и critic_score на int, чтобы сэкономить память, но учитывая, что в данных присутсвуют пропуски None, которые было решено не убирать, то оставим эти столбцы без изменений."
   ]
  },
  {
   "cell_type": "code",
   "execution_count": 25,
   "id": "1ff5a56d",
   "metadata": {},
   "outputs": [],
   "source": [
    "data['user_score']=data['user_score'].astype('float64')"
   ]
  },
  {
   "cell_type": "markdown",
   "id": "0bf412ca",
   "metadata": {},
   "source": [
    "#### Проверим данные на наличие явных и неявных дубликатов "
   ]
  },
  {
   "cell_type": "code",
   "execution_count": 26,
   "id": "739e9bb0",
   "metadata": {},
   "outputs": [
    {
     "data": {
      "text/plain": [
       "False    16444\n",
       "dtype: int64"
      ]
     },
     "execution_count": 26,
     "metadata": {},
     "output_type": "execute_result"
    }
   ],
   "source": [
    "data.duplicated().value_counts()"
   ]
  },
  {
   "cell_type": "markdown",
   "id": "83ac2af0",
   "metadata": {},
   "source": [
    "Явных дубликатов нет. Посмотрим какие названия игр присутсвуют."
   ]
  },
  {
   "cell_type": "code",
   "execution_count": 27,
   "id": "296f7039",
   "metadata": {
    "scrolled": true
   },
   "outputs": [
    {
     "data": {
      "text/plain": [
       "['Wii Sports',\n",
       " 'Super Mario Bros.',\n",
       " 'Mario Kart Wii',\n",
       " 'Wii Sports Resort',\n",
       " 'Pokemon Red/Pokemon Blue',\n",
       " 'Tetris',\n",
       " 'New Super Mario Bros.',\n",
       " 'Wii Play',\n",
       " 'New Super Mario Bros. Wii',\n",
       " 'Duck Hunt',\n",
       " 'Nintendogs',\n",
       " 'Mario Kart DS',\n",
       " 'Pokemon Gold/Pokemon Silver',\n",
       " 'Wii Fit',\n",
       " 'Kinect Adventures!',\n",
       " 'Wii Fit Plus',\n",
       " 'Grand Theft Auto V',\n",
       " 'Grand Theft Auto: San Andreas',\n",
       " 'Super Mario World',\n",
       " 'Brain Age: Train Your Brain in Minutes a Day',\n",
       " 'Pokemon Diamond/Pokemon Pearl',\n",
       " 'Super Mario Land',\n",
       " 'Super Mario Bros. 3',\n",
       " 'Grand Theft Auto: Vice City',\n",
       " 'Pokemon Ruby/Pokemon Sapphire',\n",
       " 'Brain Age 2: More Training in Minutes a Day',\n",
       " 'Pokemon Black/Pokemon White',\n",
       " 'Gran Turismo 3: A-Spec',\n",
       " 'Call of Duty: Modern Warfare 3',\n",
       " 'Pokémon Yellow: Special Pikachu Edition',\n",
       " 'Call of Duty: Black Ops 3',\n",
       " 'Call of Duty: Black Ops',\n",
       " 'Pokemon X/Pokemon Y',\n",
       " 'Call of Duty: Black Ops II',\n",
       " 'Call of Duty: Modern Warfare 2',\n",
       " 'Grand Theft Auto III',\n",
       " 'Super Smash Bros. Brawl',\n",
       " 'Mario Kart 7',\n",
       " 'Animal Crossing: Wild World',\n",
       " 'Halo 3',\n",
       " 'Super Mario 64',\n",
       " 'Pokemon HeartGold/Pokemon SoulSilver',\n",
       " 'Pokemon Omega Ruby/Pokemon Alpha Sapphire',\n",
       " 'Gran Turismo 4',\n",
       " 'Super Mario Galaxy',\n",
       " 'Super Mario Land 2: 6 Golden Coins',\n",
       " 'Grand Theft Auto IV',\n",
       " 'Gran Turismo',\n",
       " 'Super Mario 3D Land',\n",
       " 'Gran Turismo 5',\n",
       " 'Super Mario All-Stars',\n",
       " 'Pokemon FireRed/Pokemon LeafGreen',\n",
       " 'Call of Duty: Ghosts',\n",
       " 'Just Dance 3',\n",
       " 'New Super Mario Bros. 2',\n",
       " 'Mario Kart 64',\n",
       " 'Halo: Reach',\n",
       " 'Final Fantasy VII',\n",
       " 'Halo 4',\n",
       " 'Gran Turismo 2',\n",
       " 'Just Dance 2',\n",
       " 'Call of Duty 4: Modern Warfare',\n",
       " 'Donkey Kong Country',\n",
       " 'Minecraft',\n",
       " 'Animal Crossing: New Leaf',\n",
       " 'Mario Party DS',\n",
       " 'The Elder Scrolls V: Skyrim',\n",
       " 'Super Mario Kart',\n",
       " 'FIFA 16',\n",
       " 'Halo 2',\n",
       " 'Wii Party',\n",
       " 'Mario Party 8',\n",
       " 'FIFA Soccer 13',\n",
       " 'GoldenEye 007',\n",
       " 'Pokemon Black 2/Pokemon White 2',\n",
       " 'Final Fantasy X',\n",
       " 'The Sims 3',\n",
       " 'Mario & Sonic at the Olympic Games',\n",
       " 'Star Wars Battlefront (2015)',\n",
       " 'Final Fantasy VIII',\n",
       " 'Pac-Man',\n",
       " 'Pokémon Platinum Version',\n",
       " 'Grand Theft Auto: Liberty City Stories',\n",
       " 'Call of Duty: Advanced Warfare',\n",
       " 'The Legend of Zelda: Ocarina of Time',\n",
       " 'FIFA 17',\n",
       " 'Crash Bandicoot 2: Cortex Strikes Back',\n",
       " 'Super Smash Bros. for Wii U and 3DS',\n",
       " 'Super Mario Galaxy 2',\n",
       " 'Super Mario Bros. 2',\n",
       " 'Call of Duty: World at War',\n",
       " 'Battlefield 3',\n",
       " 'Need for Speed Underground',\n",
       " 'Just Dance',\n",
       " 'Fallout 4',\n",
       " 'Tekken 3',\n",
       " 'The Legend of Zelda: Twilight Princess',\n",
       " 'Pokemon Sun/Moon',\n",
       " 'Crash Bandicoot 3: Warped',\n",
       " 'Mario Kart 8',\n",
       " 'Super Smash Bros. Melee',\n",
       " 'Mario Kart: Double Dash!!',\n",
       " 'Need for Speed Underground 2',\n",
       " 'Medal of Honor: Frontline',\n",
       " 'Crash Bandicoot',\n",
       " 'Just Dance 4',\n",
       " 'Gears of War 2',\n",
       " \"Uncharted 3: Drake's Deception\",\n",
       " 'Zumba Fitness',\n",
       " 'Uncharted 2: Among Thieves',\n",
       " 'FIFA 12',\n",
       " 'Big Brain Academy',\n",
       " 'The Legend of Zelda',\n",
       " 'Red Dead Redemption',\n",
       " 'FIFA 14',\n",
       " \"Assassin's Creed III\",\n",
       " 'Donkey Kong Country Returns',\n",
       " 'Halo: Combat Evolved',\n",
       " 'Pokémon Emerald Version',\n",
       " 'Kingdom Hearts',\n",
       " 'Pokémon Crystal Version',\n",
       " 'Halo 3: ODST',\n",
       " 'Super Mario Sunshine',\n",
       " 'Street Fighter II: The World Warrior',\n",
       " 'World of Warcraft',\n",
       " 'Driver',\n",
       " 'Gears of War 3',\n",
       " 'Kinect Sports',\n",
       " 'Gears of War',\n",
       " 'FIFA 15',\n",
       " 'Metal Gear Solid 2: Sons of Liberty',\n",
       " 'Sonic the Hedgehog 2',\n",
       " 'Metal Gear Solid',\n",
       " 'Metal Gear Solid 4: Guns of the Patriots',\n",
       " 'Final Fantasy XII',\n",
       " 'The Last of Us',\n",
       " 'LittleBigPlanet',\n",
       " 'Resident Evil 2',\n",
       " 'Dragon Quest IX: Sentinels of the Starry Skies',\n",
       " 'Tekken 2',\n",
       " 'Destiny',\n",
       " 'LEGO Star Wars: The Complete Saga',\n",
       " 'Cooking Mama',\n",
       " 'Super Smash Bros.',\n",
       " \"Assassin's Creed II\",\n",
       " \"Assassin's Creed\",\n",
       " 'Forza Motorsport 3',\n",
       " 'Super Mario Advance',\n",
       " 'Monster Hunter Freedom Unite',\n",
       " 'Batman: Arkham City',\n",
       " 'Mario Kart: Super Circuit',\n",
       " 'Pokemon Stadium',\n",
       " 'Crash Bandicoot: The Wrath of Cortex',\n",
       " \"Uncharted 4: A Thief's End\",\n",
       " 'Dr. Mario',\n",
       " 'Final Fantasy XIII',\n",
       " 'Pokemon Pinball',\n",
       " 'Final Fantasy IX',\n",
       " 'Final Fantasy X-2',\n",
       " 'Donkey Kong 64',\n",
       " 'Tomb Raider II',\n",
       " 'Tomodachi Life',\n",
       " 'New Super Mario Bros. U',\n",
       " 'Dragon Quest VIII: Journey of the Cursed King',\n",
       " 'Professor Layton and the Curious Village',\n",
       " 'Super Mario Land 3: Wario Land',\n",
       " \"Donkey Kong Country 2: Diddy's Kong Quest\",\n",
       " 'Diablo III',\n",
       " 'Medal of Honor: Rising Sun',\n",
       " \"Kirby's Dream Land\",\n",
       " 'Microsoft Flight Simulator',\n",
       " 'Guitar Hero II',\n",
       " 'Fable III',\n",
       " 'Resident Evil 5',\n",
       " 'The Legend of Zelda: Phantom Hourglass',\n",
       " 'FIFA Soccer 11',\n",
       " 'Resident Evil',\n",
       " 'Grand Theft Auto: Vice City Stories',\n",
       " \"Tony Hawk's Pro Skater\",\n",
       " 'Warzone 2100',\n",
       " 'Spyro the Dragon',\n",
       " 'Guitar Hero III: Legends of Rock',\n",
       " \"Link's Crossbow Training\",\n",
       " 'Pokemon Mystery Dungeon: Explorers of Time/Explorers of Darkness',\n",
       " 'Fallout 3',\n",
       " \"Uncharted: Drake's Fortune\",\n",
       " 'Madden NFL 06',\n",
       " 'Diddy Kong Racing',\n",
       " 'Monster Hunter Freedom 3',\n",
       " 'StarCraft II: Wings of Liberty',\n",
       " 'God of War III',\n",
       " 'Crash Team Racing',\n",
       " 'Driver 2',\n",
       " 'The Simpsons: Hit & Run',\n",
       " \"Tony Hawk's Pro Skater 2\",\n",
       " 'The Lord of the Rings: The Two Towers',\n",
       " 'Tomb Raider',\n",
       " 'Animal Crossing: City Folk',\n",
       " 'Uncharted: The Nathan Drake Collection',\n",
       " 'The Legend of Zelda: A Link to the Past',\n",
       " 'The Legend of Zelda: The Wind Waker',\n",
       " \"Luigi's Mansion: Dark Moon\",\n",
       " 'Forza Motorsport 4',\n",
       " 'Mario & Sonic at the Olympic Winter Games',\n",
       " 'Madden NFL 2005',\n",
       " 'Pitfall!',\n",
       " 'Madden NFL 07',\n",
       " 'Halo 5: Guardians',\n",
       " 'Spider-Man: The Movie',\n",
       " 'Dragon Quest VII: Warriors of Eden',\n",
       " 'Call of Duty: Infinite Warfare',\n",
       " 'God of War',\n",
       " 'Splatoon',\n",
       " 'Nintendo Land',\n",
       " \"Tony Hawk's Pro Skater 3\",\n",
       " 'Winning Eleven: Pro Evolution Soccer 2007',\n",
       " 'The Elder Scrolls IV: Oblivion',\n",
       " 'Zelda II: The Adventure of Link',\n",
       " 'Need for Speed: Most Wanted',\n",
       " 'Michael Jackson: The Experience',\n",
       " 'Resistance: Fall of Man',\n",
       " 'Sonic the Hedgehog',\n",
       " 'Kingdom Hearts II',\n",
       " 'Super Mario 3D World',\n",
       " 'Asteroids',\n",
       " 'Fable II',\n",
       " 'Namco Museum',\n",
       " 'Batman: Arkham Asylum',\n",
       " 'Metal Gear Solid 3: Snake Eater',\n",
       " \"Assassin's Creed: Revelations\",\n",
       " 'Daxter',\n",
       " 'Warcraft II: Tides of Darkness',\n",
       " 'FIFA Soccer 06',\n",
       " 'EyeToy Play',\n",
       " 'Gran Turismo 5 Prologue',\n",
       " 'Teenage Mutant Ninja Turtles',\n",
       " 'Street Fighter IV',\n",
       " 'Excitebike',\n",
       " 'Frogger',\n",
       " 'Madden NFL 2003',\n",
       " 'Half-Life',\n",
       " \"Super Mario World 2: Yoshi's Island\",\n",
       " 'FIFA Soccer 07',\n",
       " 'Street Fighter II Turbo',\n",
       " 'World of Warcraft: The Burning Crusade',\n",
       " 'Battlefield 1',\n",
       " 'God of War II',\n",
       " 'World Soccer Winning Eleven 9',\n",
       " 'Fallout: New Vegas',\n",
       " 'Forza Motorsport 2',\n",
       " 'Carnival Games',\n",
       " 'Watch Dogs',\n",
       " 'Namco Museum Vol.3',\n",
       " 'Tekken Tag Tournament',\n",
       " 'Far Cry 4',\n",
       " 'Star Fox 64',\n",
       " 'Golf',\n",
       " 'Namco Museum: 50th Anniversary',\n",
       " 'Left 4 Dead 2',\n",
       " 'The Witcher 3: Wild Hunt',\n",
       " \"Assassin's Creed: Unity\",\n",
       " 'Batman: Arkham Knight',\n",
       " 'The Legend of Zelda: Skyward Sword',\n",
       " 'Professor Layton and the Diabolical Box',\n",
       " 'Donkey Kong Land',\n",
       " 'EA Sports Active',\n",
       " \"Tony Hawk's Underground\",\n",
       " 'Monster Hunter 4 Ultimate',\n",
       " 'NBA 2K16',\n",
       " 'Tekken 5',\n",
       " 'Dragon Warrior III',\n",
       " 'MotorStorm',\n",
       " 'Nintendogs + cats',\n",
       " 'World Soccer Winning Eleven 8 International',\n",
       " 'Sports Champions',\n",
       " 'Namco Museum Vol.1',\n",
       " \"The Legend of Zelda: Link's Awakening\",\n",
       " 'Flash Focus: Vision Training in Minutes a Day',\n",
       " \"Tom Clancy's The Division\",\n",
       " 'Big Brain Academy: Wii Degree',\n",
       " \"Resident Evil Director's Cut\",\n",
       " \"Mario & Luigi: Bowser's Inside Story\",\n",
       " 'LEGO Indiana Jones: The Original Adventures',\n",
       " 'The Sims: Unleashed',\n",
       " 'Ratchet & Clank: Size Matters',\n",
       " \"Harry Potter and the Sorcerer's Stone\",\n",
       " 'Mario & Sonic at the London 2012 Olympic Games',\n",
       " 'Resident Evil 3: Nemesis',\n",
       " 'Super Paper Mario',\n",
       " 'Spyro: Year of the Dragon',\n",
       " \"Assassin's Creed IV: Black Flag\",\n",
       " 'FIFA Soccer 2005',\n",
       " 'Pokémon Trading Card Game',\n",
       " 'Friend Collection',\n",
       " \"Tony Hawk's Pro Skater 4\",\n",
       " 'MySims',\n",
       " 'Midnight Club 3: DUB Edition',\n",
       " 'Banjo-Kazooie',\n",
       " 'SOCOM: U.S. Navy SEALs',\n",
       " 'Jak and Daxter: The Precursor Legacy',\n",
       " 'Pokemon Snap',\n",
       " 'Pro Evolution Soccer 2008',\n",
       " 'Resident Evil 4',\n",
       " 'Guitar Hero: World Tour',\n",
       " 'FIFA Soccer 10',\n",
       " 'Star Wars: Battlefront',\n",
       " 'Doom II: Hell on Earth',\n",
       " 'The Simpsons: Road Rage',\n",
       " \"Luigi's Mansion\",\n",
       " 'Battlefield 4',\n",
       " 'Star Wars: Battlefront II',\n",
       " 'Just Dance 2014',\n",
       " 'Cooking Mama 2: Dinner With Friends',\n",
       " 'WWF SmackDown!',\n",
       " 'Croc: Legend of the Gobbos',\n",
       " 'The Getaway',\n",
       " 'Tomb Raider III: Adventures of Lara Croft',\n",
       " 'James Bond 007: Agent Under Fire',\n",
       " 'LEGO Star Wars: The Video Game',\n",
       " 'Rugrats in Paris: The Movie',\n",
       " \"Spyro 2: Ripto's Rage!\",\n",
       " 'Left 4 Dead',\n",
       " \"Donkey Kong Country 3: Dixie Kong's Double Trouble!\",\n",
       " 'Kung Fu',\n",
       " \"Assassin's Creed: Brotherhood\",\n",
       " 'Battlefield: Bad Company 2',\n",
       " 'Guitar Hero: On Tour',\n",
       " 'Clubhouse Games',\n",
       " 'Monster Hunter 4',\n",
       " 'Borderlands',\n",
       " 'Tekken 4',\n",
       " 'Final Fantasy III',\n",
       " 'Grand Theft Auto 2',\n",
       " 'Metal Gear Solid V: The Phantom Pain',\n",
       " 'Spider-Man 2',\n",
       " 'F-1 Race',\n",
       " 'FIFA Soccer 2003',\n",
       " 'LittleBigPlanet 2',\n",
       " 'Crash Bash',\n",
       " \"Assassin's Creed Syndicate\",\n",
       " 'LEGO Batman: The Videogame',\n",
       " 'WWF War Zone',\n",
       " \"The Legend of Zelda: Majora's Mask\",\n",
       " 'Far Cry 3',\n",
       " 'Rugrats: Search For Reptar',\n",
       " 'English Training: Have Fun Improving Your Skills!',\n",
       " 'James Bond 007: Nightfire',\n",
       " 'Ratchet & Clank',\n",
       " 'Monster Hunter X',\n",
       " 'Star Wars Episode III: Revenge of the Sith',\n",
       " 'The Legend of Zelda: Spirit Tracks',\n",
       " 'Max Payne',\n",
       " 'The Lord of the Rings: The Return of the King',\n",
       " 'Yokai Watch 2 Ganso/Honke',\n",
       " 'Gears of War: Ultimate Edition',\n",
       " 'True Crime: Streets of LA',\n",
       " 'Professor Layton and the Unwound Future',\n",
       " 'Gran Turismo (PSP)',\n",
       " 'Wii Music',\n",
       " 'Tekken',\n",
       " 'Madden NFL 16',\n",
       " 'Gran Turismo 6',\n",
       " 'Halo: The Master Chief Collection',\n",
       " '007: Tomorrow Never Dies',\n",
       " 'Super Mario Maker',\n",
       " 'WWF SmackDown! 2: Know Your Role',\n",
       " 'Baseball',\n",
       " 'Killer Instinct',\n",
       " 'Dragon Quest VI: Maboroshi no Daichi',\n",
       " 'God of War: Chains of Olympus',\n",
       " 'Enter the Matrix',\n",
       " 'Crisis Core: Final Fantasy VII',\n",
       " 'Dance Central',\n",
       " 'L.A. Noire',\n",
       " 'Ace Combat 04: Shattered Skies',\n",
       " 'Animal Crossing',\n",
       " 'FIFA Soccer 08',\n",
       " 'Club Penguin: Elite Penguin Force',\n",
       " 'Spider-Man',\n",
       " 'Mario Party 9',\n",
       " 'Need for Speed III: Hot Pursuit',\n",
       " 'Star Wars Episode I Racer',\n",
       " 'Sonic Rush',\n",
       " 'Dragon Warrior IV',\n",
       " 'Rhythm Heaven',\n",
       " 'Personal Trainer: Cooking',\n",
       " 'The Legend of Zelda: A Link Between Worlds',\n",
       " 'Resident Evil 6',\n",
       " 'Mass Effect 2',\n",
       " 'Dragon Ball Z: Budokai',\n",
       " 'Madden NFL 2002',\n",
       " 'World Class Track Meet',\n",
       " 'Donkey Kong',\n",
       " 'The Sims: Vacation',\n",
       " 'Animal Crossing: Happy Home Designer',\n",
       " 'The Sims 4',\n",
       " 'Borderlands 2',\n",
       " 'Kung Fu Panda',\n",
       " 'Mass Effect 3',\n",
       " 'Heavy Rain',\n",
       " 'Rayman',\n",
       " 'Saints Row 2',\n",
       " \"Tom Clancy's Splinter Cell\",\n",
       " \"Mike Tyson's Punch-Out!!\",\n",
       " 'WWE SmackDown! Shut Your Mouth',\n",
       " 'Killzone 2',\n",
       " 'Epic Mickey',\n",
       " 'NBA 2K13',\n",
       " 'Dragon Ball Z: Budokai Tenkaichi 3',\n",
       " 'Star Fox',\n",
       " 'The Sims: Livin Large',\n",
       " 'World Soccer Winning Eleven 6 International',\n",
       " 'Devil May Cry',\n",
       " 'Star Wars: The Old Republic',\n",
       " 'Middle-Earth: Shadow of Mordor',\n",
       " 'Sonic Heroes',\n",
       " 'Hitman 2: Silent Assassin',\n",
       " 'Titanfall',\n",
       " 'Wave Race 64',\n",
       " 'SOCOM II: U.S. Navy SEALs',\n",
       " 'WWE SmackDown! vs. RAW 2006',\n",
       " 'Pac-Man Collection',\n",
       " 'inFAMOUS',\n",
       " 'Kirby Super Star Ultra',\n",
       " 'Mass Effect',\n",
       " 'Sonic Mega Collection Plus',\n",
       " 'World Soccer Winning Eleven 7 International',\n",
       " 'Sega Superstars Tennis',\n",
       " 'Hot Shots Golf 3',\n",
       " 'Cooking Mama: Cook Off',\n",
       " 'Call of Duty: Finest Hour',\n",
       " 'WarioWare: Smooth Moves',\n",
       " 'Syphon Filter',\n",
       " 'Imagine: Babyz',\n",
       " 'Colin McRae Rally',\n",
       " 'Madden NFL 13',\n",
       " 'The Elder Scrolls III: Morrowind',\n",
       " 'Command & Conquer: Red Alert',\n",
       " 'F-Zero',\n",
       " \"Yoshi's Story\",\n",
       " 'Mortal Kombat',\n",
       " 'Madden NFL 10',\n",
       " 'WWE SmackDown! vs. Raw',\n",
       " 'BioShock',\n",
       " 'Metroid Prime',\n",
       " 'Finding Nemo',\n",
       " 'Zumba Fitness 2',\n",
       " 'Myst',\n",
       " 'Medal of Honor',\n",
       " 'Imagine: Fashion Designer',\n",
       " 'WWE SmackDown! Here Comes the Pain',\n",
       " 'Hot Shots Golf',\n",
       " \"A Bug's Life\",\n",
       " 'WWF SmackDown! Just Bring It',\n",
       " 'inFAMOUS: Second Son',\n",
       " 'Dragon Quest V: Tenkuu no Hanayome',\n",
       " 'Mortal Kombat Trilogy',\n",
       " 'Monster Hunter Tri',\n",
       " 'NBA Street',\n",
       " 'Jak II',\n",
       " 'Ratchet & Clank: Going Commando',\n",
       " 'Need for Speed: Hot Pursuit',\n",
       " \"Skylanders: Spyro's Adventure\",\n",
       " 'Mortal Kombat X',\n",
       " 'The Sims',\n",
       " 'Killzone 3',\n",
       " 'Star Wars: The Force Unleashed',\n",
       " \"Yoshi's Island DS\",\n",
       " 'Saints Row: The Third',\n",
       " 'Missile Command',\n",
       " 'Mario Paint',\n",
       " 'Tekken 6',\n",
       " 'Pokémon Stadium 2',\n",
       " 'Metroid',\n",
       " 'Sonic and the Secret Rings',\n",
       " 'Onimusha: Warlords',\n",
       " 'Mario Party',\n",
       " 'Call of Duty 3',\n",
       " 'Madden NFL 12',\n",
       " 'LEGO Star Wars II: The Original Trilogy',\n",
       " 'Killzone: Shadow Fall',\n",
       " 'Madden NFL 11',\n",
       " 'Burnout 3: Takedown',\n",
       " 'Yokai Watch 2 Shinuchi',\n",
       " 'Mario vs. Donkey Kong: Mini-Land Mayhem!',\n",
       " 'Professor Layton and the Last Specter',\n",
       " 'Call Of Duty 2: Big Red One',\n",
       " 'Fable',\n",
       " 'Hannah Montana',\n",
       " 'Super Mario Bros.: The Lost Levels',\n",
       " 'Need for Speed: Shift',\n",
       " 'Star Wars: Shadows of the Empire',\n",
       " 'Medal of Honor Heroes',\n",
       " 'Final Fantasy XIII-2',\n",
       " 'Midnight Club: Street Racing',\n",
       " 'Skate 3',\n",
       " 'ESPN NFL 2K5',\n",
       " 'Halo Wars',\n",
       " 'NBA 2K12',\n",
       " 'Pac-Man: Adventures in Time',\n",
       " 'Harry Potter and the Chamber of Secrets',\n",
       " 'Streets of Rage',\n",
       " 'God of War Collection',\n",
       " 'NBA Live 2005',\n",
       " 'Mario Strikers Charged',\n",
       " 'FIFA Soccer 09',\n",
       " 'Style Savvy',\n",
       " 'WWE SmackDown vs. RAW 2007',\n",
       " 'Ratchet & Clank: Up Your Arsenal',\n",
       " 'Madden NFL 08',\n",
       " 'Monster Hunter Freedom 2',\n",
       " 'Ratchet & Clank Future: Tools of Destruction',\n",
       " 'Super Mario All-Stars: Limited Edition',\n",
       " 'Sonic Adventure 2 Battle',\n",
       " 'Dragon Warrior II',\n",
       " 'Ghostbusters: The Video Game (DS Version)',\n",
       " 'Dragon Age: Origins',\n",
       " 'Pokémon Colosseum',\n",
       " 'Madden NFL 09',\n",
       " 'Crazy Taxi',\n",
       " 'Art Academy',\n",
       " 'NBA 2K14',\n",
       " 'Perfect Dark',\n",
       " 'Skylanders Giants',\n",
       " 'Dragon Warrior',\n",
       " 'Deca Sports',\n",
       " 'PES 2009: Pro Evolution Soccer',\n",
       " 'Mario Party 2',\n",
       " 'Marvel: Ultimate Alliance',\n",
       " 'Rockstar Games Double Pack: Grand Theft Auto III & Grand Theft Auto Vice City',\n",
       " 'Mortal Kombat: Deadly Alliance',\n",
       " 'Game Party',\n",
       " 'Bloodborne',\n",
       " 'Tomb Raider: The Last Revelation',\n",
       " 'Mario Party 4',\n",
       " 'Pure',\n",
       " 'Resistance 2',\n",
       " 'NBA 2K15',\n",
       " 'Final Fantasy V',\n",
       " 'Final Fantasy Tactics',\n",
       " 'Midnight Club: Los Angeles',\n",
       " 'Twisted Metal 2',\n",
       " \"The Sims: Bustin' Out\",\n",
       " 'Riven: The Sequel to Myst',\n",
       " 'LEGO Harry Potter: Years 1-4',\n",
       " 'Need for Speed (2015)',\n",
       " 'Ice Hockey',\n",
       " 'Sonic Adventure',\n",
       " \"Tom Clancy's Rainbow Six: Vegas 2\",\n",
       " 'uDraw Studio',\n",
       " 'Tomb Raider (2013)',\n",
       " 'Need for Speed Carbon: Own the City',\n",
       " 'Dragon Ball Z: Budokai 2',\n",
       " 'pro evolution soccer 2011',\n",
       " 'ATV Offroad Fury',\n",
       " 'Dino Crisis',\n",
       " 'Need for Speed: ProStreet',\n",
       " 'Halo: Combat Evolved Anniversary',\n",
       " 'Tetris Plus',\n",
       " 'Pro Wrestling',\n",
       " 'Theme Hospital',\n",
       " 'Monopoly',\n",
       " 'Guitar Hero',\n",
       " 'WCW/nWo Revenge',\n",
       " 'Yu-Gi-Oh! The Duelists of the Roses',\n",
       " 'Dead Island',\n",
       " 'Half-Life 2',\n",
       " 'The Incredibles',\n",
       " \"Tony Hawk's Underground 2\",\n",
       " \"Kirby's Dream Land 2\",\n",
       " 'Donkey Kong Land II',\n",
       " 'Dragon Warrior Monsters',\n",
       " 'Kinect: Disneyland Adventures',\n",
       " 'WWE SmackDown vs Raw 2008',\n",
       " \"The Legend of Zelda: Majora's Mask 3D\",\n",
       " 'Resident Evil - Code: Veronica X',\n",
       " 'Kinect Sports: Season Two',\n",
       " 'My Fitness Coach',\n",
       " 'Mario Tennis',\n",
       " 'Grand Theft Auto',\n",
       " 'James Bond 007: Everything or Nothing',\n",
       " 'Need For Speed: High Stakes',\n",
       " 'Chrono Trigger',\n",
       " 'Guild Wars 2',\n",
       " 'Cool Boarders 3',\n",
       " 'Paper Mario: Sticker Star',\n",
       " 'WarioWare Touched!',\n",
       " 'Batman: Arkham Origins',\n",
       " 'Yokai Watch Busters',\n",
       " 'Pro Evolution Soccer 2010',\n",
       " 'Mario Bros.',\n",
       " 'Pokemon Ranger: Shadows of Almia',\n",
       " 'TOCA Touring Car Championship',\n",
       " 'Kirby: Nightmare in Dream Land',\n",
       " 'Wario Land 4',\n",
       " \"Sonic's Ultimate Genesis Collection\",\n",
       " 'Far Cry: Primal',\n",
       " \"Onimusha 2: Samurai's Destiny\",\n",
       " 'Cool Boarders 2',\n",
       " 'Paper Mario: The Thousand-Year Door',\n",
       " 'God of War: Ascension',\n",
       " 'Sonic Advance',\n",
       " 'Super Monkey Ball: Banana Blitz',\n",
       " 'Just Dance Kids',\n",
       " 'New Super Luigi U',\n",
       " 'Spyro: Season of Ice',\n",
       " 'Dissidia: Final Fantasy',\n",
       " 'Madden NFL 25',\n",
       " 'Teenage Mutant Ninja Turtles II: The Arcade Game',\n",
       " 'Dance Dance Revolution X2',\n",
       " 'Prince of Persia: The Sands of Time',\n",
       " 'LEGO Marvel Super Heroes',\n",
       " \"The Legend of Zelda: Link's Awakening DX\",\n",
       " \"Tom Clancy's Rainbow Six: Siege\",\n",
       " \"Devil May Cry 3: Dante's Awakening Special Edition\",\n",
       " 'Forza Motorsport 5',\n",
       " 'Rock Band 2',\n",
       " 'Pro Yakyuu Family Stadium',\n",
       " 'Wario Land 3',\n",
       " 'BioShock 2',\n",
       " \"High School Musical: Makin' the Cut!\",\n",
       " 'Star Wars: Knights of the Old Republic',\n",
       " \"Kirby's Pinball Land\",\n",
       " 'Madden NFL 15',\n",
       " 'Pro Evolution Soccer 2012',\n",
       " 'Saints Row',\n",
       " 'Yu-Gi-Oh: Duel Monsters 4',\n",
       " 'ATV Offroad Fury 2',\n",
       " 'Mario & Luigi: Superstar Saga',\n",
       " 'Star Wars: Rogue Squadron',\n",
       " 'Tennis',\n",
       " 'The Sims: House Party',\n",
       " 'Scribblenauts',\n",
       " 'Sonic Unleashed',\n",
       " 'Syphon Filter 2',\n",
       " 'Pokemon Ranger',\n",
       " 'Volleyball',\n",
       " 'Skylanders SWAP Force',\n",
       " 'Overwatch',\n",
       " 'Hitman: Absolution',\n",
       " 'SimCity 2000',\n",
       " 'R.C. Pro-Am',\n",
       " 'Super Mario RPG: Legend of the Seven Stars',\n",
       " 'Mahjong',\n",
       " 'Demon Attack',\n",
       " 'Call of Duty: Roads to Victory',\n",
       " 'Dance Dance Revolution Extreme',\n",
       " 'Final Fantasy Tactics Advance',\n",
       " 'Your Shape featuring Jenny McCarthy',\n",
       " 'Project Gotham Racing',\n",
       " 'Need for Speed: Hot Pursuit 2',\n",
       " 'Dynasty Warriors 4',\n",
       " 'Parasite Eve',\n",
       " 'Tetris DS',\n",
       " 'Project Gotham Racing (JP weekly sales)',\n",
       " 'Scooby-Doo! Night of 100 Frights',\n",
       " 'Battlefield: Hardline',\n",
       " \"Devil May Cry 3: Dante's Awakening\",\n",
       " 'Derby Stallion',\n",
       " 'NBA 2K11',\n",
       " 'Dying Light',\n",
       " 'Yokai Watch',\n",
       " 'Dead Rising',\n",
       " 'World of Warcraft: Cataclysm',\n",
       " 'Tetris Worlds',\n",
       " 'Sim Theme Park',\n",
       " 'Mario Party 5',\n",
       " 'Warcraft: Orcs & Humans',\n",
       " 'Mario & Luigi: Dream Team',\n",
       " 'Portal 2',\n",
       " 'Mario Sports Mix',\n",
       " 'Need for Speed: Most Wanted 5-1-0',\n",
       " 'Spec Ops: Airborne Commando',\n",
       " 'The Sims 2: Pets',\n",
       " 'Dance Dance Revolution: Hottest Party',\n",
       " 'DriveClub',\n",
       " 'Yu-Gi-Oh! The Eternal Duelist Soul',\n",
       " 'UFC 2009 Undisputed',\n",
       " 'Metal Gear Solid: Peace Walker',\n",
       " \"Kirby's Epic Yarn\",\n",
       " 'Wipeout: The Game',\n",
       " 'Pokemon Mystery Dungeon: Red/Blue Rescue Team',\n",
       " 'R4: Ridge Racer Type 4',\n",
       " 'Kingdom Hearts: Birth by Sleep',\n",
       " \"Tom Clancy's Splinter Cell: Conviction\",\n",
       " 'SoulCalibur II',\n",
       " 'Sonic Mega Collection',\n",
       " 'Need For Speed: Undercover',\n",
       " 'Toy Story 3: The Video Game',\n",
       " 'NBA Jam',\n",
       " 'SOCOM: U.S. Navy SEALs: Combined Assault',\n",
       " \"Peter Jackson's King Kong: The Official Game of the Movie\",\n",
       " 'Dance Central 2',\n",
       " 'PGR4 - Project Gotham Racing 4',\n",
       " '1080°: TenEighty Snowboarding',\n",
       " 'NBA Live 2004',\n",
       " 'Call of Duty 2',\n",
       " 'Rayman Raving Rabbids: TV Party',\n",
       " 'Pokémon Mystery Dungeon: Blue Rescue Team',\n",
       " 'Dark Souls',\n",
       " 'Fire Emblem: Awakening',\n",
       " 'Need for Speed: The Run',\n",
       " 'Just Dance 2015',\n",
       " 'Dragon Age: Inquisition',\n",
       " 'Super Street Fighter II',\n",
       " 'Dead Space',\n",
       " 'Mortal Kombat vs. DC Universe',\n",
       " 'TouchMaster',\n",
       " 'Tenchu: Stealth Assassins',\n",
       " 'Kingdom Hearts 358/2 Days',\n",
       " 'SimCity',\n",
       " 'Need for Speed Rivals',\n",
       " 'Spyro: Enter the Dragonfly',\n",
       " 'Devil May Cry 2',\n",
       " 'E.T.: The Extra Terrestrial',\n",
       " 'Hot Shots Golf: Open Tee',\n",
       " 'Soccer',\n",
       " 'Rad Racer',\n",
       " 'Forza Horizon',\n",
       " \"Tom Clancy's Rainbow Six: Vegas\",\n",
       " 'Crash Nitro Kart',\n",
       " 'Star Wars: Dark Forces',\n",
       " 'NBA Street Vol. 2',\n",
       " 'Def Jam Vendetta',\n",
       " 'Kirby Squeak Squad',\n",
       " 'Burnout Paradise',\n",
       " 'Who wants to be a millionaire',\n",
       " 'Alleyway',\n",
       " 'Scooby Doo and the Cyber Chase',\n",
       " 'Dragon Ball Z: Budokai 3',\n",
       " 'Jet Moto 2',\n",
       " \"Tom Clancy's Ghost Recon\",\n",
       " 'BioShock Infinite',\n",
       " 'X-Men Legends',\n",
       " 'Mortal Kombat II',\n",
       " 'Virtua Fighter 2',\n",
       " 'Destiny: The Taken King',\n",
       " 'Tetris DX',\n",
       " 'The Legend of Zelda: Oracle of Ages',\n",
       " 'Red Faction',\n",
       " \"The Sims: Makin' Magic\",\n",
       " 'Mario Party: Island Tour',\n",
       " 'MX Unleashed',\n",
       " 'PaRappa The Rapper',\n",
       " 'Mario Party 3',\n",
       " 'LittleBigPlanet 3',\n",
       " 'Star Wars Rogue Leader: Rogue Squadron II',\n",
       " 'Mario Super Sluggers',\n",
       " 'Game Party 2',\n",
       " 'Yu-Gi-Oh! Forbidden Memories',\n",
       " 'Mortal Kombat: Deception',\n",
       " 'Hot Shots Golf 2',\n",
       " 'Medal of Honor: European Assault (All Region sales)',\n",
       " 'NBA 2K17',\n",
       " 'Toy Story Mania!',\n",
       " 'WCW Nitro',\n",
       " 'High School Musical: Sing It!',\n",
       " 'Star Fox Adventures',\n",
       " 'FIFA 2000',\n",
       " 'Dynasty Warriors 3',\n",
       " 'The Legend of Zelda: Oracle of Seasons',\n",
       " 'Ratchet & Clank Future: A Crack in Time',\n",
       " 'Shrek 2',\n",
       " 'Turok 2: Seeds of Evil',\n",
       " 'The Legend of Dragoon',\n",
       " 'SingStar',\n",
       " 'NBA Live 2002',\n",
       " 'Just Cause 3',\n",
       " 'Chrono Cross',\n",
       " 'Jak 3',\n",
       " 'Kingdom Hearts: Chain of Memories',\n",
       " 'Pinball',\n",
       " 'Max Payne 3',\n",
       " 'Gran Turismo Concept 2001 Tokyo',\n",
       " 'Phineas and Ferb',\n",
       " 'NCAA Football 06',\n",
       " 'Hey You, Pikachu!',\n",
       " 'Rayman Raving Rabbids 2',\n",
       " '2 Games in 1: Sonic Advance & ChuChu Rocket!',\n",
       " 'Jet Moto',\n",
       " 'Kirby: Triple Deluxe',\n",
       " 'Secret of Mana',\n",
       " 'GoldenEye 007 (2010)',\n",
       " 'Sonic Classic Collection',\n",
       " 'Air Combat',\n",
       " 'inFAMOUS 2',\n",
       " 'World of Warcraft: Mists of Pandaria',\n",
       " 'Sonic & Knuckles',\n",
       " 'The Sims: Hot Date',\n",
       " \"Demon's Souls\",\n",
       " 'The Orange Box',\n",
       " 'DDRMAX2: Dance Dance Revolution',\n",
       " 'Virtua Fighter 4',\n",
       " 'Mafia III',\n",
       " 'Sly 2: Band of Thieves',\n",
       " 'Sonic Advance 2',\n",
       " 'NFL GameDay 2000',\n",
       " 'Forza Motorsport 6',\n",
       " 'The Evil Within',\n",
       " 'Metroid Prime 3: Corruption',\n",
       " \"Disney's The Lion King\",\n",
       " 'Professor Layton and the Mask of Miracle',\n",
       " 'Midnight Club II',\n",
       " 'SpongeBob SquarePants: SuperSponge',\n",
       " 'The Getaway: Black Monday',\n",
       " '50 Cent: Bulletproof',\n",
       " 'Final Fantasy II',\n",
       " 'Kirby 64: The Crystal Shards',\n",
       " 'Dead or Alive 3',\n",
       " 'Dragon Quest Monsters: Joker',\n",
       " 'LEGO Star Wars III: The Clone Wars',\n",
       " 'Metroid II: Return of Samus',\n",
       " 'WWF Attitude',\n",
       " 'The SpongeBob SquarePants Movie',\n",
       " 'Golden Sun',\n",
       " 'Sonic the Hedgehog 3',\n",
       " 'Kid Icarus',\n",
       " 'Def Jam: Fight for NY',\n",
       " 'State of Emergency',\n",
       " '2 Games in 1 Double Pack: The Incredibles / Finding Nemo: The Continuing Adventures',\n",
       " 'The Urbz: Sims in the City',\n",
       " 'Star Wars: Starfighter',\n",
       " 'Madden NFL 2000',\n",
       " 'Pro Evolution Soccer',\n",
       " 'Madden NFL 17',\n",
       " 'Just Cause 2',\n",
       " \"Disney's Aladdin\",\n",
       " \"Kirby's Adventure\",\n",
       " 'Yoshi',\n",
       " 'The Elder Scrolls Online',\n",
       " 'Crackdown',\n",
       " 'Wii Party U',\n",
       " 'Dance Dance Revolution X',\n",
       " '2 Games in 1: Disney Princess & The Lion King',\n",
       " 'Star Wars Episode I: The Phantom Menace',\n",
       " 'Xenosaga Episode I: Der Wille zur Macht',\n",
       " 'Kinect Star Wars',\n",
       " \"Dragon's Dogma\",\n",
       " \"Cruis'n USA\",\n",
       " 'Madden NFL 99',\n",
       " 'The Order: 1886',\n",
       " 'SSX Tricky',\n",
       " 'Knack',\n",
       " 'Twisted Metal III',\n",
       " 'Dragon Quest VI: Realms of Revelation',\n",
       " 'Crash Bandicoot: The Huge Adventure',\n",
       " 'The Crew',\n",
       " 'Call of Duty: World at War Final Fronts',\n",
       " 'Star Ocean: Till The End of Time',\n",
       " 'Dishonored',\n",
       " 'Toy Story 2: Buzz Lightyear to the Rescue!',\n",
       " 'The Beatles: Rock Band',\n",
       " 'Ace Combat 5: The Unsung War',\n",
       " 'Kanshuu Nippon Joushikiryoku Kentei Kyoukai: Imasara Hito ni wa Kikenai Otona no Joushikiryoku Training DS',\n",
       " 'Imagine: Teacher',\n",
       " 'Deal or No Deal',\n",
       " 'Super Puyo Puyo',\n",
       " 'NCAA Football 07',\n",
       " 'The Sims 3: Late Night Expansion Pack',\n",
       " \"No Man's Sky\",\n",
       " 'Ben 10: Protector of Earth',\n",
       " \"Cabela's Big Game Hunter 2010\",\n",
       " 'SOCOM 3: U.S. Navy SEALs',\n",
       " \"Jampack Winter '99\",\n",
       " 'WCW vs. nWo: World Tour',\n",
       " 'WCW/NWO Thunder',\n",
       " 'Dragon Ball Z: The Legacy of Goku',\n",
       " 'Cooking Mama 3: Shop & Chop',\n",
       " 'Personal Trainer: Math',\n",
       " 'Game Party 3',\n",
       " 'World Championship Poker: Featuring Howard Lederer - All In',\n",
       " 'NFL GameDay 98',\n",
       " 'Sonic Colors',\n",
       " \"Yoshi's Cookie\",\n",
       " 'Time Crisis',\n",
       " \"Sid Meier's Civilization V\",\n",
       " ' Fire Emblem Fates',\n",
       " 'The Sims: Superstar',\n",
       " 'Metroid Fusion',\n",
       " 'We Ski',\n",
       " 'Star Wars Battlefront: Renegade Squadron',\n",
       " 'SSX 3',\n",
       " 'Madden NFL 2001',\n",
       " \"Disney's DuckTales\",\n",
       " 'Monsters, Inc.',\n",
       " 'PGR: Project Gotham Racing 2',\n",
       " 'Spy Hunter',\n",
       " 'NCAA Football 2004',\n",
       " 'Fight Night Round 3',\n",
       " 'StarCraft II: Heart of the Swarm',\n",
       " 'SpongeBob SquarePants: Battle for Bikini Bottom',\n",
       " 'Until Dawn',\n",
       " 'Big Beach Sports',\n",
       " \"Street Fighter II': Special Champion Edition\",\n",
       " 'SSX',\n",
       " 'Shaun White Snowboarding: Road Trip',\n",
       " 'NBA Ballers',\n",
       " 'Saints Row IV',\n",
       " 'NBA Live 2003',\n",
       " 'LEGO Batman 2: DC Super Heroes',\n",
       " 'Dragon Ball Z: Budokai Tenkaichi',\n",
       " 'Dark Souls III',\n",
       " 'Ms. Pac-Man',\n",
       " \"Kirby's Return to Dreamland\",\n",
       " 'Mario Party 6',\n",
       " 'Super Scope 6',\n",
       " 'Star Wars The Clone Wars: Lightsaber Duels',\n",
       " 'Need for Speed Carbon',\n",
       " 'Heavenly Sword',\n",
       " 'Kirby & the Amazing Mirror',\n",
       " 'Army of Two',\n",
       " 'Dig Dug',\n",
       " \"Tom Clancy's Rainbow Six\",\n",
       " \"Ghosts 'n Goblins\",\n",
       " 'Tiger Woods PGA Tour 2003',\n",
       " 'NBA Live 06 (All region sales)',\n",
       " 'Prince of Persia: Warrior Within',\n",
       " 'Beyond: Two Souls',\n",
       " 'Pikmin',\n",
       " 'Tiger Woods PGA Tour 2004',\n",
       " 'Ape Escape',\n",
       " 'NCAA Football 2005',\n",
       " 'Viva Pinata',\n",
       " \"Tony Hawk's American Wasteland (Old all region sales)\",\n",
       " 'Kinectimals',\n",
       " 'Kirby Air Ride',\n",
       " 'Sled Storm',\n",
       " 'Dragon Quest IV: Chapters of the Chosen',\n",
       " 'NFL Street 2',\n",
       " 'Yu-Gi-Oh! Duel Monsters',\n",
       " 'Super Mario Strikers',\n",
       " 'Buzz! The Music Quiz',\n",
       " 'Rage',\n",
       " 'Mario Hoops 3 on 3',\n",
       " \"SpongeBob's Atlantis SquarePantis\",\n",
       " 'Dollar Dash',\n",
       " 'F-1 World Grand Prix',\n",
       " 'River Raid',\n",
       " 'Silent Hill',\n",
       " 'Disney Infinity',\n",
       " 'ESPN NBA 2K5',\n",
       " 'Diablo',\n",
       " 'Far Cry 2',\n",
       " 'Soul Edge',\n",
       " 'NASCAR 2000',\n",
       " 'Pokemon Battle Revolution',\n",
       " 'Kingdom Hearts 3D: Dream Drop Distance',\n",
       " 'Dance Dance Revolution: Hottest Party 2',\n",
       " 'SoulCalibur IV',\n",
       " 'Jampack Summer 2K',\n",
       " 'Sonic Generations',\n",
       " 'Spyro 2: Season of Flame',\n",
       " 'Mario Party 10',\n",
       " 'Devil May Cry 4',\n",
       " 'Dead Rising 3',\n",
       " 'NCAA Football 2002',\n",
       " 'Gears of War: Judgment',\n",
       " 'Guitar Hero: On Tour Decades',\n",
       " 'Conflict: Desert Storm',\n",
       " 'Mario Party 7',\n",
       " 'Dragon Quest V: Hand of the Heavenly Bride',\n",
       " 'High School Musical 3: Senior Year',\n",
       " \"Smuggler's Run\",\n",
       " 'Carnival Games: Mini Golf',\n",
       " 'Donkey Kong Classics',\n",
       " 'Hannah Montana: Music Jam',\n",
       " 'Twisted Metal',\n",
       " 'Final Fight',\n",
       " 'Pokemon Mystery Dungeon: Explorers of Sky',\n",
       " 'Dragon Quest Monsters 2',\n",
       " 'Pokemon Pinball: Ruby & Sapphire',\n",
       " 'MySims Kingdom',\n",
       " 'LEGO Pirates of the Caribbean: The Video Game',\n",
       " 'Stuntman',\n",
       " \"Tom Clancy's Rainbow Six 3\",\n",
       " '007: The World is not Enough',\n",
       " 'Spider-Man 2: Enter: Electro',\n",
       " 'Guitar Hero 5',\n",
       " 'Command & Conquer: Tiberian Sun',\n",
       " 'Wolfenstein: The New Order',\n",
       " 'Mafia II',\n",
       " 'Moshi Monsters: Moshling Zoo',\n",
       " 'Dark Cloud',\n",
       " 'Warcraft III: The Frozen Throne',\n",
       " 'Active Life: Outdoor Challenge',\n",
       " \"Tom Clancy's Ghost Recon Advanced Warfighter\",\n",
       " 'Ratchet & Clank (2016)',\n",
       " 'MVP Baseball 2005',\n",
       " 'Die Hard Trilogy',\n",
       " 'Uncharted: Golden Abyss',\n",
       " 'Go Vacation',\n",
       " 'Pro Evolution Soccer 2013',\n",
       " 'Mortal Kombat 3',\n",
       " 'NFL GameDay 99',\n",
       " 'Mario Golf: Toadstool Tour',\n",
       " 'Tiger Woods 99 PGA Tour Golf',\n",
       " 'Resident Evil: The Umbrella Chronicles',\n",
       " 'Knockout Kings',\n",
       " 'The Simpsons Skateboarding',\n",
       " 'Donkey Kong Country: Tropical Freeze',\n",
       " ...]"
      ]
     },
     "execution_count": 27,
     "metadata": {},
     "output_type": "execute_result"
    }
   ],
   "source": [
    "list(data['name'].unique())"
   ]
  },
  {
   "cell_type": "markdown",
   "id": "69dfa4f8",
   "metadata": {},
   "source": [
    "В качестве неявных дубликтов также ничего не бросается в глаза."
   ]
  },
  {
   "cell_type": "markdown",
   "id": "100ca688",
   "metadata": {},
   "source": [
    "#### Посчитаем суммарные продажи во всех регионах и запишим их в отдельный столбец."
   ]
  },
  {
   "cell_type": "code",
   "execution_count": 28,
   "id": "7f919f5a",
   "metadata": {},
   "outputs": [],
   "source": [
    "data['all_sales'] = data['na_sales'] + data['eu_sales'] + data['jp_sales'] + data['other_sales']"
   ]
  },
  {
   "cell_type": "code",
   "execution_count": 29,
   "id": "62cd9e53",
   "metadata": {},
   "outputs": [
    {
     "data": {
      "text/html": [
       "<div>\n",
       "<style scoped>\n",
       "    .dataframe tbody tr th:only-of-type {\n",
       "        vertical-align: middle;\n",
       "    }\n",
       "\n",
       "    .dataframe tbody tr th {\n",
       "        vertical-align: top;\n",
       "    }\n",
       "\n",
       "    .dataframe thead th {\n",
       "        text-align: right;\n",
       "    }\n",
       "</style>\n",
       "<table border=\"1\" class=\"dataframe\">\n",
       "  <thead>\n",
       "    <tr style=\"text-align: right;\">\n",
       "      <th></th>\n",
       "      <th>name</th>\n",
       "      <th>platform</th>\n",
       "      <th>year_of_release</th>\n",
       "      <th>genre</th>\n",
       "      <th>na_sales</th>\n",
       "      <th>eu_sales</th>\n",
       "      <th>jp_sales</th>\n",
       "      <th>other_sales</th>\n",
       "      <th>critic_score</th>\n",
       "      <th>user_score</th>\n",
       "      <th>rating</th>\n",
       "      <th>all_sales</th>\n",
       "    </tr>\n",
       "  </thead>\n",
       "  <tbody>\n",
       "    <tr>\n",
       "      <th>0</th>\n",
       "      <td>Wii Sports</td>\n",
       "      <td>Wii</td>\n",
       "      <td>2006.0</td>\n",
       "      <td>Sports</td>\n",
       "      <td>41.36</td>\n",
       "      <td>28.96</td>\n",
       "      <td>3.77</td>\n",
       "      <td>8.45</td>\n",
       "      <td>76.0</td>\n",
       "      <td>8.0</td>\n",
       "      <td>E</td>\n",
       "      <td>82.54</td>\n",
       "    </tr>\n",
       "    <tr>\n",
       "      <th>1</th>\n",
       "      <td>Super Mario Bros.</td>\n",
       "      <td>NES</td>\n",
       "      <td>1985.0</td>\n",
       "      <td>Platform</td>\n",
       "      <td>29.08</td>\n",
       "      <td>3.58</td>\n",
       "      <td>6.81</td>\n",
       "      <td>0.77</td>\n",
       "      <td>NaN</td>\n",
       "      <td>NaN</td>\n",
       "      <td>RP</td>\n",
       "      <td>40.24</td>\n",
       "    </tr>\n",
       "    <tr>\n",
       "      <th>2</th>\n",
       "      <td>Mario Kart Wii</td>\n",
       "      <td>Wii</td>\n",
       "      <td>2008.0</td>\n",
       "      <td>Racing</td>\n",
       "      <td>15.68</td>\n",
       "      <td>12.76</td>\n",
       "      <td>3.79</td>\n",
       "      <td>3.29</td>\n",
       "      <td>82.0</td>\n",
       "      <td>8.3</td>\n",
       "      <td>E</td>\n",
       "      <td>35.52</td>\n",
       "    </tr>\n",
       "    <tr>\n",
       "      <th>3</th>\n",
       "      <td>Wii Sports Resort</td>\n",
       "      <td>Wii</td>\n",
       "      <td>2009.0</td>\n",
       "      <td>Sports</td>\n",
       "      <td>15.61</td>\n",
       "      <td>10.93</td>\n",
       "      <td>3.28</td>\n",
       "      <td>2.95</td>\n",
       "      <td>80.0</td>\n",
       "      <td>8.0</td>\n",
       "      <td>E</td>\n",
       "      <td>32.77</td>\n",
       "    </tr>\n",
       "    <tr>\n",
       "      <th>4</th>\n",
       "      <td>Pokemon Red/Pokemon Blue</td>\n",
       "      <td>GB</td>\n",
       "      <td>1996.0</td>\n",
       "      <td>Role-Playing</td>\n",
       "      <td>11.27</td>\n",
       "      <td>8.89</td>\n",
       "      <td>10.22</td>\n",
       "      <td>1.00</td>\n",
       "      <td>NaN</td>\n",
       "      <td>NaN</td>\n",
       "      <td>RP</td>\n",
       "      <td>31.38</td>\n",
       "    </tr>\n",
       "  </tbody>\n",
       "</table>\n",
       "</div>"
      ],
      "text/plain": [
       "                       name platform  year_of_release         genre  na_sales  \\\n",
       "0                Wii Sports      Wii           2006.0        Sports     41.36   \n",
       "1         Super Mario Bros.      NES           1985.0      Platform     29.08   \n",
       "2            Mario Kart Wii      Wii           2008.0        Racing     15.68   \n",
       "3         Wii Sports Resort      Wii           2009.0        Sports     15.61   \n",
       "4  Pokemon Red/Pokemon Blue       GB           1996.0  Role-Playing     11.27   \n",
       "\n",
       "   eu_sales  jp_sales  other_sales  critic_score  user_score rating  all_sales  \n",
       "0     28.96      3.77         8.45          76.0         8.0      E      82.54  \n",
       "1      3.58      6.81         0.77           NaN         NaN     RP      40.24  \n",
       "2     12.76      3.79         3.29          82.0         8.3      E      35.52  \n",
       "3     10.93      3.28         2.95          80.0         8.0      E      32.77  \n",
       "4      8.89     10.22         1.00           NaN         NaN     RP      31.38  "
      ]
     },
     "execution_count": 29,
     "metadata": {},
     "output_type": "execute_result"
    }
   ],
   "source": [
    "data.head()"
   ]
  },
  {
   "cell_type": "markdown",
   "id": "3ff18b39",
   "metadata": {},
   "source": [
    "# Исследовательский анализ данных"
   ]
  },
  {
   "cell_type": "markdown",
   "id": "dc44f9eb",
   "metadata": {},
   "source": [
    "#### Посмотрим, сколько игр выпускалось в разные годы."
   ]
  },
  {
   "cell_type": "code",
   "execution_count": 30,
   "id": "83b73032",
   "metadata": {},
   "outputs": [
    {
     "data": {
      "text/plain": [
       "<AxesSubplot:title={'center':'Количество игр по годам'}, xlabel='year_of_release', ylabel='name'>"
      ]
     },
     "execution_count": 30,
     "metadata": {},
     "output_type": "execute_result"
    },
    {
     "data": {
      "image/png": "[encoded data removed]",
      "text/plain": [
       "<Figure size 1800x720 with 1 Axes>"
      ]
     },
     "metadata": {
      "needs_background": "light"
     },
     "output_type": "display_data"
    }
   ],
   "source": [
    "buf = data.pivot_table(index='year_of_release', values='name', aggfunc='count')\n",
    "plt.rcParams['figure.figsize']=(25,10)\n",
    "plt.title('Количество игр по годам', fontsize=30)\n",
    "buf['year_of_release'] = buf.index\n",
    "sns.barplot(x='year_of_release', y='name', ci=None, data=buf)"
   ]
  },
  {
   "cell_type": "markdown",
   "id": "52acb727",
   "metadata": {},
   "source": [
    "<!-- По полученным данным видно, что начиная с 2000 года, количество игр росло, но для более наглядной картинки разобьем года на периоды по 4 года. -->\n",
    "По полученному графику можно отметить, что с 1990 был замечен явный рост выходов новых игр. 2009 год оказался последним пиковым далее количество выпускаемых игр стало снижаться."
   ]
  },
  {
   "cell_type": "markdown",
   "id": "bf66d7aa",
   "metadata": {},
   "source": [
    "Можно также сказать, что для прогноза продаж на 2017 год нас не особо интересуют результаты за года ранее 2000, так как в то время количество выпускаемых игр очень невелико, что не соотвествует современной картине."
   ]
  },
  {
   "cell_type": "markdown",
   "id": "471b97bc",
   "metadata": {},
   "source": [
    "#### Посмотрим, как менялись продажи по платформам. Выберим платформы с наибольшими суммарными продажами и построим распределение по годам."
   ]
  },
  {
   "cell_type": "markdown",
   "id": "1e393a46",
   "metadata": {},
   "source": [
    "Построим сводную таблицу, чтобы получить топ платформ по продажам. Возьмем срез 7 платформ, чтобы построить распредление по ним."
   ]
  },
  {
   "cell_type": "code",
   "execution_count": 31,
   "id": "051f7b5f",
   "metadata": {},
   "outputs": [
    {
     "data": {
      "text/html": [
       "<div>\n",
       "<style scoped>\n",
       "    .dataframe tbody tr th:only-of-type {\n",
       "        vertical-align: middle;\n",
       "    }\n",
       "\n",
       "    .dataframe tbody tr th {\n",
       "        vertical-align: top;\n",
       "    }\n",
       "\n",
       "    .dataframe thead th {\n",
       "        text-align: right;\n",
       "    }\n",
       "</style>\n",
       "<table border=\"1\" class=\"dataframe\">\n",
       "  <thead>\n",
       "    <tr style=\"text-align: right;\">\n",
       "      <th></th>\n",
       "      <th>all_sales</th>\n",
       "    </tr>\n",
       "    <tr>\n",
       "      <th>platform</th>\n",
       "      <th></th>\n",
       "    </tr>\n",
       "  </thead>\n",
       "  <tbody>\n",
       "    <tr>\n",
       "      <th>PS2</th>\n",
       "      <td>1233.56</td>\n",
       "    </tr>\n",
       "    <tr>\n",
       "      <th>X360</th>\n",
       "      <td>961.24</td>\n",
       "    </tr>\n",
       "    <tr>\n",
       "      <th>PS3</th>\n",
       "      <td>931.34</td>\n",
       "    </tr>\n",
       "    <tr>\n",
       "      <th>Wii</th>\n",
       "      <td>891.18</td>\n",
       "    </tr>\n",
       "    <tr>\n",
       "      <th>DS</th>\n",
       "      <td>802.78</td>\n",
       "    </tr>\n",
       "    <tr>\n",
       "      <th>PS</th>\n",
       "      <td>727.58</td>\n",
       "    </tr>\n",
       "    <tr>\n",
       "      <th>PS4</th>\n",
       "      <td>314.14</td>\n",
       "    </tr>\n",
       "  </tbody>\n",
       "</table>\n",
       "</div>"
      ],
      "text/plain": [
       "          all_sales\n",
       "platform           \n",
       "PS2         1233.56\n",
       "X360         961.24\n",
       "PS3          931.34\n",
       "Wii          891.18\n",
       "DS           802.78\n",
       "PS           727.58\n",
       "PS4          314.14"
      ]
     },
     "metadata": {},
     "output_type": "display_data"
    },
    {
     "data": {
      "text/plain": [
       "Index(['PS2', 'X360', 'PS3', 'Wii', 'DS', 'PS', 'PS4'], dtype='object', name='platform')"
      ]
     },
     "execution_count": 31,
     "metadata": {},
     "output_type": "execute_result"
    }
   ],
   "source": [
    "display(data.pivot_table(index='platform', values='all_sales', aggfunc='sum').sort_values(by='all_sales', ascending=False).head(7))\n",
    "top_platform = data.pivot_table(index='platform', values='all_sales', aggfunc='sum').sort_values(by='all_sales', ascending=False)[:7].index\n",
    "top_platform"
   ]
  },
  {
   "cell_type": "code",
   "execution_count": 32,
   "id": "1eb4f315",
   "metadata": {},
   "outputs": [
    {
     "data": {
      "text/plain": [
       "<AxesSubplot:title={'center':'Суммарные продажи прибыльных платформ по годам'}, xlabel='year_of_release', ylabel='all_sales'>"
      ]
     },
     "execution_count": 32,
     "metadata": {},
     "output_type": "execute_result"
    },
    {
     "data": {
      "image/png": "[encoded data removed]",
      "text/plain": [
       "<Figure size 2160x936 with 1 Axes>"
      ]
     },
     "metadata": {
      "needs_background": "light"
     },
     "output_type": "display_data"
    }
   ],
   "source": [
    "plt.rcParams['figure.figsize']=(30,13)\n",
    "plt.title('Суммарные продажи прибыльных платформ по годам', fontsize=30)\n",
    "sns.barplot(x='year_of_release', y='all_sales',estimator=sum, hue='platform', ci=None, data=data.loc[data['platform'].isin(top_platform)])"
   ]
  },
  {
   "cell_type": "markdown",
   "id": "4a351b03",
   "metadata": {},
   "source": [
    "*За какой характерный срок появляются новые и исчезают старые платформы?*\n",
    "\n",
    "По графику \"суммарные продажи платформ по годам\" можно заметить, что платформы существуют примерно 6-10 лет. По данной выборке можно сказать, что начиная с 2000 годов и особенно с 2005 года новые платформы стали активно появляться."
   ]
  },
  {
   "cell_type": "markdown",
   "id": "aa03281c",
   "metadata": {},
   "source": [
    "Мы выяснили, что в среднем платформы живут около 10 лет, значит для прогноза продаж за 2017 году нам подойдет период с 2012 года, который мы будем считать актулаьным. Оценим какие платформы лидируют по продажам, растут и падают? Выберим несколько потенциально продаваемых платформ."
   ]
  },
  {
   "cell_type": "code",
   "execution_count": 33,
   "id": "1e1fc9db",
   "metadata": {},
   "outputs": [
    {
     "data": {
      "text/plain": [
       "array(['PS3', 'X360', 'PS4', '3DS', 'DS', 'XOne', 'WiiU', 'Wii', 'PC',\n",
       "       'PSV', 'PSP'], dtype=object)"
      ]
     },
     "execution_count": 33,
     "metadata": {},
     "output_type": "execute_result"
    }
   ],
   "source": [
    "\n",
    "actual_data = data.query('year_of_release >= 2012')\n",
    "profitable_companies = actual_data['platform'].unique()\n",
    "profitable_companies"
   ]
  },
  {
   "cell_type": "code",
   "execution_count": 34,
   "id": "fa3c4a47",
   "metadata": {
    "scrolled": false
   },
   "outputs": [
    {
     "data": {
      "text/plain": [
       "<AxesSubplot:title={'center':'Суммарные продажи актуальных платформ по годам'}, xlabel='year_of_release', ylabel='all_sales'>"
      ]
     },
     "execution_count": 34,
     "metadata": {},
     "output_type": "execute_result"
    },
    {
     "data": {
      "image/png": "[encoded data removed]",
      "text/plain": [
       "<Figure size 2160x936 with 1 Axes>"
      ]
     },
     "metadata": {
      "needs_background": "light"
     },
     "output_type": "display_data"
    }
   ],
   "source": [
    "plt.rcParams['figure.figsize']=(30,13)\n",
    "plt.title('Суммарные продажи актуальных платформ по годам', fontsize=30)\n",
    "sns.barplot(x='year_of_release', y='all_sales',estimator=sum, hue='platform', ci=None, data=actual_data)"
   ]
  },
  {
   "cell_type": "markdown",
   "id": "25308c04",
   "metadata": {},
   "source": [
    "В качестве лидеров продаж за все время среди платформ, которые еще остаются на рынке в 2017 году, явно выбиваются x360 и ps3, но к 2016 году, к сожалению, количество продаж резко снижается. Зато такие платформы как: ps4 и xOne явно покажут высокие результаты в 2017 году, потому что в среднем продажи компаний за какое-то время стремятся к нормальному распредлению (также берем в учет, что данные за 2016 год могут быть представлены не в полном объеме, поэтому графически столбец за 2016 низок)."
   ]
  },
  {
   "cell_type": "markdown",
   "id": "eb871ba4",
   "metadata": {},
   "source": [
    "**Итого:** Так явный подъем по продажам наблюдается у компаний PS4 (лидирующая по продажам), XOne. Игры для PC, как видно по истории продаж, всегда будут продаваемыми, так как PС являются одним из основных платформ для игр. Самый резкий спад показывают платформы PS3 и X360, что закономерно выходу новых линеек данной платформы."
   ]
  },
  {
   "cell_type": "markdown",
   "id": "975f3278",
   "metadata": {},
   "source": [
    "Потециально прибыльными платформами будем считать: PS4, XOne, 3DS, а также PC, так как он является постоянным \"игроком\" на рынке."
   ]
  },
  {
   "cell_type": "markdown",
   "id": "1d04f1fd",
   "metadata": {},
   "source": [
    "*Построим график «ящик с усами» по глобальным продажам игр в разбивке по платформам.*"
   ]
  },
  {
   "cell_type": "code",
   "execution_count": 35,
   "id": "1178e493",
   "metadata": {},
   "outputs": [
    {
     "data": {
      "text/plain": [
       "<AxesSubplot:xlabel='platform', ylabel='all_sales'>"
      ]
     },
     "execution_count": 35,
     "metadata": {},
     "output_type": "execute_result"
    },
    {
     "data": {
      "image/png": "[encoded data removed]",
      "text/plain": [
       "<Figure size 720x720 with 1 Axes>"
      ]
     },
     "metadata": {
      "needs_background": "light"
     },
     "output_type": "display_data"
    }
   ],
   "source": [
    "plt.rcParams['figure.figsize']=(10,10)\n",
    "plt.ylim(0, 5)\n",
    "sns.boxplot(data = actual_data, y='all_sales', x='platform')"
   ]
  },
  {
   "cell_type": "markdown",
   "id": "1ec4bce6",
   "metadata": {},
   "source": [
    "Построим также график в исходном масштабе."
   ]
  },
  {
   "cell_type": "code",
   "execution_count": 36,
   "id": "00d6e930",
   "metadata": {},
   "outputs": [
    {
     "data": {
      "text/plain": [
       "<AxesSubplot:xlabel='platform', ylabel='all_sales'>"
      ]
     },
     "execution_count": 36,
     "metadata": {},
     "output_type": "execute_result"
    },
    {
     "data": {
      "image/png": "[encoded data removed]",
      "text/plain": [
       "<Figure size 720x720 with 1 Axes>"
      ]
     },
     "metadata": {
      "needs_background": "light"
     },
     "output_type": "display_data"
    }
   ],
   "source": [
    "plt.rcParams['figure.figsize']=(10,10)\n",
    "sns.boxplot(data = actual_data, y='all_sales', x='platform')"
   ]
  },
  {
   "cell_type": "markdown",
   "id": "9d13fee5",
   "metadata": {},
   "source": [
    "График в исходном масштабе иллюстрирует, что у первых 4 платформ присутсвуют экстримальные единичные выбросы."
   ]
  },
  {
   "cell_type": "markdown",
   "id": "971d7da2",
   "metadata": {},
   "source": [
    "По полученным данным видно, что у каждой компании присутсвуют выбросы. Также в среднем медианные значения платформ очень близки друг к другу. Платформы можно объединить по схожести распределений: первая (x360, ps3, ps4 и xOne, чуть менее к ним также WiiU) и вторая (PC, PSV, чуть менее близкая 3DS). Исходя из этого, можно предположить дальнейшие возможные продажи у схожих друг с другом компаний. Так, прогнозировать продажи для выбранных выше потенциально прибыльных платформ можно по распределению других платформ (с которыми объединили в одну группу). Например, продажи PS4 по продажам X360 и PS3. \n",
    "\n",
    "Интересно заметить, что также распределение XOne и PS4 очень схожи друг к другу."
   ]
  },
  {
   "cell_type": "code",
   "execution_count": 37,
   "id": "0db24b57",
   "metadata": {},
   "outputs": [
    {
     "data": {
      "image/png": "[encoded data removed]",
      "text/plain": [
       "<Figure size 360x360 with 1 Axes>"
      ]
     },
     "metadata": {
      "needs_background": "light"
     },
     "output_type": "display_data"
    },
    {
     "data": {
      "text/plain": [
       "<seaborn.axisgrid.FacetGrid at 0x7f94f677ad60>"
      ]
     },
     "execution_count": 37,
     "metadata": {},
     "output_type": "execute_result"
    },
    {
     "data": {
      "image/png": "[encoded data removed]",
      "text/plain": [
       "<Figure size 360x360 with 1 Axes>"
      ]
     },
     "metadata": {
      "needs_background": "light"
     },
     "output_type": "display_data"
    }
   ],
   "source": [
    "sns.displot(actual_data.query('platform == \"XOne\"')['all_sales'], discrete = True, kde = True)\n",
    "plt.show()\n",
    "sns.displot(actual_data.query('platform == \"PS4\"')['all_sales'], discrete = True, kde = True)"
   ]
  },
  {
   "cell_type": "markdown",
   "id": "2f43cfa9",
   "metadata": {},
   "source": [
    "**Посмотрим, как влияют на продажи внутри одной популярной платформы отзывы пользователей и критиков. Для примера возьмем платформу PS3.**\n",
    "\n",
    "Построим диаграмму рассеяния и посчитаем корреляцию между отзывами и продажами."
   ]
  },
  {
   "cell_type": "code",
   "execution_count": 38,
   "id": "8f4f45be",
   "metadata": {},
   "outputs": [
    {
     "data": {
      "text/plain": [
       "[]"
      ]
     },
     "execution_count": 38,
     "metadata": {},
     "output_type": "execute_result"
    },
    {
     "data": {
      "image/png": "[encoded data removed]",
      "text/plain": [
       "<Figure size 360x360 with 1 Axes>"
      ]
     },
     "metadata": {
      "needs_background": "light"
     },
     "output_type": "display_data"
    },
    {
     "data": {
      "image/png": "[encoded data removed]",
      "text/plain": [
       "<Figure size 360x360 with 1 Axes>"
      ]
     },
     "metadata": {
      "needs_background": "light"
     },
     "output_type": "display_data"
    }
   ],
   "source": [
    "plt.rcParams['figure.figsize']=(5,5)\n",
    "actual_data.query('platform == \"PS3\"')[['user_score', 'all_sales']].plot(x='user_score', y='all_sales', kind='scatter')\n",
    "plt.plot()\n",
    "actual_data.query('platform == \"PS3\"')[['critic_score', 'all_sales']].plot(x='critic_score', y='all_sales', kind='scatter')\n",
    "plt.plot()"
   ]
  },
  {
   "cell_type": "markdown",
   "id": "bab07ce3",
   "metadata": {},
   "source": [
    "При изучении диаграмм рассеяния можно сделать вывод, что между отзывами пользователей и продажами нет прямой зависимости.Более лаконичная картина с диаграммой рассеяния по оценки критиков. Там явнее видно, что при оценки больше 80 значения становятся более разбросанные и появляется увеличение продаж. Стоит также подметить, что пользователи, что критики в очень редких случаях ставят самую высокую оценку."
   ]
  },
  {
   "cell_type": "markdown",
   "id": "9bb8678d",
   "metadata": {},
   "source": [
    "Для оценки численного значения корреляции используем оценку Пирсона."
   ]
  },
  {
   "cell_type": "code",
   "execution_count": 39,
   "id": "1d64b781",
   "metadata": {},
   "outputs": [
    {
     "name": "stdout",
     "output_type": "stream",
     "text": [
      "Корреляция между отзывами критиков и продажами: 0.3314972592629587\n",
      "Корреляция между отзывами пользователей и продажами: -0.005143522887113828\n"
     ]
    }
   ],
   "source": [
    "print('Корреляция между отзывами критиков и продажами:',actual_data.query('platform == \"PS3\"')['critic_score'].corr(actual_data.query('platform == \"PS3\"')['all_sales']))\n",
    "print('Корреляция между отзывами пользователей и продажами:',actual_data.query('platform == \"PS3\"')['user_score'].corr(actual_data.query('platform == \"PS3\"')['all_sales']))"
   ]
  },
  {
   "cell_type": "markdown",
   "id": "3e22b0e4",
   "metadata": {},
   "source": [
    "Как и было замечено по диаграмме, отзывы и продажи коррелируют несильно между собой. Также подтвердилось, что оценка критиков влияет на продажи сильнее оценки пользователей. Оценка пользователя совсем не влияет на продажи."
   ]
  },
  {
   "cell_type": "markdown",
   "id": "735218d7",
   "metadata": {},
   "source": [
    "Посмотрим соответсвуют ли наши выводы другим платформам. Для сравнения возьмем платформу PC и X360."
   ]
  },
  {
   "cell_type": "code",
   "execution_count": 40,
   "id": "04f6958d",
   "metadata": {},
   "outputs": [
    {
     "name": "stdout",
     "output_type": "stream",
     "text": [
      "Корреляция между отзывами критиков и продажами: 0.23724324311567915\n",
      "Корреляция между отзывами пользователей и продажами: -0.12186747630735577\n"
     ]
    },
    {
     "data": {
      "image/png": "[encoded data removed]",
      "text/plain": [
       "<Figure size 360x360 with 1 Axes>"
      ]
     },
     "metadata": {
      "needs_background": "light"
     },
     "output_type": "display_data"
    },
    {
     "data": {
      "image/png": "[encoded data removed]",
      "text/plain": [
       "<Figure size 360x360 with 1 Axes>"
      ]
     },
     "metadata": {
      "needs_background": "light"
     },
     "output_type": "display_data"
    }
   ],
   "source": [
    "plt.rcParams['figure.figsize']=(5,5)\n",
    "actual_data.query('platform == \"PC\"')[['user_score', 'all_sales']].plot(x='user_score', y='all_sales', kind='scatter')\n",
    "plt.plot()\n",
    "actual_data.query('platform == \"PC\"')[['critic_score', 'all_sales']].plot(x='critic_score', y='all_sales', kind='scatter')\n",
    "plt.plot()\n",
    "print('Корреляция между отзывами критиков и продажами:',actual_data.query('platform == \"PC\"')['critic_score'].corr(actual_data.query('platform == \"PC\"')['all_sales']))\n",
    "print('Корреляция между отзывами пользователей и продажами:',actual_data.query('platform == \"PC\"')['user_score'].corr(actual_data.query('platform == \"PC\"')['all_sales']))"
   ]
  },
  {
   "cell_type": "code",
   "execution_count": 41,
   "id": "7e5c3975",
   "metadata": {},
   "outputs": [
    {
     "name": "stdout",
     "output_type": "stream",
     "text": [
      "Корреляция между отзывами критиков и продажами: 0.3605734888507336\n",
      "Корреляция между отзывами пользователей и продажами: 0.006163978646213326\n"
     ]
    },
    {
     "data": {
      "image/png": "[encoded data removed]",
      "text/plain": [
       "<Figure size 360x360 with 1 Axes>"
      ]
     },
     "metadata": {
      "needs_background": "light"
     },
     "output_type": "display_data"
    },
    {
     "data": {
      "image/png": "[encoded data removed]",
      "text/plain": [
       "<Figure size 360x360 with 1 Axes>"
      ]
     },
     "metadata": {
      "needs_background": "light"
     },
     "output_type": "display_data"
    }
   ],
   "source": [
    "plt.rcParams['figure.figsize']=(5,5)\n",
    "actual_data.query('platform == \"X360\"')[['user_score', 'all_sales']].plot(x='user_score', y='all_sales', kind='scatter')\n",
    "plt.plot()\n",
    "actual_data.query('platform == \"X360\"')[['critic_score', 'all_sales']].plot(x='critic_score', y='all_sales', kind='scatter')\n",
    "plt.plot()\n",
    "print('Корреляция между отзывами критиков и продажами:',actual_data.query('platform == \"X360\"')['critic_score'].corr(actual_data.query('platform == \"X360\"')['all_sales']))\n",
    "print('Корреляция между отзывами пользователей и продажами:',actual_data.query('platform == \"X360\"')['user_score'].corr(actual_data.query('platform == \"X360\"')['all_sales']))"
   ]
  },
  {
   "cell_type": "markdown",
   "id": "f8b1cd88",
   "metadata": {},
   "source": [
    "Наш вывод был верный, оценка критиков влияет на продаже в большей степени чем оценка пользователей."
   ]
  },
  {
   "cell_type": "markdown",
   "id": "3e146005",
   "metadata": {},
   "source": [
    "**Посмотрите на общее распределение игр по жанрам. Что можно сказать о самых прибыльных жанрах? Выделяются ли жанры с высокими и низкими продажами?**"
   ]
  },
  {
   "cell_type": "markdown",
   "id": "6103076c",
   "metadata": {},
   "source": [
    "Для начала построим топ жанров по прибыльности."
   ]
  },
  {
   "cell_type": "code",
   "execution_count": 42,
   "id": "de2dba0c",
   "metadata": {},
   "outputs": [
    {
     "data": {
      "text/html": [
       "<div>\n",
       "<style scoped>\n",
       "    .dataframe tbody tr th:only-of-type {\n",
       "        vertical-align: middle;\n",
       "    }\n",
       "\n",
       "    .dataframe tbody tr th {\n",
       "        vertical-align: top;\n",
       "    }\n",
       "\n",
       "    .dataframe thead th {\n",
       "        text-align: right;\n",
       "    }\n",
       "</style>\n",
       "<table border=\"1\" class=\"dataframe\">\n",
       "  <thead>\n",
       "    <tr style=\"text-align: right;\">\n",
       "      <th></th>\n",
       "      <th>all_sales</th>\n",
       "    </tr>\n",
       "    <tr>\n",
       "      <th>genre</th>\n",
       "      <th></th>\n",
       "    </tr>\n",
       "  </thead>\n",
       "  <tbody>\n",
       "    <tr>\n",
       "      <th>Action</th>\n",
       "      <td>441.12</td>\n",
       "    </tr>\n",
       "    <tr>\n",
       "      <th>Shooter</th>\n",
       "      <td>304.73</td>\n",
       "    </tr>\n",
       "    <tr>\n",
       "      <th>Role-Playing</th>\n",
       "      <td>192.80</td>\n",
       "    </tr>\n",
       "    <tr>\n",
       "      <th>Sports</th>\n",
       "      <td>181.07</td>\n",
       "    </tr>\n",
       "    <tr>\n",
       "      <th>Misc</th>\n",
       "      <td>85.04</td>\n",
       "    </tr>\n",
       "    <tr>\n",
       "      <th>Platform</th>\n",
       "      <td>61.00</td>\n",
       "    </tr>\n",
       "    <tr>\n",
       "      <th>Racing</th>\n",
       "      <td>53.50</td>\n",
       "    </tr>\n",
       "    <tr>\n",
       "      <th>Fighting</th>\n",
       "      <td>44.49</td>\n",
       "    </tr>\n",
       "    <tr>\n",
       "      <th>Simulation</th>\n",
       "      <td>35.12</td>\n",
       "    </tr>\n",
       "    <tr>\n",
       "      <th>Adventure</th>\n",
       "      <td>29.43</td>\n",
       "    </tr>\n",
       "    <tr>\n",
       "      <th>Strategy</th>\n",
       "      <td>13.34</td>\n",
       "    </tr>\n",
       "    <tr>\n",
       "      <th>Puzzle</th>\n",
       "      <td>4.89</td>\n",
       "    </tr>\n",
       "  </tbody>\n",
       "</table>\n",
       "</div>"
      ],
      "text/plain": [
       "              all_sales\n",
       "genre                  \n",
       "Action           441.12\n",
       "Shooter          304.73\n",
       "Role-Playing     192.80\n",
       "Sports           181.07\n",
       "Misc              85.04\n",
       "Platform          61.00\n",
       "Racing            53.50\n",
       "Fighting          44.49\n",
       "Simulation        35.12\n",
       "Adventure         29.43\n",
       "Strategy          13.34\n",
       "Puzzle             4.89"
      ]
     },
     "execution_count": 42,
     "metadata": {},
     "output_type": "execute_result"
    }
   ],
   "source": [
    "genre_top=actual_data.pivot_table(index='genre', values='all_sales', aggfunc='sum').sort_values('all_sales', ascending=False)\n",
    "genre_top"
   ]
  },
  {
   "cell_type": "code",
   "execution_count": 43,
   "id": "444eb34c",
   "metadata": {},
   "outputs": [
    {
     "data": {
      "text/plain": [
       "<AxesSubplot:title={'center':'Медианное значение продаж по платформам'}, xlabel='genre', ylabel='all_sales'>"
      ]
     },
     "execution_count": 43,
     "metadata": {},
     "output_type": "execute_result"
    },
    {
     "data": {
      "image/png": "[encoded data removed]",
      "text/plain": [
       "<Figure size 2160x936 with 1 Axes>"
      ]
     },
     "metadata": {
      "needs_background": "light"
     },
     "output_type": "display_data"
    }
   ],
   "source": [
    "plt.rcParams['figure.figsize']=(30,13)\n",
    "plt.title('Медианное значение продаж по платформам', fontsize=30)\n",
    "sns.barplot(x='genre', y='all_sales', hue='genre', ci=None, data=actual_data, estimator = np.median)"
   ]
  },
  {
   "cell_type": "markdown",
   "id": "79b1cfea",
   "metadata": {},
   "source": [
    "По полученныму результату выделим следующие самые популярные жанры: shooter, sports, platform. Менее актульными оказались adventure и puzzle."
   ]
  },
  {
   "cell_type": "markdown",
   "id": "c22c0900",
   "metadata": {},
   "source": [
    "#### Портрет пользователя каждого региона"
   ]
  },
  {
   "cell_type": "markdown",
   "id": "f8b791d1",
   "metadata": {},
   "source": [
    "+ **Северная Америка**"
   ]
  },
  {
   "cell_type": "markdown",
   "id": "984ad621",
   "metadata": {},
   "source": [
    "*Самые популярные платформы (топ-5).*"
   ]
  },
  {
   "cell_type": "code",
   "execution_count": 44,
   "id": "393b8fd3",
   "metadata": {},
   "outputs": [
    {
     "data": {
      "text/html": [
       "<div>\n",
       "<style scoped>\n",
       "    .dataframe tbody tr th:only-of-type {\n",
       "        vertical-align: middle;\n",
       "    }\n",
       "\n",
       "    .dataframe tbody tr th {\n",
       "        vertical-align: top;\n",
       "    }\n",
       "\n",
       "    .dataframe thead th {\n",
       "        text-align: right;\n",
       "    }\n",
       "</style>\n",
       "<table border=\"1\" class=\"dataframe\">\n",
       "  <thead>\n",
       "    <tr style=\"text-align: right;\">\n",
       "      <th></th>\n",
       "      <th>na_sales</th>\n",
       "    </tr>\n",
       "    <tr>\n",
       "      <th>platform</th>\n",
       "      <th></th>\n",
       "    </tr>\n",
       "  </thead>\n",
       "  <tbody>\n",
       "    <tr>\n",
       "      <th>X360</th>\n",
       "      <td>140.05</td>\n",
       "    </tr>\n",
       "    <tr>\n",
       "      <th>PS4</th>\n",
       "      <td>108.74</td>\n",
       "    </tr>\n",
       "    <tr>\n",
       "      <th>PS3</th>\n",
       "      <td>103.38</td>\n",
       "    </tr>\n",
       "    <tr>\n",
       "      <th>XOne</th>\n",
       "      <td>93.12</td>\n",
       "    </tr>\n",
       "    <tr>\n",
       "      <th>3DS</th>\n",
       "      <td>55.31</td>\n",
       "    </tr>\n",
       "  </tbody>\n",
       "</table>\n",
       "</div>"
      ],
      "text/plain": [
       "          na_sales\n",
       "platform          \n",
       "X360        140.05\n",
       "PS4         108.74\n",
       "PS3         103.38\n",
       "XOne         93.12\n",
       "3DS          55.31"
      ]
     },
     "execution_count": 44,
     "metadata": {},
     "output_type": "execute_result"
    }
   ],
   "source": [
    "actual_data.pivot_table(index='platform', values='na_sales', aggfunc='sum').sort_values('na_sales', ascending=False).head()"
   ]
  },
  {
   "cell_type": "markdown",
   "id": "d2cda852",
   "metadata": {},
   "source": [
    "Самая популярная платформы в Северной Америке за актуальный период - X360, но ненамного от нее отстает PS4, разница в продажах составляет примерно 30 миллионов проданных копий. Далее разница между PS3 и XOne небольшая, примерно в 10 миллионах прод. копий. В самой нижней позиции рейтинга находится 3DS с разницей с предпоследней строчкой в 40 миллионах прод. копий."
   ]
  },
  {
   "cell_type": "markdown",
   "id": "73764158",
   "metadata": {},
   "source": [
    "*Самые популярные жанры (топ-5).*"
   ]
  },
  {
   "cell_type": "code",
   "execution_count": 45,
   "id": "d122fd17",
   "metadata": {},
   "outputs": [
    {
     "data": {
      "text/html": [
       "<div>\n",
       "<style scoped>\n",
       "    .dataframe tbody tr th:only-of-type {\n",
       "        vertical-align: middle;\n",
       "    }\n",
       "\n",
       "    .dataframe tbody tr th {\n",
       "        vertical-align: top;\n",
       "    }\n",
       "\n",
       "    .dataframe thead th {\n",
       "        text-align: right;\n",
       "    }\n",
       "</style>\n",
       "<table border=\"1\" class=\"dataframe\">\n",
       "  <thead>\n",
       "    <tr style=\"text-align: right;\">\n",
       "      <th></th>\n",
       "      <th>na_sales</th>\n",
       "    </tr>\n",
       "    <tr>\n",
       "      <th>genre</th>\n",
       "      <th></th>\n",
       "    </tr>\n",
       "  </thead>\n",
       "  <tbody>\n",
       "    <tr>\n",
       "      <th>Action</th>\n",
       "      <td>177.84</td>\n",
       "    </tr>\n",
       "    <tr>\n",
       "      <th>Shooter</th>\n",
       "      <td>144.77</td>\n",
       "    </tr>\n",
       "    <tr>\n",
       "      <th>Sports</th>\n",
       "      <td>81.53</td>\n",
       "    </tr>\n",
       "    <tr>\n",
       "      <th>Role-Playing</th>\n",
       "      <td>64.00</td>\n",
       "    </tr>\n",
       "    <tr>\n",
       "      <th>Misc</th>\n",
       "      <td>38.19</td>\n",
       "    </tr>\n",
       "  </tbody>\n",
       "</table>\n",
       "</div>"
      ],
      "text/plain": [
       "              na_sales\n",
       "genre                 \n",
       "Action          177.84\n",
       "Shooter         144.77\n",
       "Sports           81.53\n",
       "Role-Playing     64.00\n",
       "Misc             38.19"
      ]
     },
     "execution_count": 45,
     "metadata": {},
     "output_type": "execute_result"
    }
   ],
   "source": [
    "actual_data.pivot_table(index='genre', values='na_sales', aggfunc='sum').sort_values('na_sales', ascending=False).head()"
   ]
  },
  {
   "cell_type": "markdown",
   "id": "2b359653",
   "metadata": {},
   "source": [
    "Топ-5 жанров почти полностью соотвествует топу жанров по всем странам, единственная разница в том, что Role-Playing и Sport поменяли свои позиции друг с другом."
   ]
  },
  {
   "cell_type": "markdown",
   "id": "42bcc748",
   "metadata": {},
   "source": [
    "*Влияет ли рейтинг ESRB на продажи?*"
   ]
  },
  {
   "cell_type": "code",
   "execution_count": 46,
   "id": "30a9fc95",
   "metadata": {},
   "outputs": [
    {
     "data": {
      "text/plain": [
       "<AxesSubplot:title={'center':'Продажи в зависимости от возрастного рейтинга'}, xlabel='rating', ylabel='na_sales'>"
      ]
     },
     "execution_count": 46,
     "metadata": {},
     "output_type": "execute_result"
    },
    {
     "data": {
      "image/png": "[encoded data removed]",
      "text/plain": [
       "<Figure size 360x360 with 1 Axes>"
      ]
     },
     "metadata": {
      "needs_background": "light"
     },
     "output_type": "display_data"
    }
   ],
   "source": [
    "plt.rcParams['figure.figsize']=(5,5)\n",
    "plt.title('Продажи в зависимости от возрастного рейтинга', fontsize=15)\n",
    "sns.barplot(x='rating', y='na_sales', estimator=sum, hue='rating', ci=None, data=actual_data)"
   ]
  },
  {
   "cell_type": "markdown",
   "id": "cc7f3e20",
   "metadata": {},
   "source": [
    "Самые продаваемые игры в Северой Америке имеют рейтинг M (для взрослых, 17+), связано это скорее всего с тем, что игры давно перестали быть развлечением только для детей. Рейтинг E дает возможность охватить большее количество людей, поэтому он занимает вторую строчку. E10+ подразумевает более подходящий контент для юного пользователя, но не отменяет интересного контента также для взрослых, поэтому данный рейтинг занимает следующую строку вместе с рейтингом T. Также присутсвуют немаленькое количество игр, рейтинг которым еще не был выдан."
   ]
  },
  {
   "cell_type": "markdown",
   "id": "ccfa8fa5",
   "metadata": {},
   "source": [
    "+ **Европа**"
   ]
  },
  {
   "cell_type": "markdown",
   "id": "895f7dc1",
   "metadata": {},
   "source": [
    "*Самые популярные платформы (топ-5).*"
   ]
  },
  {
   "cell_type": "code",
   "execution_count": 47,
   "id": "049763d6",
   "metadata": {},
   "outputs": [
    {
     "data": {
      "text/html": [
       "<div>\n",
       "<style scoped>\n",
       "    .dataframe tbody tr th:only-of-type {\n",
       "        vertical-align: middle;\n",
       "    }\n",
       "\n",
       "    .dataframe tbody tr th {\n",
       "        vertical-align: top;\n",
       "    }\n",
       "\n",
       "    .dataframe thead th {\n",
       "        text-align: right;\n",
       "    }\n",
       "</style>\n",
       "<table border=\"1\" class=\"dataframe\">\n",
       "  <thead>\n",
       "    <tr style=\"text-align: right;\">\n",
       "      <th></th>\n",
       "      <th>eu_sales</th>\n",
       "    </tr>\n",
       "    <tr>\n",
       "      <th>platform</th>\n",
       "      <th></th>\n",
       "    </tr>\n",
       "  </thead>\n",
       "  <tbody>\n",
       "    <tr>\n",
       "      <th>PS4</th>\n",
       "      <td>141.09</td>\n",
       "    </tr>\n",
       "    <tr>\n",
       "      <th>PS3</th>\n",
       "      <td>106.86</td>\n",
       "    </tr>\n",
       "    <tr>\n",
       "      <th>X360</th>\n",
       "      <td>74.52</td>\n",
       "    </tr>\n",
       "    <tr>\n",
       "      <th>XOne</th>\n",
       "      <td>51.59</td>\n",
       "    </tr>\n",
       "    <tr>\n",
       "      <th>3DS</th>\n",
       "      <td>42.64</td>\n",
       "    </tr>\n",
       "  </tbody>\n",
       "</table>\n",
       "</div>"
      ],
      "text/plain": [
       "          eu_sales\n",
       "platform          \n",
       "PS4         141.09\n",
       "PS3         106.86\n",
       "X360         74.52\n",
       "XOne         51.59\n",
       "3DS          42.64"
      ]
     },
     "execution_count": 47,
     "metadata": {},
     "output_type": "execute_result"
    }
   ],
   "source": [
    "actual_data.pivot_table(index='platform', values='eu_sales', aggfunc='sum').sort_values('eu_sales', ascending=False).head()"
   ]
  },
  {
   "cell_type": "markdown",
   "id": "6ba65f4a",
   "metadata": {},
   "source": [
    "В Европе топ платформ расположился в немного ином порядке. Можно заметить, что в Европе лидируют платформы компанни PlayStation. Новая версия находится в порядке 30 мил. прод. копий выше своего предшественника. А в случае платформ от microsoft старая версия опережает новую на 20 мил. прод. копий."
   ]
  },
  {
   "cell_type": "markdown",
   "id": "19383063",
   "metadata": {},
   "source": [
    "*Самые популярные жанры (топ-5).*"
   ]
  },
  {
   "cell_type": "code",
   "execution_count": 48,
   "id": "7fbd06e5",
   "metadata": {},
   "outputs": [
    {
     "data": {
      "text/html": [
       "<div>\n",
       "<style scoped>\n",
       "    .dataframe tbody tr th:only-of-type {\n",
       "        vertical-align: middle;\n",
       "    }\n",
       "\n",
       "    .dataframe tbody tr th {\n",
       "        vertical-align: top;\n",
       "    }\n",
       "\n",
       "    .dataframe thead th {\n",
       "        text-align: right;\n",
       "    }\n",
       "</style>\n",
       "<table border=\"1\" class=\"dataframe\">\n",
       "  <thead>\n",
       "    <tr style=\"text-align: right;\">\n",
       "      <th></th>\n",
       "      <th>eu_sales</th>\n",
       "    </tr>\n",
       "    <tr>\n",
       "      <th>genre</th>\n",
       "      <th></th>\n",
       "    </tr>\n",
       "  </thead>\n",
       "  <tbody>\n",
       "    <tr>\n",
       "      <th>Action</th>\n",
       "      <td>159.34</td>\n",
       "    </tr>\n",
       "    <tr>\n",
       "      <th>Shooter</th>\n",
       "      <td>113.47</td>\n",
       "    </tr>\n",
       "    <tr>\n",
       "      <th>Sports</th>\n",
       "      <td>69.09</td>\n",
       "    </tr>\n",
       "    <tr>\n",
       "      <th>Role-Playing</th>\n",
       "      <td>48.53</td>\n",
       "    </tr>\n",
       "    <tr>\n",
       "      <th>Racing</th>\n",
       "      <td>27.29</td>\n",
       "    </tr>\n",
       "  </tbody>\n",
       "</table>\n",
       "</div>"
      ],
      "text/plain": [
       "              eu_sales\n",
       "genre                 \n",
       "Action          159.34\n",
       "Shooter         113.47\n",
       "Sports           69.09\n",
       "Role-Playing     48.53\n",
       "Racing           27.29"
      ]
     },
     "execution_count": 48,
     "metadata": {},
     "output_type": "execute_result"
    }
   ],
   "source": [
    "actual_data.pivot_table(index='genre', values='eu_sales', aggfunc='sum').sort_values('eu_sales', ascending=False).head()"
   ]
  },
  {
   "cell_type": "markdown",
   "id": "db7ad058",
   "metadata": {},
   "source": [
    "В сравнении с Америкой топ-4 жанров полностью идентичен. На 5 место расположился жанр Racing."
   ]
  },
  {
   "cell_type": "markdown",
   "id": "a0a27b14",
   "metadata": {},
   "source": [
    "*Влияет ли рейтинг ESRB на продажи?*"
   ]
  },
  {
   "cell_type": "code",
   "execution_count": 49,
   "id": "7666f4f0",
   "metadata": {},
   "outputs": [
    {
     "data": {
      "text/plain": [
       "<AxesSubplot:title={'center':'Продажи в зависимости от возрастного рейтинга'}, xlabel='rating', ylabel='eu_sales'>"
      ]
     },
     "execution_count": 49,
     "metadata": {},
     "output_type": "execute_result"
    },
    {
     "data": {
      "image/png": "[encoded data removed]",
      "text/plain": [
       "<Figure size 360x360 with 1 Axes>"
      ]
     },
     "metadata": {
      "needs_background": "light"
     },
     "output_type": "display_data"
    }
   ],
   "source": [
    "plt.rcParams['figure.figsize']=(5,5)\n",
    "plt.title('Продажи в зависимости от возрастного рейтинга', fontsize=15)\n",
    "sns.barplot(x='rating', y='eu_sales', estimator=sum, hue='rating', ci=None, data=actual_data)"
   ]
  },
  {
   "cell_type": "markdown",
   "id": "fb7f655f",
   "metadata": {},
   "source": [
    "Как и в Америке, лидирующее большинство игр имеют рейтинг M. И в целом весь топ соотвествует выводу по Северной Америки."
   ]
  },
  {
   "cell_type": "markdown",
   "id": "7a72d6ca",
   "metadata": {},
   "source": [
    "+ **Япония**"
   ]
  },
  {
   "cell_type": "markdown",
   "id": "29f55736",
   "metadata": {},
   "source": [
    "*Самые популярные платформы (топ-5).*\n"
   ]
  },
  {
   "cell_type": "code",
   "execution_count": 50,
   "id": "927410b7",
   "metadata": {},
   "outputs": [
    {
     "data": {
      "text/html": [
       "<div>\n",
       "<style scoped>\n",
       "    .dataframe tbody tr th:only-of-type {\n",
       "        vertical-align: middle;\n",
       "    }\n",
       "\n",
       "    .dataframe tbody tr th {\n",
       "        vertical-align: top;\n",
       "    }\n",
       "\n",
       "    .dataframe thead th {\n",
       "        text-align: right;\n",
       "    }\n",
       "</style>\n",
       "<table border=\"1\" class=\"dataframe\">\n",
       "  <thead>\n",
       "    <tr style=\"text-align: right;\">\n",
       "      <th></th>\n",
       "      <th>jp_sales</th>\n",
       "    </tr>\n",
       "    <tr>\n",
       "      <th>platform</th>\n",
       "      <th></th>\n",
       "    </tr>\n",
       "  </thead>\n",
       "  <tbody>\n",
       "    <tr>\n",
       "      <th>3DS</th>\n",
       "      <td>87.79</td>\n",
       "    </tr>\n",
       "    <tr>\n",
       "      <th>PS3</th>\n",
       "      <td>35.29</td>\n",
       "    </tr>\n",
       "    <tr>\n",
       "      <th>PSV</th>\n",
       "      <td>21.04</td>\n",
       "    </tr>\n",
       "    <tr>\n",
       "      <th>PS4</th>\n",
       "      <td>15.96</td>\n",
       "    </tr>\n",
       "    <tr>\n",
       "      <th>WiiU</th>\n",
       "      <td>13.01</td>\n",
       "    </tr>\n",
       "  </tbody>\n",
       "</table>\n",
       "</div>"
      ],
      "text/plain": [
       "          jp_sales\n",
       "platform          \n",
       "3DS          87.79\n",
       "PS3          35.29\n",
       "PSV          21.04\n",
       "PS4          15.96\n",
       "WiiU         13.01"
      ]
     },
     "execution_count": 50,
     "metadata": {},
     "output_type": "execute_result"
    }
   ],
   "source": [
    "actual_data.pivot_table(index='platform', values='jp_sales', aggfunc='sum').sort_values('jp_sales', ascending=False).head()"
   ]
  },
  {
   "cell_type": "markdown",
   "id": "2a9fabdb",
   "metadata": {},
   "source": [
    "Как обычно и происходит, Азиатский рынок отличается в своих интересах. Так, за актуальный период время в Японии самой популярной платформой является 3DS и отрывается от других платформ на 50 миллионов проданных копий. Три платформы от PlayStation занимают следующие позиции и их продажи очень близки, разница рассчитывается в тысячах проданных копий."
   ]
  },
  {
   "cell_type": "markdown",
   "id": "4a8e9b0d",
   "metadata": {},
   "source": [
    "*Самые популярные жанры (топ-5).*"
   ]
  },
  {
   "cell_type": "code",
   "execution_count": 51,
   "id": "c4f124fb",
   "metadata": {},
   "outputs": [
    {
     "data": {
      "text/html": [
       "<div>\n",
       "<style scoped>\n",
       "    .dataframe tbody tr th:only-of-type {\n",
       "        vertical-align: middle;\n",
       "    }\n",
       "\n",
       "    .dataframe tbody tr th {\n",
       "        vertical-align: top;\n",
       "    }\n",
       "\n",
       "    .dataframe thead th {\n",
       "        text-align: right;\n",
       "    }\n",
       "</style>\n",
       "<table border=\"1\" class=\"dataframe\">\n",
       "  <thead>\n",
       "    <tr style=\"text-align: right;\">\n",
       "      <th></th>\n",
       "      <th>jp_sales</th>\n",
       "    </tr>\n",
       "    <tr>\n",
       "      <th>genre</th>\n",
       "      <th></th>\n",
       "    </tr>\n",
       "  </thead>\n",
       "  <tbody>\n",
       "    <tr>\n",
       "      <th>Role-Playing</th>\n",
       "      <td>65.44</td>\n",
       "    </tr>\n",
       "    <tr>\n",
       "      <th>Action</th>\n",
       "      <td>52.80</td>\n",
       "    </tr>\n",
       "    <tr>\n",
       "      <th>Misc</th>\n",
       "      <td>12.86</td>\n",
       "    </tr>\n",
       "    <tr>\n",
       "      <th>Simulation</th>\n",
       "      <td>10.41</td>\n",
       "    </tr>\n",
       "    <tr>\n",
       "      <th>Fighting</th>\n",
       "      <td>9.44</td>\n",
       "    </tr>\n",
       "  </tbody>\n",
       "</table>\n",
       "</div>"
      ],
      "text/plain": [
       "              jp_sales\n",
       "genre                 \n",
       "Role-Playing     65.44\n",
       "Action           52.80\n",
       "Misc             12.86\n",
       "Simulation       10.41\n",
       "Fighting          9.44"
      ]
     },
     "execution_count": 51,
     "metadata": {},
     "output_type": "execute_result"
    }
   ],
   "source": [
    "actual_data.pivot_table(index='genre', values='jp_sales', aggfunc='sum').sort_values('jp_sales', ascending=False).head()"
   ]
  },
  {
   "cell_type": "markdown",
   "id": "5f987b43",
   "metadata": {},
   "source": [
    "Если в Американском и Европейском рынком жанр Role-Playing занимает 4 место, то в Японии он занимает первое. Также в топе появляются ранее не встречающийся жанры такие как fighting и simulation."
   ]
  },
  {
   "cell_type": "markdown",
   "id": "dea3dcf7",
   "metadata": {},
   "source": [
    "*Влияет ли рейтинг ESRB на продажи?*"
   ]
  },
  {
   "cell_type": "code",
   "execution_count": 52,
   "id": "154a6a25",
   "metadata": {},
   "outputs": [
    {
     "data": {
      "text/plain": [
       "<AxesSubplot:title={'center':'Продажи в зависимости от возрастного рейтинга'}, xlabel='rating', ylabel='jp_sales'>"
      ]
     },
     "execution_count": 52,
     "metadata": {},
     "output_type": "execute_result"
    },
    {
     "data": {
      "image/png": "[encoded data removed]",
      "text/plain": [
       "<Figure size 360x360 with 1 Axes>"
      ]
     },
     "metadata": {
      "needs_background": "light"
     },
     "output_type": "display_data"
    }
   ],
   "source": [
    "plt.rcParams['figure.figsize']=(5,5)\n",
    "plt.title('Продажи в зависимости от возрастного рейтинга', fontsize=15)\n",
    "sns.barplot(x='rating', y='jp_sales', estimator=sum, hue='rating', ci=None, data=actual_data)"
   ]
  },
  {
   "cell_type": "markdown",
   "id": "37a934a8",
   "metadata": {},
   "source": [
    "В Японии слишком велико количество игр, рейтинг которым еще не был назначен. Рейтинг E и T находятся примерно на одном расположении и превышают игр с рейтингом для взрослых."
   ]
  },
  {
   "cell_type": "markdown",
   "id": "a8dc2866",
   "metadata": {},
   "source": [
    "#### Проведем сравнительный анализ по регионам."
   ]
  },
  {
   "cell_type": "markdown",
   "id": "e26e63d1",
   "metadata": {},
   "source": [
    "*Самые популярные платформы (топ-5).*"
   ]
  },
  {
   "cell_type": "code",
   "execution_count": 53,
   "id": "208b770f",
   "metadata": {},
   "outputs": [
    {
     "data": {
      "image/png": "[encoded data removed]",
      "text/plain": [
       "<Figure size 864x432 with 3 Axes>"
      ]
     },
     "metadata": {},
     "output_type": "display_data"
    }
   ],
   "source": [
    "fig, (ax0, ax1, ax2) = plt.subplots(nrows=1, ncols=3, sharex=True,figsize=(12, 6))\n",
    "buf_na = actual_data.pivot_table(index='platform', values='na_sales', aggfunc='sum').sort_values('na_sales', ascending=False).head()\n",
    "ax0.set_title('Северная Америка')\n",
    "ax0.pie(buf_na['na_sales'], labels = buf_na.index, colors = sns.color_palette('pastel')[ 0:5 ], autopct='%.0f%%')\n",
    "buf_eu = actual_data.pivot_table(index='platform', values='eu_sales', aggfunc='sum').sort_values('eu_sales', ascending=False).head()\n",
    "ax1.set_title('Европа')\n",
    "ax1.pie(buf_eu['eu_sales'], labels = buf_eu.index, colors = sns.color_palette('pastel')[ 0:5 ], autopct='%.0f%%')\n",
    "buf_jp = actual_data.pivot_table(index='platform', values='jp_sales', aggfunc='sum').sort_values('jp_sales', ascending=False).head()\n",
    "ax2.set_title('Япония')\n",
    "ax2.pie(buf_jp['jp_sales'], labels = buf_jp.index, colors = sns.color_palette('pastel')[ 0:5 ], autopct='%.0f%%')\n",
    "plt.show()"
   ]
  },
  {
   "cell_type": "markdown",
   "id": "4fee7d67",
   "metadata": {},
   "source": [
    "Каждый регион имеет разную лидирующую платформу, Европа и Америка схожи между собой, у них лишь меняются местами их топ-3. В Японии лидирует платформа местного происхождения, но в топе также присутствуют платформы PlayStation как и в Европе с Америкой."
   ]
  },
  {
   "cell_type": "markdown",
   "id": "13bf9e3f",
   "metadata": {},
   "source": [
    "*Самые популярные жанры (топ-5)*"
   ]
  },
  {
   "cell_type": "code",
   "execution_count": 54,
   "id": "ee74c1dc",
   "metadata": {},
   "outputs": [
    {
     "data": {
      "image/png": "[encoded data removed]",
      "text/plain": [
       "<Figure size 864x432 with 3 Axes>"
      ]
     },
     "metadata": {},
     "output_type": "display_data"
    }
   ],
   "source": [
    "fig, (ax0, ax1, ax2) = plt.subplots(nrows=1, ncols=3, sharex=True,figsize=(12, 6))\n",
    "buf_na = actual_data.pivot_table(index='genre', values='na_sales', aggfunc='sum').sort_values('na_sales', ascending=False).head()\n",
    "ax0.set_title('Северная Америка')\n",
    "ax0.pie(buf_na['na_sales'], labels = buf_na.index, colors = sns.color_palette('pastel')[ 0:5 ], autopct='%.0f%%')\n",
    "buf_eu = actual_data.pivot_table(index='genre', values='eu_sales', aggfunc='sum').sort_values('eu_sales', ascending=False).head()\n",
    "ax1.set_title('Европа')\n",
    "ax1.pie(buf_eu['eu_sales'], labels = buf_eu.index, colors = sns.color_palette('pastel')[ 0:5 ], autopct='%.0f%%')\n",
    "ax2.set_title('Япония')\n",
    "buf_jp = actual_data.pivot_table(index='genre', values='jp_sales', aggfunc='sum').sort_values('jp_sales', ascending=False).head()\n",
    "ax2.pie(buf_jp['jp_sales'], labels = buf_jp.index, colors = sns.color_palette('pastel')[ 0:5 ], autopct='%.0f%%')\n",
    "plt.show()"
   ]
  },
  {
   "cell_type": "markdown",
   "id": "64202270",
   "metadata": {},
   "source": [
    "Америка и Европа вновь очень близки между собой, у них даже с разницей в пару процентов совпадают доли, только отличаются жанры на 5 месте. У Японии процент продаж платформ жанры action совпадает с процентом в Америке и с разнице в 2% с Европой. Но лидирущую позицию занимает менее популярный чем в западных странах role-playing."
   ]
  },
  {
   "cell_type": "markdown",
   "id": "feb42376",
   "metadata": {},
   "source": [
    "*Влияет ли рейтинг ESRB на продажи?*"
   ]
  },
  {
   "cell_type": "code",
   "execution_count": 55,
   "id": "a62324e1",
   "metadata": {},
   "outputs": [
    {
     "data": {
      "image/png": "[encoded data removed]",
      "text/plain": [
       "<Figure size 864x432 with 3 Axes>"
      ]
     },
     "metadata": {},
     "output_type": "display_data"
    }
   ],
   "source": [
    "fig, (ax0, ax1, ax2) = plt.subplots(nrows=1, ncols=3, sharex=True,figsize=(12, 6))\n",
    "buf_na = actual_data.pivot_table(index='rating', values='na_sales', aggfunc='sum').sort_values('na_sales', ascending=False).head()\n",
    "ax0.set_title('Северная Америка')\n",
    "ax0.pie(buf_na['na_sales'], labels = buf_na.index, colors = sns.color_palette('pastel')[ 0:5 ], autopct='%.0f%%')\n",
    "buf_eu = actual_data.pivot_table(index='rating', values='eu_sales', aggfunc='sum').sort_values('eu_sales', ascending=False).head()\n",
    "ax1.set_title('Европа')\n",
    "ax1.pie(buf_eu['eu_sales'], labels = buf_eu.index, colors = sns.color_palette('pastel')[ 0:5 ], autopct='%.0f%%')\n",
    "buf_jp = actual_data.pivot_table(index='rating', values='jp_sales', aggfunc='sum').sort_values('jp_sales', ascending=False).head()\n",
    "ax2.set_title('Япония')\n",
    "ax2.pie(buf_jp['jp_sales'], labels = buf_jp.index, colors = sns.color_palette('pastel')[ 0:5 ], autopct='%.0f%%')\n",
    "plt.show()"
   ]
  },
  {
   "cell_type": "markdown",
   "id": "b0bb464a",
   "metadata": {},
   "source": [
    "В Японии чаще продаются игры с рейтингом T чем с рейтингом M в сравнении с Европой и Америкой. Также там превалируют продажи игр, рейтинг которых еще не был обозначен, что подтверждает разницу между рынком Азии и остальными."
   ]
  },
  {
   "cell_type": "markdown",
   "id": "67f4b2b8",
   "metadata": {},
   "source": [
    "#### Проверка гипотез\n"
   ]
  },
  {
   "cell_type": "markdown",
   "id": "5ca70f99",
   "metadata": {},
   "source": [
    "**Проверим:**\n",
    "\n",
    "1. Средние пользовательские рейтинги платформ Xbox One и PC одинаковые;\n",
    "\n",
    "2. Средние пользовательские рейтинги жанров Action и Sports разные."
   ]
  },
  {
   "cell_type": "markdown",
   "id": "3f510971",
   "metadata": {},
   "source": [
    "*Далее спр - средний пользовательский рейтинг*\n",
    "\n",
    "\n",
    "Для проверки первой гипотезы сформулируем нулевую и альтерантивную гипотезу:\n",
    "\n",
    "H0 = \"спр XboxOne == спр PС\"\n",
    "\n",
    "H1 = \"спр XboxOne != спр PС\"\n",
    "\n",
    "Генеральные совокупности не зависят друг от друга. Также чтобы построить t-тест нужно избавить от пропусков, тогда размеры выборок будут сильно отличаться, поэтому параметр equal_var сделаем равным False."
   ]
  },
  {
   "cell_type": "code",
   "execution_count": 56,
   "id": "b2df85c2",
   "metadata": {},
   "outputs": [
    {
     "name": "stdout",
     "output_type": "stream",
     "text": [
      "p-значение: 0.5489537965\n",
      "Не получилось отвергнуть нулевую гипотезу\n"
     ]
    }
   ],
   "source": [
    "from scipy import stats as st\n",
    "\n",
    "\n",
    "alpha = .01\n",
    "results = st.ttest_ind(\n",
    "    actual_data.loc[(actual_data['platform'] == 'XOne') & (actual_data['user_score'].notna())]['user_score'], \n",
    "    actual_data.loc[(actual_data['platform'] == 'PC') & (actual_data['user_score'].notna())]['user_score'], equal_var=False)\n",
    "\n",
    "print('p-значение:', '{:.10f}'.format(results.pvalue))\n",
    "\n",
    "if results.pvalue < alpha:\n",
    "    print(\"Отвергаем нулевую гипотезу\")\n",
    "else:\n",
    "    print(\"Не получилось отвергнуть нулевую гипотезу\") "
   ]
  },
  {
   "cell_type": "markdown",
   "id": "572107cd",
   "metadata": {},
   "source": [
    "Снизу подтверждение, что размер выборок будет различный."
   ]
  },
  {
   "cell_type": "code",
   "execution_count": 57,
   "id": "5b4dd281",
   "metadata": {},
   "outputs": [
    {
     "data": {
      "text/plain": [
       "181"
      ]
     },
     "execution_count": 57,
     "metadata": {},
     "output_type": "execute_result"
    }
   ],
   "source": [
    "actual_data.loc[(actual_data['platform'] == 'XOne') & (actual_data['user_score'].notna())]['user_score'].reset_index(drop=True).index.max()"
   ]
  },
  {
   "cell_type": "code",
   "execution_count": 58,
   "id": "a973d4a7",
   "metadata": {},
   "outputs": [
    {
     "data": {
      "text/plain": [
       "205"
      ]
     },
     "execution_count": 58,
     "metadata": {},
     "output_type": "execute_result"
    }
   ],
   "source": [
    "actual_data.loc[(actual_data['platform'] == 'PC') & (actual_data['user_score'].notna())]['user_score'].reset_index(drop=True).index.max()"
   ]
  },
  {
   "cell_type": "markdown",
   "id": "0e162066",
   "metadata": {},
   "source": [
    "Получается, что средний пользовательских рейтинг платформ Xbox One и PC одинаковый. Это может являться причинной того, что чаще всего игры, которые выходят на одной платформе через какое-то время или сразу выходят на другой."
   ]
  },
  {
   "cell_type": "markdown",
   "id": "f7360c50",
   "metadata": {},
   "source": [
    "Для проверки второй гипотезы сформулируем нулевую и альтерантивную гипотезу:\n",
    "\n",
    "H0 = \"спр жанров Action != спр Sports\"\n",
    "\n",
    "H1 = \"спр жанров Action == спр Sports\""
   ]
  },
  {
   "cell_type": "markdown",
   "id": "96635b12",
   "metadata": {},
   "source": [
    "Аналогично проверки первой гипотезы, нам нужно сравнить две независящие друг от друга совокупности,а также наши выборки имеют разный размер, поэтому параметр equal_var переведем в False. "
   ]
  },
  {
   "cell_type": "code",
   "execution_count": 59,
   "id": "d542345b",
   "metadata": {},
   "outputs": [
    {
     "name": "stdout",
     "output_type": "stream",
     "text": [
      "p-значение: 0.000000000000000000042\n",
      "Не получилось отвергнуть нулевую гипотезу\n"
     ]
    }
   ],
   "source": [
    "from scipy import stats as st\n",
    "\n",
    "alpha = .01\n",
    "results = st.ttest_ind(\n",
    "    actual_data.loc[(actual_data['genre'] == 'Action') & (actual_data['user_score'].notna())]['user_score'], \n",
    "    actual_data.loc[(actual_data['genre'] == 'Sports') & (actual_data['user_score'].notna())]['user_score'], equal_var=False)\n",
    "\n",
    "print('p-значение:', '{:.21f}'.format(results.pvalue))\n",
    "\n",
    "if results.pvalue < alpha:\n",
    "    print(\"Не получилось отвергнуть нулевую гипотезу\")\n",
    "else:\n",
    "    print(\"Отвергаем нулевую гипотезу\") "
   ]
  },
  {
   "cell_type": "code",
   "execution_count": 60,
   "id": "aae07a81",
   "metadata": {},
   "outputs": [
    {
     "data": {
      "text/plain": [
       "1030"
      ]
     },
     "execution_count": 60,
     "metadata": {},
     "output_type": "execute_result"
    }
   ],
   "source": [
    "actual_data.loc[(actual_data['genre'] == 'Action')]['user_score'].reset_index(drop=True).index.max()"
   ]
  },
  {
   "cell_type": "code",
   "execution_count": 61,
   "id": "88bd2b2d",
   "metadata": {},
   "outputs": [
    {
     "data": {
      "text/plain": [
       "267"
      ]
     },
     "execution_count": 61,
     "metadata": {},
     "output_type": "execute_result"
    }
   ],
   "source": [
    "actual_data.loc[(actual_data['genre'] == 'Sports')]['user_score'].reset_index(drop=True).index.max()"
   ]
  },
  {
   "cell_type": "markdown",
   "id": "2ed1edca",
   "metadata": {},
   "source": [
    "Получается, что мы не можем отвергать, что средние пользовательские рейтинги жанров Action и Sports разные. В это есть верное зерно, ведь жанр Action в большинстве случаев имеет возрастной рейтинг из-за наличия шутеров и др., а Sports обычно подходит для любых возрастных категорий."
   ]
  },
  {
   "cell_type": "markdown",
   "id": "eaedeca0",
   "metadata": {},
   "source": [
    "#### Вывод\n",
    "\n",
    "Допустим, если бы мы хотели сделать прогнозы на 2017 год, то по проведенному исследованию можно было сделать следующие выводы:\n",
    "\n",
    "При исслдеовании было выявлено, что в среднем любая платформа живет около 10 лет. Для прогнозировнаия 2017 года был выявлен актуальный период, который начинатся с 2012 года, так как за 3-4 года платформы полностью теряет свою популярность. Итого, самыми прибыльными платформами в 2017 году будут являться (в большей степени) PS4 и XBoxOne. Их продаже покажут рост по сравнению с 2015 и 2016 годами. Также на продажу той или иной игры лучше опираться на отзывы критиков, чем пользователей, но и то их степень взаимосвязи несильно высока. Самыми прибыльными жанрами за актульный период будут являться shooter, sports, platform, а ставки на adventure и puzzle лучше не ставить. В Северной Америке все еще сохраняет популярность игры на платформу Xbox360, но судя по росту PS4 и спаду Xbox360, скоро его место займет платформа от PlayStation. Action, shooter - лидирющие жанры в Север. Америке, оттого и рейтинг чаще всего встречающийся у продаваемых игр там имеет возрастное ограничение M. В Европе лидирующее большинство пользуется платформами от PlayStation, жанры совпадают с интересами Северной Америки, поэтому и возрастное ограничение тоже. Японцы отдают предпочтение платформе 3Ds, остальные места в топе аналогично Европе - платфоры от PlayStation. Любимый жанр Японцев - Role-Playing, а также у них отсутсвует какой-либо сильно превалирующий возрастной рейтинг.\n"
   ]
  }
 ],
 "metadata": {
  "ExecuteTimeLog": [
   {
    "duration": 1606,
    "start_time": "2022-10-20T16:04:39.244Z"
   },
   {
    "duration": 164,
    "start_time": "2022-10-20T16:04:40.852Z"
   },
   {
    "duration": 0,
    "start_time": "2022-10-20T16:04:41.021Z"
   },
   {
    "duration": 0,
    "start_time": "2022-10-20T16:04:41.022Z"
   },
   {
    "duration": 0,
    "start_time": "2022-10-20T16:04:41.024Z"
   },
   {
    "duration": 0,
    "start_time": "2022-10-20T16:04:41.025Z"
   },
   {
    "duration": 0,
    "start_time": "2022-10-20T16:04:41.026Z"
   },
   {
    "duration": 0,
    "start_time": "2022-10-20T16:04:41.028Z"
   },
   {
    "duration": 0,
    "start_time": "2022-10-20T16:04:41.032Z"
   },
   {
    "duration": 0,
    "start_time": "2022-10-20T16:04:41.033Z"
   },
   {
    "duration": 0,
    "start_time": "2022-10-20T16:04:41.034Z"
   },
   {
    "duration": 0,
    "start_time": "2022-10-20T16:04:41.036Z"
   },
   {
    "duration": 0,
    "start_time": "2022-10-20T16:04:41.037Z"
   },
   {
    "duration": 0,
    "start_time": "2022-10-20T16:04:41.038Z"
   },
   {
    "duration": 0,
    "start_time": "2022-10-20T16:04:41.039Z"
   },
   {
    "duration": 0,
    "start_time": "2022-10-20T16:04:41.041Z"
   },
   {
    "duration": 0,
    "start_time": "2022-10-20T16:04:41.042Z"
   },
   {
    "duration": 0,
    "start_time": "2022-10-20T16:04:41.043Z"
   },
   {
    "duration": 0,
    "start_time": "2022-10-20T16:04:41.044Z"
   },
   {
    "duration": 0,
    "start_time": "2022-10-20T16:04:41.045Z"
   },
   {
    "duration": 1,
    "start_time": "2022-10-20T16:04:41.046Z"
   },
   {
    "duration": 0,
    "start_time": "2022-10-20T16:04:41.047Z"
   },
   {
    "duration": 0,
    "start_time": "2022-10-20T16:04:41.049Z"
   },
   {
    "duration": 0,
    "start_time": "2022-10-20T16:04:41.052Z"
   },
   {
    "duration": 0,
    "start_time": "2022-10-20T16:04:41.053Z"
   },
   {
    "duration": 0,
    "start_time": "2022-10-20T16:04:41.054Z"
   },
   {
    "duration": 0,
    "start_time": "2022-10-20T16:04:41.055Z"
   },
   {
    "duration": 0,
    "start_time": "2022-10-20T16:04:41.055Z"
   },
   {
    "duration": 0,
    "start_time": "2022-10-20T16:04:41.057Z"
   },
   {
    "duration": 0,
    "start_time": "2022-10-20T16:04:41.058Z"
   },
   {
    "duration": 1,
    "start_time": "2022-10-20T16:04:41.058Z"
   },
   {
    "duration": 0,
    "start_time": "2022-10-20T16:04:41.059Z"
   },
   {
    "duration": 0,
    "start_time": "2022-10-20T16:04:41.060Z"
   },
   {
    "duration": 0,
    "start_time": "2022-10-20T16:04:41.061Z"
   },
   {
    "duration": 0,
    "start_time": "2022-10-20T16:04:41.062Z"
   },
   {
    "duration": 0,
    "start_time": "2022-10-20T16:04:41.063Z"
   },
   {
    "duration": 0,
    "start_time": "2022-10-20T16:04:41.064Z"
   },
   {
    "duration": 0,
    "start_time": "2022-10-20T16:04:41.065Z"
   },
   {
    "duration": 0,
    "start_time": "2022-10-20T16:04:41.069Z"
   },
   {
    "duration": 0,
    "start_time": "2022-10-20T16:04:41.071Z"
   },
   {
    "duration": 0,
    "start_time": "2022-10-20T16:04:41.072Z"
   },
   {
    "duration": 0,
    "start_time": "2022-10-20T16:04:41.073Z"
   },
   {
    "duration": 0,
    "start_time": "2022-10-20T16:04:41.073Z"
   },
   {
    "duration": 0,
    "start_time": "2022-10-20T16:04:41.074Z"
   },
   {
    "duration": 0,
    "start_time": "2022-10-20T16:04:41.075Z"
   },
   {
    "duration": 0,
    "start_time": "2022-10-20T16:04:41.125Z"
   },
   {
    "duration": 0,
    "start_time": "2022-10-20T16:04:41.125Z"
   },
   {
    "duration": 0,
    "start_time": "2022-10-20T16:04:41.126Z"
   },
   {
    "duration": 0,
    "start_time": "2022-10-20T16:04:41.130Z"
   },
   {
    "duration": 0,
    "start_time": "2022-10-20T16:04:41.131Z"
   },
   {
    "duration": 0,
    "start_time": "2022-10-20T16:04:41.132Z"
   },
   {
    "duration": 0,
    "start_time": "2022-10-20T16:04:41.137Z"
   },
   {
    "duration": 0,
    "start_time": "2022-10-20T16:04:41.142Z"
   },
   {
    "duration": 0,
    "start_time": "2022-10-20T16:04:41.143Z"
   },
   {
    "duration": 0,
    "start_time": "2022-10-20T16:04:41.146Z"
   },
   {
    "duration": 0,
    "start_time": "2022-10-20T16:04:41.160Z"
   },
   {
    "duration": 1258,
    "start_time": "2022-10-20T16:22:34.602Z"
   },
   {
    "duration": 41,
    "start_time": "2022-10-20T16:22:36.685Z"
   },
   {
    "duration": 117,
    "start_time": "2022-10-20T16:23:08.667Z"
   },
   {
    "duration": 57,
    "start_time": "2022-10-20T16:23:58.052Z"
   },
   {
    "duration": 130,
    "start_time": "2022-10-20T16:24:20.904Z"
   },
   {
    "duration": 18,
    "start_time": "2022-10-20T16:24:23.338Z"
   },
   {
    "duration": 1116,
    "start_time": "2022-10-20T16:28:03.405Z"
   },
   {
    "duration": 59,
    "start_time": "2022-10-20T16:28:04.523Z"
   },
   {
    "duration": 22,
    "start_time": "2022-10-20T16:28:04.584Z"
   },
   {
    "duration": 14,
    "start_time": "2022-10-20T16:28:04.608Z"
   },
   {
    "duration": 3,
    "start_time": "2022-10-20T16:28:04.624Z"
   },
   {
    "duration": 7,
    "start_time": "2022-10-20T16:28:04.628Z"
   },
   {
    "duration": 18,
    "start_time": "2022-10-20T16:28:04.636Z"
   },
   {
    "duration": 17,
    "start_time": "2022-10-20T16:28:04.656Z"
   },
   {
    "duration": 8,
    "start_time": "2022-10-20T16:28:04.674Z"
   },
   {
    "duration": 47,
    "start_time": "2022-10-20T16:28:04.684Z"
   },
   {
    "duration": 10,
    "start_time": "2022-10-20T16:28:04.733Z"
   },
   {
    "duration": 30,
    "start_time": "2022-10-20T16:28:04.745Z"
   },
   {
    "duration": 11,
    "start_time": "2022-10-20T16:28:04.777Z"
   },
   {
    "duration": 18,
    "start_time": "2022-10-20T16:28:04.791Z"
   },
   {
    "duration": 28,
    "start_time": "2022-10-20T16:28:04.811Z"
   },
   {
    "duration": 31,
    "start_time": "2022-10-20T16:28:04.841Z"
   },
   {
    "duration": 5,
    "start_time": "2022-10-20T16:28:04.875Z"
   },
   {
    "duration": 36,
    "start_time": "2022-10-20T16:28:04.881Z"
   },
   {
    "duration": 35,
    "start_time": "2022-10-20T16:28:04.919Z"
   },
   {
    "duration": 16,
    "start_time": "2022-10-20T16:28:04.956Z"
   },
   {
    "duration": 31,
    "start_time": "2022-10-20T16:28:04.974Z"
   },
   {
    "duration": 19,
    "start_time": "2022-10-20T16:28:05.007Z"
   },
   {
    "duration": 19,
    "start_time": "2022-10-20T16:28:05.027Z"
   },
   {
    "duration": 15,
    "start_time": "2022-10-20T16:28:05.047Z"
   },
   {
    "duration": 45,
    "start_time": "2022-10-20T16:28:05.064Z"
   },
   {
    "duration": 31,
    "start_time": "2022-10-20T16:28:05.111Z"
   },
   {
    "duration": 33,
    "start_time": "2022-10-20T16:28:05.144Z"
   },
   {
    "duration": 38,
    "start_time": "2022-10-20T16:28:05.178Z"
   },
   {
    "duration": 267,
    "start_time": "2022-10-20T16:28:05.217Z"
   },
   {
    "duration": 0,
    "start_time": "2022-10-20T16:28:05.486Z"
   },
   {
    "duration": 0,
    "start_time": "2022-10-20T16:28:05.487Z"
   },
   {
    "duration": 0,
    "start_time": "2022-10-20T16:28:05.488Z"
   },
   {
    "duration": 0,
    "start_time": "2022-10-20T16:28:05.489Z"
   },
   {
    "duration": 0,
    "start_time": "2022-10-20T16:28:05.490Z"
   },
   {
    "duration": 0,
    "start_time": "2022-10-20T16:28:05.491Z"
   },
   {
    "duration": 0,
    "start_time": "2022-10-20T16:28:05.492Z"
   },
   {
    "duration": 0,
    "start_time": "2022-10-20T16:28:05.493Z"
   },
   {
    "duration": 0,
    "start_time": "2022-10-20T16:28:05.494Z"
   },
   {
    "duration": 0,
    "start_time": "2022-10-20T16:28:05.495Z"
   },
   {
    "duration": 0,
    "start_time": "2022-10-20T16:28:05.496Z"
   },
   {
    "duration": 0,
    "start_time": "2022-10-20T16:28:05.497Z"
   },
   {
    "duration": 0,
    "start_time": "2022-10-20T16:28:05.497Z"
   },
   {
    "duration": 0,
    "start_time": "2022-10-20T16:28:05.498Z"
   },
   {
    "duration": 0,
    "start_time": "2022-10-20T16:28:05.499Z"
   },
   {
    "duration": 0,
    "start_time": "2022-10-20T16:28:05.500Z"
   },
   {
    "duration": 0,
    "start_time": "2022-10-20T16:28:05.522Z"
   },
   {
    "duration": 0,
    "start_time": "2022-10-20T16:28:05.523Z"
   },
   {
    "duration": 0,
    "start_time": "2022-10-20T16:28:05.524Z"
   },
   {
    "duration": 0,
    "start_time": "2022-10-20T16:28:05.525Z"
   },
   {
    "duration": 0,
    "start_time": "2022-10-20T16:28:05.526Z"
   },
   {
    "duration": 0,
    "start_time": "2022-10-20T16:28:05.527Z"
   },
   {
    "duration": 0,
    "start_time": "2022-10-20T16:28:05.528Z"
   },
   {
    "duration": 0,
    "start_time": "2022-10-20T16:28:05.529Z"
   },
   {
    "duration": 0,
    "start_time": "2022-10-20T16:28:05.530Z"
   },
   {
    "duration": 0,
    "start_time": "2022-10-20T16:28:05.530Z"
   },
   {
    "duration": 0,
    "start_time": "2022-10-20T16:28:05.531Z"
   },
   {
    "duration": 178,
    "start_time": "2022-10-20T16:29:25.823Z"
   },
   {
    "duration": 73992,
    "start_time": "2022-10-20T16:30:02.931Z"
   },
   {
    "duration": 375,
    "start_time": "2022-10-20T16:32:19.739Z"
   },
   {
    "duration": 1118,
    "start_time": "2022-10-20T16:32:37.492Z"
   },
   {
    "duration": 58,
    "start_time": "2022-10-20T16:32:38.612Z"
   },
   {
    "duration": 18,
    "start_time": "2022-10-20T16:32:38.672Z"
   },
   {
    "duration": 14,
    "start_time": "2022-10-20T16:32:38.692Z"
   },
   {
    "duration": 3,
    "start_time": "2022-10-20T16:32:38.707Z"
   },
   {
    "duration": 9,
    "start_time": "2022-10-20T16:32:38.712Z"
   },
   {
    "duration": 23,
    "start_time": "2022-10-20T16:32:38.723Z"
   },
   {
    "duration": 16,
    "start_time": "2022-10-20T16:32:38.748Z"
   },
   {
    "duration": 9,
    "start_time": "2022-10-20T16:32:38.765Z"
   },
   {
    "duration": 22,
    "start_time": "2022-10-20T16:32:38.776Z"
   },
   {
    "duration": 25,
    "start_time": "2022-10-20T16:32:38.800Z"
   },
   {
    "duration": 25,
    "start_time": "2022-10-20T16:32:38.827Z"
   },
   {
    "duration": 5,
    "start_time": "2022-10-20T16:32:38.853Z"
   },
   {
    "duration": 23,
    "start_time": "2022-10-20T16:32:38.860Z"
   },
   {
    "duration": 8,
    "start_time": "2022-10-20T16:32:38.886Z"
   },
   {
    "duration": 47,
    "start_time": "2022-10-20T16:32:38.896Z"
   },
   {
    "duration": 5,
    "start_time": "2022-10-20T16:32:38.945Z"
   },
   {
    "duration": 18,
    "start_time": "2022-10-20T16:32:38.952Z"
   },
   {
    "duration": 29,
    "start_time": "2022-10-20T16:32:38.973Z"
   },
   {
    "duration": 20,
    "start_time": "2022-10-20T16:32:39.004Z"
   },
   {
    "duration": 13,
    "start_time": "2022-10-20T16:32:39.026Z"
   },
   {
    "duration": 12,
    "start_time": "2022-10-20T16:32:39.041Z"
   },
   {
    "duration": 7,
    "start_time": "2022-10-20T16:32:39.054Z"
   },
   {
    "duration": 6,
    "start_time": "2022-10-20T16:32:39.065Z"
   },
   {
    "duration": 23,
    "start_time": "2022-10-20T16:32:39.073Z"
   },
   {
    "duration": 25,
    "start_time": "2022-10-20T16:32:39.098Z"
   },
   {
    "duration": 5,
    "start_time": "2022-10-20T16:32:39.124Z"
   },
   {
    "duration": 15,
    "start_time": "2022-10-20T16:32:39.132Z"
   },
   {
    "duration": 423,
    "start_time": "2022-10-20T16:32:39.148Z"
   },
   {
    "duration": 27,
    "start_time": "2022-10-20T16:32:39.572Z"
   },
   {
    "duration": 731,
    "start_time": "2022-10-20T16:32:39.601Z"
   },
   {
    "duration": 15,
    "start_time": "2022-10-20T16:32:40.334Z"
   },
   {
    "duration": 860,
    "start_time": "2022-10-20T16:32:40.351Z"
   },
   {
    "duration": 242,
    "start_time": "2022-10-20T16:32:41.213Z"
   },
   {
    "duration": 630,
    "start_time": "2022-10-20T16:32:41.457Z"
   },
   {
    "duration": 256,
    "start_time": "2022-10-20T16:32:42.089Z"
   },
   {
    "duration": 14,
    "start_time": "2022-10-20T16:32:42.347Z"
   },
   {
    "duration": 297,
    "start_time": "2022-10-20T16:32:42.362Z"
   },
   {
    "duration": 245,
    "start_time": "2022-10-20T16:32:42.661Z"
   },
   {
    "duration": 23,
    "start_time": "2022-10-20T16:32:42.908Z"
   },
   {
    "duration": 721,
    "start_time": "2022-10-20T16:32:42.932Z"
   },
   {
    "duration": 17,
    "start_time": "2022-10-20T16:32:43.655Z"
   },
   {
    "duration": 16,
    "start_time": "2022-10-20T16:32:43.674Z"
   },
   {
    "duration": 305,
    "start_time": "2022-10-20T16:32:43.691Z"
   },
   {
    "duration": 24,
    "start_time": "2022-10-20T16:32:43.998Z"
   },
   {
    "duration": 13,
    "start_time": "2022-10-20T16:32:44.023Z"
   },
   {
    "duration": 284,
    "start_time": "2022-10-20T16:32:44.038Z"
   },
   {
    "duration": 13,
    "start_time": "2022-10-20T16:32:44.324Z"
   },
   {
    "duration": 14,
    "start_time": "2022-10-20T16:32:44.339Z"
   },
   {
    "duration": 325,
    "start_time": "2022-10-20T16:32:44.354Z"
   },
   {
    "duration": 10,
    "start_time": "2022-10-20T16:32:44.681Z"
   },
   {
    "duration": 8,
    "start_time": "2022-10-20T16:32:44.693Z"
   },
   {
    "duration": 26,
    "start_time": "2022-10-20T16:32:44.703Z"
   },
   {
    "duration": 16,
    "start_time": "2022-10-20T16:32:44.731Z"
   },
   {
    "duration": 8,
    "start_time": "2022-10-20T16:32:44.749Z"
   },
   {
    "duration": 9,
    "start_time": "2022-10-20T16:32:44.759Z"
   },
   {
    "duration": 1157,
    "start_time": "2022-10-20T16:34:58.200Z"
   },
   {
    "duration": 65,
    "start_time": "2022-10-20T16:34:59.360Z"
   },
   {
    "duration": 18,
    "start_time": "2022-10-20T16:34:59.426Z"
   },
   {
    "duration": 13,
    "start_time": "2022-10-20T16:34:59.446Z"
   },
   {
    "duration": 4,
    "start_time": "2022-10-20T16:34:59.461Z"
   },
   {
    "duration": 11,
    "start_time": "2022-10-20T16:34:59.467Z"
   },
   {
    "duration": 18,
    "start_time": "2022-10-20T16:34:59.479Z"
   },
   {
    "duration": 33,
    "start_time": "2022-10-20T16:34:59.499Z"
   },
   {
    "duration": 13,
    "start_time": "2022-10-20T16:34:59.534Z"
   },
   {
    "duration": 25,
    "start_time": "2022-10-20T16:34:59.549Z"
   },
   {
    "duration": 11,
    "start_time": "2022-10-20T16:34:59.575Z"
   },
   {
    "duration": 35,
    "start_time": "2022-10-20T16:34:59.588Z"
   },
   {
    "duration": 5,
    "start_time": "2022-10-20T16:34:59.625Z"
   },
   {
    "duration": 25,
    "start_time": "2022-10-20T16:34:59.631Z"
   },
   {
    "duration": 5,
    "start_time": "2022-10-20T16:34:59.657Z"
   },
   {
    "duration": 25,
    "start_time": "2022-10-20T16:34:59.664Z"
   },
   {
    "duration": 4,
    "start_time": "2022-10-20T16:34:59.690Z"
   },
   {
    "duration": 13,
    "start_time": "2022-10-20T16:34:59.696Z"
   },
   {
    "duration": 21,
    "start_time": "2022-10-20T16:34:59.721Z"
   },
   {
    "duration": 5,
    "start_time": "2022-10-20T16:34:59.744Z"
   },
   {
    "duration": 13,
    "start_time": "2022-10-20T16:34:59.750Z"
   },
   {
    "duration": 8,
    "start_time": "2022-10-20T16:34:59.764Z"
   },
   {
    "duration": 9,
    "start_time": "2022-10-20T16:34:59.774Z"
   },
   {
    "duration": 7,
    "start_time": "2022-10-20T16:34:59.785Z"
   },
   {
    "duration": 35,
    "start_time": "2022-10-20T16:34:59.794Z"
   },
   {
    "duration": 14,
    "start_time": "2022-10-20T16:34:59.831Z"
   },
   {
    "duration": 9,
    "start_time": "2022-10-20T16:34:59.846Z"
   },
   {
    "duration": 15,
    "start_time": "2022-10-20T16:34:59.858Z"
   },
   {
    "duration": 420,
    "start_time": "2022-10-20T16:34:59.875Z"
   },
   {
    "duration": 33,
    "start_time": "2022-10-20T16:35:00.297Z"
   },
   {
    "duration": 702,
    "start_time": "2022-10-20T16:35:00.332Z"
   },
   {
    "duration": 15,
    "start_time": "2022-10-20T16:35:01.036Z"
   },
   {
    "duration": 856,
    "start_time": "2022-10-20T16:35:01.053Z"
   },
   {
    "duration": 228,
    "start_time": "2022-10-20T16:35:01.911Z"
   },
   {
    "duration": 583,
    "start_time": "2022-10-20T16:35:02.140Z"
   },
   {
    "duration": 250,
    "start_time": "2022-10-20T16:35:02.724Z"
   },
   {
    "duration": 15,
    "start_time": "2022-10-20T16:35:02.976Z"
   },
   {
    "duration": 315,
    "start_time": "2022-10-20T16:35:02.992Z"
   },
   {
    "duration": 256,
    "start_time": "2022-10-20T16:35:03.309Z"
   },
   {
    "duration": 14,
    "start_time": "2022-10-20T16:35:03.567Z"
   },
   {
    "duration": 741,
    "start_time": "2022-10-20T16:35:03.583Z"
   },
   {
    "duration": 16,
    "start_time": "2022-10-20T16:35:04.326Z"
   },
   {
    "duration": 14,
    "start_time": "2022-10-20T16:35:04.343Z"
   },
   {
    "duration": 306,
    "start_time": "2022-10-20T16:35:04.359Z"
   },
   {
    "duration": 15,
    "start_time": "2022-10-20T16:35:04.666Z"
   },
   {
    "duration": 14,
    "start_time": "2022-10-20T16:35:04.682Z"
   },
   {
    "duration": 301,
    "start_time": "2022-10-20T16:35:04.697Z"
   },
   {
    "duration": 23,
    "start_time": "2022-10-20T16:35:05.000Z"
   },
   {
    "duration": 13,
    "start_time": "2022-10-20T16:35:05.024Z"
   },
   {
    "duration": 312,
    "start_time": "2022-10-20T16:35:05.039Z"
   },
   {
    "duration": 10,
    "start_time": "2022-10-20T16:35:05.353Z"
   },
   {
    "duration": 11,
    "start_time": "2022-10-20T16:35:05.364Z"
   },
   {
    "duration": 11,
    "start_time": "2022-10-20T16:35:05.377Z"
   },
   {
    "duration": 16,
    "start_time": "2022-10-20T16:35:05.389Z"
   },
   {
    "duration": 17,
    "start_time": "2022-10-20T16:35:05.406Z"
   },
   {
    "duration": 10,
    "start_time": "2022-10-20T16:35:05.424Z"
   },
   {
    "duration": 105,
    "start_time": "2022-10-20T17:26:40.284Z"
   },
   {
    "duration": 82,
    "start_time": "2022-10-20T17:32:55.041Z"
   },
   {
    "duration": 90,
    "start_time": "2022-10-20T17:42:26.886Z"
   },
   {
    "duration": 44,
    "start_time": "2022-10-20T18:08:39.662Z"
   },
   {
    "duration": 1202,
    "start_time": "2022-10-20T18:08:45.199Z"
   },
   {
    "duration": 243,
    "start_time": "2022-10-20T18:08:46.403Z"
   },
   {
    "duration": 19,
    "start_time": "2022-10-20T18:08:46.647Z"
   },
   {
    "duration": 13,
    "start_time": "2022-10-20T18:08:46.668Z"
   },
   {
    "duration": 4,
    "start_time": "2022-10-20T18:08:46.918Z"
   },
   {
    "duration": 5,
    "start_time": "2022-10-20T18:08:47.317Z"
   },
   {
    "duration": 15,
    "start_time": "2022-10-20T18:08:48.881Z"
   },
   {
    "duration": 16,
    "start_time": "2022-10-20T18:08:49.268Z"
   },
   {
    "duration": 11,
    "start_time": "2022-10-20T18:08:49.852Z"
   },
   {
    "duration": 23,
    "start_time": "2022-10-20T18:08:50.783Z"
   },
   {
    "duration": 6,
    "start_time": "2022-10-20T18:08:52.216Z"
   },
   {
    "duration": 10,
    "start_time": "2022-10-20T18:09:00.718Z"
   },
   {
    "duration": 24,
    "start_time": "2022-10-20T18:09:01.504Z"
   },
   {
    "duration": 5,
    "start_time": "2022-10-20T18:09:03.444Z"
   },
   {
    "duration": 8,
    "start_time": "2022-10-20T18:09:04.280Z"
   },
   {
    "duration": 5,
    "start_time": "2022-10-20T18:09:10.244Z"
   },
   {
    "duration": 29,
    "start_time": "2022-10-20T18:09:10.492Z"
   },
   {
    "duration": 5,
    "start_time": "2022-10-20T18:09:12.597Z"
   },
   {
    "duration": 10,
    "start_time": "2022-10-20T18:09:12.833Z"
   },
   {
    "duration": 20,
    "start_time": "2022-10-20T18:09:16.670Z"
   },
   {
    "duration": 5,
    "start_time": "2022-10-20T18:09:16.848Z"
   },
   {
    "duration": 5,
    "start_time": "2022-10-20T18:09:18.599Z"
   },
   {
    "duration": 5,
    "start_time": "2022-10-20T18:09:19.068Z"
   },
   {
    "duration": 5,
    "start_time": "2022-10-20T18:09:21.561Z"
   },
   {
    "duration": 6,
    "start_time": "2022-10-20T18:09:22.017Z"
   },
   {
    "duration": 16,
    "start_time": "2022-10-20T18:09:23.688Z"
   },
   {
    "duration": 18,
    "start_time": "2022-10-20T18:09:26.800Z"
   },
   {
    "duration": 5,
    "start_time": "2022-10-20T18:09:30.905Z"
   },
   {
    "duration": 14,
    "start_time": "2022-10-20T18:09:31.149Z"
   },
   {
    "duration": 381,
    "start_time": "2022-10-20T18:09:34.247Z"
   },
   {
    "duration": 21,
    "start_time": "2022-10-20T18:09:41.879Z"
   },
   {
    "duration": 1026,
    "start_time": "2022-10-20T18:09:42.176Z"
   },
   {
    "duration": 13,
    "start_time": "2022-10-20T18:09:44.927Z"
   },
   {
    "duration": 14,
    "start_time": "2022-10-20T18:12:40.517Z"
   },
   {
    "duration": 14,
    "start_time": "2022-10-20T18:17:48.686Z"
   },
   {
    "duration": 290,
    "start_time": "2022-10-20T18:18:08.045Z"
   },
   {
    "duration": 2,
    "start_time": "2022-10-20T18:19:13.612Z"
   },
   {
    "duration": 78,
    "start_time": "2022-10-20T18:19:14.900Z"
   },
   {
    "duration": 16,
    "start_time": "2022-10-20T18:19:15.406Z"
   },
   {
    "duration": 13,
    "start_time": "2022-10-20T18:19:15.654Z"
   },
   {
    "duration": 4,
    "start_time": "2022-10-20T18:19:16.333Z"
   },
   {
    "duration": 4,
    "start_time": "2022-10-20T18:19:16.961Z"
   },
   {
    "duration": 17,
    "start_time": "2022-10-20T18:19:18.399Z"
   },
   {
    "duration": 13,
    "start_time": "2022-10-20T18:19:18.817Z"
   },
   {
    "duration": 7,
    "start_time": "2022-10-20T18:19:19.305Z"
   },
   {
    "duration": 20,
    "start_time": "2022-10-20T18:19:19.973Z"
   },
   {
    "duration": 58,
    "start_time": "2022-10-20T18:19:21.267Z"
   },
   {
    "duration": 1057,
    "start_time": "2022-10-20T18:19:40.221Z"
   },
   {
    "duration": 82,
    "start_time": "2022-10-20T18:19:41.280Z"
   },
   {
    "duration": 21,
    "start_time": "2022-10-20T18:19:41.569Z"
   },
   {
    "duration": 14,
    "start_time": "2022-10-20T18:19:41.855Z"
   },
   {
    "duration": 3,
    "start_time": "2022-10-20T18:19:47.052Z"
   },
   {
    "duration": 4,
    "start_time": "2022-10-20T18:19:50.599Z"
   },
   {
    "duration": 15,
    "start_time": "2022-10-20T18:19:52.221Z"
   },
   {
    "duration": 22,
    "start_time": "2022-10-20T18:19:53.283Z"
   },
   {
    "duration": 11,
    "start_time": "2022-10-20T18:19:53.926Z"
   },
   {
    "duration": 9,
    "start_time": "2022-10-20T18:20:24.092Z"
   },
   {
    "duration": 11,
    "start_time": "2022-10-20T18:20:31.441Z"
   },
   {
    "duration": 28,
    "start_time": "2022-10-20T18:20:32.474Z"
   },
   {
    "duration": 6,
    "start_time": "2022-10-20T18:20:32.724Z"
   },
   {
    "duration": 9,
    "start_time": "2022-10-20T18:20:34.396Z"
   },
   {
    "duration": 5,
    "start_time": "2022-10-20T18:20:36.727Z"
   },
   {
    "duration": 30,
    "start_time": "2022-10-20T18:20:37.384Z"
   },
   {
    "duration": 5,
    "start_time": "2022-10-20T18:20:38.222Z"
   },
   {
    "duration": 9,
    "start_time": "2022-10-20T18:20:38.524Z"
   },
   {
    "duration": 21,
    "start_time": "2022-10-20T18:20:40.200Z"
   },
   {
    "duration": 5,
    "start_time": "2022-10-20T18:20:40.546Z"
   },
   {
    "duration": 5,
    "start_time": "2022-10-20T18:20:41.135Z"
   },
   {
    "duration": 4,
    "start_time": "2022-10-20T18:20:41.543Z"
   },
   {
    "duration": 5,
    "start_time": "2022-10-20T18:20:42.744Z"
   },
   {
    "duration": 5,
    "start_time": "2022-10-20T18:20:43.289Z"
   },
   {
    "duration": 14,
    "start_time": "2022-10-20T18:20:43.797Z"
   },
   {
    "duration": 14,
    "start_time": "2022-10-20T18:20:44.221Z"
   },
   {
    "duration": 5,
    "start_time": "2022-10-20T18:20:45.360Z"
   },
   {
    "duration": 13,
    "start_time": "2022-10-20T18:20:45.600Z"
   },
   {
    "duration": 418,
    "start_time": "2022-10-20T18:20:47.088Z"
   },
   {
    "duration": 20,
    "start_time": "2022-10-20T18:20:50.102Z"
   },
   {
    "duration": 692,
    "start_time": "2022-10-20T18:20:52.554Z"
   },
   {
    "duration": 14,
    "start_time": "2022-10-20T18:21:03.459Z"
   },
   {
    "duration": 769,
    "start_time": "2022-10-20T18:31:49.930Z"
   },
   {
    "duration": 13,
    "start_time": "2022-10-20T18:34:26.599Z"
   },
   {
    "duration": 13,
    "start_time": "2022-10-20T18:34:33.543Z"
   },
   {
    "duration": 13,
    "start_time": "2022-10-20T18:34:36.245Z"
   },
   {
    "duration": 310,
    "start_time": "2022-10-20T18:34:41.333Z"
   },
   {
    "duration": 16,
    "start_time": "2022-10-20T18:39:19.549Z"
   },
   {
    "duration": 714,
    "start_time": "2022-10-20T18:39:24.296Z"
   },
   {
    "duration": 13,
    "start_time": "2022-10-20T18:49:11.195Z"
   },
   {
    "duration": 302,
    "start_time": "2022-10-20T18:49:25.192Z"
   },
   {
    "duration": 14,
    "start_time": "2022-10-20T18:49:36.012Z"
   },
   {
    "duration": 336,
    "start_time": "2022-10-20T18:49:39.920Z"
   },
   {
    "duration": 17,
    "start_time": "2022-10-20T18:50:38.947Z"
   },
   {
    "duration": 14,
    "start_time": "2022-10-20T18:50:43.329Z"
   },
   {
    "duration": 821,
    "start_time": "2022-10-20T18:50:46.399Z"
   },
   {
    "duration": 15,
    "start_time": "2022-10-20T18:52:08.850Z"
   },
   {
    "duration": 14,
    "start_time": "2022-10-20T18:53:04.939Z"
   },
   {
    "duration": 704,
    "start_time": "2022-10-20T18:53:28.240Z"
   },
   {
    "duration": 192,
    "start_time": "2022-10-20T18:54:23.270Z"
   },
   {
    "duration": 7,
    "start_time": "2022-10-20T19:02:55.279Z"
   },
   {
    "duration": 425,
    "start_time": "2022-10-20T19:03:28.812Z"
   },
   {
    "duration": 1226,
    "start_time": "2022-10-20T19:04:48.219Z"
   },
   {
    "duration": 547,
    "start_time": "2022-10-20T19:05:00.433Z"
   },
   {
    "duration": 267,
    "start_time": "2022-10-20T19:06:08.322Z"
   },
   {
    "duration": 232,
    "start_time": "2022-10-20T19:06:24.836Z"
   },
   {
    "duration": 221,
    "start_time": "2022-10-20T19:06:41.222Z"
   },
   {
    "duration": 604,
    "start_time": "2022-10-20T19:09:18.590Z"
   },
   {
    "duration": 227,
    "start_time": "2022-10-20T19:12:59.862Z"
   },
   {
    "duration": 18,
    "start_time": "2022-10-20T19:13:16.831Z"
   },
   {
    "duration": 246,
    "start_time": "2022-10-20T19:15:40.812Z"
   },
   {
    "duration": 260,
    "start_time": "2022-10-20T19:16:01.852Z"
   },
   {
    "duration": 17,
    "start_time": "2022-10-20T19:16:27.531Z"
   },
   {
    "duration": 686,
    "start_time": "2022-10-20T19:16:35.113Z"
   },
   {
    "duration": 286,
    "start_time": "2022-10-20T19:17:12.997Z"
   },
   {
    "duration": 255,
    "start_time": "2022-10-20T19:17:39.101Z"
   },
   {
    "duration": 209,
    "start_time": "2022-10-20T19:18:07.669Z"
   },
   {
    "duration": 201,
    "start_time": "2022-10-20T19:18:13.004Z"
   },
   {
    "duration": 621,
    "start_time": "2022-10-20T19:18:17.455Z"
   },
   {
    "duration": 561,
    "start_time": "2022-10-20T19:18:53.196Z"
   },
   {
    "duration": 595,
    "start_time": "2022-10-20T19:19:38.875Z"
   },
   {
    "duration": 14,
    "start_time": "2022-10-20T19:24:15.202Z"
   },
   {
    "duration": 13,
    "start_time": "2022-10-20T19:28:37.000Z"
   },
   {
    "duration": 187,
    "start_time": "2022-10-20T19:29:41.748Z"
   },
   {
    "duration": 237,
    "start_time": "2022-10-20T19:31:20.701Z"
   },
   {
    "duration": 353,
    "start_time": "2022-10-20T19:31:44.841Z"
   },
   {
    "duration": 196,
    "start_time": "2022-10-20T19:33:09.599Z"
   },
   {
    "duration": 186,
    "start_time": "2022-10-20T19:33:49.710Z"
   },
   {
    "duration": 192,
    "start_time": "2022-10-20T19:33:59.323Z"
   },
   {
    "duration": 13,
    "start_time": "2022-10-20T19:45:17.741Z"
   },
   {
    "duration": 13,
    "start_time": "2022-10-20T19:48:22.288Z"
   },
   {
    "duration": 246,
    "start_time": "2022-10-20T19:49:37.367Z"
   },
   {
    "duration": 193,
    "start_time": "2022-10-20T19:50:58.307Z"
   },
   {
    "duration": 13,
    "start_time": "2022-10-20T19:53:05.508Z"
   },
   {
    "duration": 12,
    "start_time": "2022-10-20T19:55:25.612Z"
   },
   {
    "duration": 12,
    "start_time": "2022-10-20T19:58:26.363Z"
   },
   {
    "duration": 272,
    "start_time": "2022-10-20T19:59:33.378Z"
   },
   {
    "duration": 222,
    "start_time": "2022-10-20T20:00:11.486Z"
   },
   {
    "duration": 208,
    "start_time": "2022-10-20T20:00:26.957Z"
   },
   {
    "duration": 193,
    "start_time": "2022-10-20T20:00:34.740Z"
   },
   {
    "duration": 206,
    "start_time": "2022-10-20T20:00:47.711Z"
   },
   {
    "duration": 196,
    "start_time": "2022-10-20T20:00:55.481Z"
   },
   {
    "duration": 209,
    "start_time": "2022-10-20T20:03:02.567Z"
   },
   {
    "duration": 95,
    "start_time": "2022-10-20T20:10:52.286Z"
   },
   {
    "duration": 13,
    "start_time": "2022-10-20T20:13:58.600Z"
   },
   {
    "duration": 141,
    "start_time": "2022-10-20T20:14:16.867Z"
   },
   {
    "duration": 145,
    "start_time": "2022-10-20T20:14:22.786Z"
   },
   {
    "duration": 19,
    "start_time": "2022-10-20T20:15:58.202Z"
   },
   {
    "duration": 85,
    "start_time": "2022-10-20T20:16:06.320Z"
   },
   {
    "duration": 191,
    "start_time": "2022-10-20T20:23:14.548Z"
   },
   {
    "duration": 207,
    "start_time": "2022-10-20T20:23:54.850Z"
   },
   {
    "duration": 192,
    "start_time": "2022-10-20T20:24:01.240Z"
   },
   {
    "duration": 202,
    "start_time": "2022-10-20T20:24:20.831Z"
   },
   {
    "duration": 339,
    "start_time": "2022-10-20T20:25:17.827Z"
   },
   {
    "duration": 191,
    "start_time": "2022-10-20T20:25:58.159Z"
   },
   {
    "duration": 201,
    "start_time": "2022-10-20T20:26:10.831Z"
   },
   {
    "duration": 245,
    "start_time": "2022-10-20T20:26:45.863Z"
   },
   {
    "duration": 219,
    "start_time": "2022-10-20T20:29:06.548Z"
   },
   {
    "duration": 266,
    "start_time": "2022-10-20T20:29:30.678Z"
   },
   {
    "duration": 39,
    "start_time": "2022-10-20T20:30:03.272Z"
   },
   {
    "duration": 257,
    "start_time": "2022-10-20T20:30:07.903Z"
   },
   {
    "duration": 206,
    "start_time": "2022-10-20T20:30:44.578Z"
   },
   {
    "duration": 222,
    "start_time": "2022-10-20T20:32:31.160Z"
   },
   {
    "duration": 231,
    "start_time": "2022-10-20T20:32:46.790Z"
   },
   {
    "duration": 280,
    "start_time": "2022-10-20T20:33:19.703Z"
   },
   {
    "duration": 234,
    "start_time": "2022-10-20T20:33:40.603Z"
   },
   {
    "duration": 8,
    "start_time": "2022-10-20T20:46:05.771Z"
   },
   {
    "duration": 5,
    "start_time": "2022-10-20T20:46:44.743Z"
   },
   {
    "duration": 5,
    "start_time": "2022-10-20T20:46:45.452Z"
   },
   {
    "duration": 10,
    "start_time": "2022-10-20T20:48:00.921Z"
   },
   {
    "duration": 8,
    "start_time": "2022-10-20T20:48:07.420Z"
   },
   {
    "duration": 6,
    "start_time": "2022-10-20T20:48:28.159Z"
   },
   {
    "duration": 6,
    "start_time": "2022-10-20T20:48:30.259Z"
   },
   {
    "duration": 10,
    "start_time": "2022-10-20T20:49:06.276Z"
   },
   {
    "duration": 9,
    "start_time": "2022-10-20T20:49:10.353Z"
   },
   {
    "duration": 10,
    "start_time": "2022-10-20T20:49:13.051Z"
   },
   {
    "duration": 9,
    "start_time": "2022-10-20T20:49:25.360Z"
   },
   {
    "duration": 9,
    "start_time": "2022-10-20T20:49:30.683Z"
   },
   {
    "duration": 1099,
    "start_time": "2022-10-20T21:10:48.086Z"
   },
   {
    "duration": 83,
    "start_time": "2022-10-20T21:10:49.187Z"
   },
   {
    "duration": 18,
    "start_time": "2022-10-20T21:10:49.272Z"
   },
   {
    "duration": 12,
    "start_time": "2022-10-20T21:10:49.292Z"
   },
   {
    "duration": 3,
    "start_time": "2022-10-20T21:10:49.305Z"
   },
   {
    "duration": 6,
    "start_time": "2022-10-20T21:10:49.309Z"
   },
   {
    "duration": 16,
    "start_time": "2022-10-20T21:10:49.317Z"
   },
   {
    "duration": 15,
    "start_time": "2022-10-20T21:10:49.334Z"
   },
   {
    "duration": 9,
    "start_time": "2022-10-20T21:10:49.350Z"
   },
   {
    "duration": 47,
    "start_time": "2022-10-20T21:10:49.361Z"
   },
   {
    "duration": 8,
    "start_time": "2022-10-20T21:10:49.409Z"
   },
   {
    "duration": 10,
    "start_time": "2022-10-20T21:10:49.418Z"
   },
   {
    "duration": 18,
    "start_time": "2022-10-20T21:10:49.430Z"
   },
   {
    "duration": 4,
    "start_time": "2022-10-20T21:10:49.450Z"
   },
   {
    "duration": 9,
    "start_time": "2022-10-20T21:10:49.456Z"
   },
   {
    "duration": 4,
    "start_time": "2022-10-20T21:10:49.466Z"
   },
   {
    "duration": 49,
    "start_time": "2022-10-20T21:10:49.471Z"
   },
   {
    "duration": 5,
    "start_time": "2022-10-20T21:10:49.521Z"
   },
   {
    "duration": 11,
    "start_time": "2022-10-20T21:10:49.527Z"
   },
   {
    "duration": 30,
    "start_time": "2022-10-20T21:10:49.540Z"
   },
   {
    "duration": 3,
    "start_time": "2022-10-20T21:10:49.572Z"
   },
   {
    "duration": 9,
    "start_time": "2022-10-20T21:10:49.576Z"
   },
   {
    "duration": 6,
    "start_time": "2022-10-20T21:10:49.586Z"
   },
   {
    "duration": 15,
    "start_time": "2022-10-20T21:10:49.593Z"
   },
   {
    "duration": 7,
    "start_time": "2022-10-20T21:10:49.609Z"
   },
   {
    "duration": 17,
    "start_time": "2022-10-20T21:10:49.617Z"
   },
   {
    "duration": 13,
    "start_time": "2022-10-20T21:10:49.635Z"
   },
   {
    "duration": 3,
    "start_time": "2022-10-20T21:10:49.653Z"
   },
   {
    "duration": 14,
    "start_time": "2022-10-20T21:10:49.658Z"
   },
   {
    "duration": 385,
    "start_time": "2022-10-20T21:10:49.674Z"
   },
   {
    "duration": 22,
    "start_time": "2022-10-20T21:10:50.061Z"
   },
   {
    "duration": 667,
    "start_time": "2022-10-20T21:10:50.085Z"
   },
   {
    "duration": 7,
    "start_time": "2022-10-20T21:10:50.754Z"
   },
   {
    "duration": 410,
    "start_time": "2022-10-20T21:10:50.763Z"
   },
   {
    "duration": 302,
    "start_time": "2022-10-20T21:10:51.175Z"
   },
   {
    "duration": 228,
    "start_time": "2022-10-20T21:10:51.478Z"
   },
   {
    "duration": 587,
    "start_time": "2022-10-20T21:10:51.708Z"
   },
   {
    "duration": 224,
    "start_time": "2022-10-20T21:10:52.297Z"
   },
   {
    "duration": 12,
    "start_time": "2022-10-20T21:10:52.523Z"
   },
   {
    "duration": 252,
    "start_time": "2022-10-20T21:10:52.536Z"
   },
   {
    "duration": 259,
    "start_time": "2022-10-20T21:10:52.790Z"
   },
   {
    "duration": 12,
    "start_time": "2022-10-20T21:10:53.051Z"
   },
   {
    "duration": 663,
    "start_time": "2022-10-20T21:10:53.065Z"
   },
   {
    "duration": 13,
    "start_time": "2022-10-20T21:10:53.730Z"
   },
   {
    "duration": 16,
    "start_time": "2022-10-20T21:10:53.744Z"
   },
   {
    "duration": 202,
    "start_time": "2022-10-20T21:10:53.762Z"
   },
   {
    "duration": 14,
    "start_time": "2022-10-20T21:10:53.966Z"
   },
   {
    "duration": 31,
    "start_time": "2022-10-20T21:10:53.981Z"
   },
   {
    "duration": 218,
    "start_time": "2022-10-20T21:10:54.014Z"
   },
   {
    "duration": 16,
    "start_time": "2022-10-20T21:10:54.234Z"
   },
   {
    "duration": 27,
    "start_time": "2022-10-20T21:10:54.252Z"
   },
   {
    "duration": 187,
    "start_time": "2022-10-20T21:10:54.280Z"
   },
   {
    "duration": 231,
    "start_time": "2022-10-20T21:10:54.468Z"
   },
   {
    "duration": 248,
    "start_time": "2022-10-20T21:10:54.700Z"
   },
   {
    "duration": 237,
    "start_time": "2022-10-20T21:10:54.950Z"
   },
   {
    "duration": 8,
    "start_time": "2022-10-20T21:10:55.188Z"
   },
   {
    "duration": 16,
    "start_time": "2022-10-20T21:10:55.205Z"
   },
   {
    "duration": 6,
    "start_time": "2022-10-20T21:10:55.223Z"
   },
   {
    "duration": 9,
    "start_time": "2022-10-20T21:10:55.231Z"
   },
   {
    "duration": 6,
    "start_time": "2022-10-20T21:10:55.242Z"
   },
   {
    "duration": 7,
    "start_time": "2022-10-20T21:10:55.249Z"
   },
   {
    "duration": 55,
    "start_time": "2022-10-21T04:18:24.735Z"
   },
   {
    "duration": 70,
    "start_time": "2022-10-21T04:19:07.082Z"
   }
  ],
  "kernelspec": {
   "display_name": "Python 3 (ipykernel)",
   "language": "python",
   "name": "python3"
  },
  "language_info": {
   "codemirror_mode": {
    "name": "ipython",
    "version": 3
   },
   "file_extension": ".py",
   "mimetype": "text/x-python",
   "name": "python",
   "nbconvert_exporter": "python",
   "pygments_lexer": "ipython3",
   "version": "3.9.12"
  },
  "toc": {
   "base_numbering": 1,
   "nav_menu": {},
   "number_sections": true,
   "sideBar": true,
   "skip_h1_title": true,
   "title_cell": "Table of Contents",
   "title_sidebar": "Contents",
   "toc_cell": false,
   "toc_position": {},
   "toc_section_display": true,
   "toc_window_display": false
  }
 },
 "nbformat": 4,
 "nbformat_minor": 5
}
