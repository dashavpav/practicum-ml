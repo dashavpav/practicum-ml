{
 "cells": [
  {
   "cell_type": "markdown",
   "metadata": {
    "toc": true
   },
   "source": [
    "<h1>Содержание<span class=\"tocSkip\"></span></h1>\n",
    "<div class=\"toc\"><ul class=\"toc-item\"><li><span><a href=\"#Подготовка-данных\" data-toc-modified-id=\"Подготовка-данных-1\"><span class=\"toc-item-num\">1&nbsp;&nbsp;</span>Подготовка данных</a></span></li><li><span><a href=\"#Исследование-задачи\" data-toc-modified-id=\"Исследование-задачи-2\"><span class=\"toc-item-num\">2&nbsp;&nbsp;</span>Исследование задачи</a></span></li><li><span><a href=\"#Борьба-с-дисбалансом\" data-toc-modified-id=\"Борьба-с-дисбалансом-3\"><span class=\"toc-item-num\">3&nbsp;&nbsp;</span>Борьба с дисбалансом</a></span><ul class=\"toc-item\"><li><span><a href=\"#Взвешивание-классов\" data-toc-modified-id=\"Взвешивание-классов-3.1\"><span class=\"toc-item-num\">3.1&nbsp;&nbsp;</span>Взвешивание классов</a></span></li><li><span><a href=\"#Увеличение-выборки\" data-toc-modified-id=\"Увеличение-выборки-3.2\"><span class=\"toc-item-num\">3.2&nbsp;&nbsp;</span>Увеличение выборки</a></span></li><li><span><a href=\"#Уменьшение-выборки\" data-toc-modified-id=\"Уменьшение-выборки-3.3\"><span class=\"toc-item-num\">3.3&nbsp;&nbsp;</span>Уменьшение выборки</a></span></li></ul></li><li><span><a href=\"#Вывод:\" data-toc-modified-id=\"Вывод:-4\"><span class=\"toc-item-num\">4&nbsp;&nbsp;</span>Вывод:</a></span></li><li><span><a href=\"#Тестирование-модели\" data-toc-modified-id=\"Тестирование-модели-5\"><span class=\"toc-item-num\">5&nbsp;&nbsp;</span>Тестирование модели</a></span></li><li><span><a href=\"#Чек-лист-готовности-проекта\" data-toc-modified-id=\"Чек-лист-готовности-проекта-6\"><span class=\"toc-item-num\">6&nbsp;&nbsp;</span>Чек-лист готовности проекта</a></span></li></ul></div>"
   ]
  },
  {
   "cell_type": "markdown",
   "metadata": {},
   "source": [
    "# Отток клиентов"
   ]
  },
  {
   "cell_type": "markdown",
   "metadata": {},
   "source": [
    "Из «Бета-Банка» стали уходить клиенты. Каждый месяц. Немного, но заметно. Банковские маркетологи посчитали: сохранять текущих клиентов дешевле, чем привлекать новых.\n",
    "\n",
    "Нужно спрогнозировать, уйдёт клиент из банка в ближайшее время или нет. Вам предоставлены исторические данные о поведении клиентов и расторжении договоров с банком. \n",
    "\n",
    "Постройте модель с предельно большим значением *F1*-меры. Чтобы сдать проект успешно, нужно довести метрику до 0.59. Проверьте *F1*-меру на тестовой выборке самостоятельно.\n",
    "\n",
    "Дополнительно измеряйте *AUC-ROC*, сравнивайте её значение с *F1*-мерой.\n",
    "\n",
    "Источник данных: [https://www.kaggle.com/barelydedicated/bank-customer-churn-modeling](https://www.kaggle.com/barelydedicated/bank-customer-churn-modeling)"
   ]
  },
  {
   "cell_type": "code",
   "execution_count": 1,
   "metadata": {},
   "outputs": [],
   "source": [
    "import pandas as pd\n",
    "from sklearn.model_selection import train_test_split\n",
    "import seaborn as sns\n",
    "import matplotlib.pyplot as plt\n",
    "from sklearn.preprocessing import StandardScaler\n",
    "from sklearn.tree import DecisionTreeClassifier\n",
    "from sklearn.metrics import f1_score, roc_auc_score\n",
    "from sklearn.ensemble import RandomForestClassifier\n",
    "from sklearn.linear_model import LogisticRegression\n",
    "from sklearn.utils import shuffle\n",
    "from sklearn.preprocessing import OneHotEncoder\n",
    "from sklearn.metrics import roc_curve\n",
    "import numpy as np"
   ]
  },
  {
   "cell_type": "code",
   "execution_count": 2,
   "metadata": {},
   "outputs": [],
   "source": [
    "RANDOM_STATE = 12345"
   ]
  },
  {
   "cell_type": "markdown",
   "metadata": {},
   "source": [
    "## Подготовка данных"
   ]
  },
  {
   "cell_type": "markdown",
   "metadata": {},
   "source": [
    "Загрузим данные"
   ]
  },
  {
   "cell_type": "code",
   "execution_count": 3,
   "metadata": {},
   "outputs": [],
   "source": [
    "try :\n",
    "    data = pd.read_csv('Churn.csv')\n",
    "except:\n",
    "    data = pd.read_csv('/datasets/Churn.csv')"
   ]
  },
  {
   "cell_type": "code",
   "execution_count": 4,
   "metadata": {},
   "outputs": [
    {
     "data": {
      "text/html": [
       "<div>\n",
       "<style scoped>\n",
       "    .dataframe tbody tr th:only-of-type {\n",
       "        vertical-align: middle;\n",
       "    }\n",
       "\n",
       "    .dataframe tbody tr th {\n",
       "        vertical-align: top;\n",
       "    }\n",
       "\n",
       "    .dataframe thead th {\n",
       "        text-align: right;\n",
       "    }\n",
       "</style>\n",
       "<table border=\"1\" class=\"dataframe\">\n",
       "  <thead>\n",
       "    <tr style=\"text-align: right;\">\n",
       "      <th></th>\n",
       "      <th>RowNumber</th>\n",
       "      <th>CustomerId</th>\n",
       "      <th>Surname</th>\n",
       "      <th>CreditScore</th>\n",
       "      <th>Geography</th>\n",
       "      <th>Gender</th>\n",
       "      <th>Age</th>\n",
       "      <th>Tenure</th>\n",
       "      <th>Balance</th>\n",
       "      <th>NumOfProducts</th>\n",
       "      <th>HasCrCard</th>\n",
       "      <th>IsActiveMember</th>\n",
       "      <th>EstimatedSalary</th>\n",
       "      <th>Exited</th>\n",
       "    </tr>\n",
       "  </thead>\n",
       "  <tbody>\n",
       "    <tr>\n",
       "      <th>0</th>\n",
       "      <td>1</td>\n",
       "      <td>15634602</td>\n",
       "      <td>Hargrave</td>\n",
       "      <td>619</td>\n",
       "      <td>France</td>\n",
       "      <td>Female</td>\n",
       "      <td>42</td>\n",
       "      <td>2.0</td>\n",
       "      <td>0.00</td>\n",
       "      <td>1</td>\n",
       "      <td>1</td>\n",
       "      <td>1</td>\n",
       "      <td>101348.88</td>\n",
       "      <td>1</td>\n",
       "    </tr>\n",
       "    <tr>\n",
       "      <th>1</th>\n",
       "      <td>2</td>\n",
       "      <td>15647311</td>\n",
       "      <td>Hill</td>\n",
       "      <td>608</td>\n",
       "      <td>Spain</td>\n",
       "      <td>Female</td>\n",
       "      <td>41</td>\n",
       "      <td>1.0</td>\n",
       "      <td>83807.86</td>\n",
       "      <td>1</td>\n",
       "      <td>0</td>\n",
       "      <td>1</td>\n",
       "      <td>112542.58</td>\n",
       "      <td>0</td>\n",
       "    </tr>\n",
       "    <tr>\n",
       "      <th>2</th>\n",
       "      <td>3</td>\n",
       "      <td>15619304</td>\n",
       "      <td>Onio</td>\n",
       "      <td>502</td>\n",
       "      <td>France</td>\n",
       "      <td>Female</td>\n",
       "      <td>42</td>\n",
       "      <td>8.0</td>\n",
       "      <td>159660.80</td>\n",
       "      <td>3</td>\n",
       "      <td>1</td>\n",
       "      <td>0</td>\n",
       "      <td>113931.57</td>\n",
       "      <td>1</td>\n",
       "    </tr>\n",
       "    <tr>\n",
       "      <th>3</th>\n",
       "      <td>4</td>\n",
       "      <td>15701354</td>\n",
       "      <td>Boni</td>\n",
       "      <td>699</td>\n",
       "      <td>France</td>\n",
       "      <td>Female</td>\n",
       "      <td>39</td>\n",
       "      <td>1.0</td>\n",
       "      <td>0.00</td>\n",
       "      <td>2</td>\n",
       "      <td>0</td>\n",
       "      <td>0</td>\n",
       "      <td>93826.63</td>\n",
       "      <td>0</td>\n",
       "    </tr>\n",
       "    <tr>\n",
       "      <th>4</th>\n",
       "      <td>5</td>\n",
       "      <td>15737888</td>\n",
       "      <td>Mitchell</td>\n",
       "      <td>850</td>\n",
       "      <td>Spain</td>\n",
       "      <td>Female</td>\n",
       "      <td>43</td>\n",
       "      <td>2.0</td>\n",
       "      <td>125510.82</td>\n",
       "      <td>1</td>\n",
       "      <td>1</td>\n",
       "      <td>1</td>\n",
       "      <td>79084.10</td>\n",
       "      <td>0</td>\n",
       "    </tr>\n",
       "    <tr>\n",
       "      <th>5</th>\n",
       "      <td>6</td>\n",
       "      <td>15574012</td>\n",
       "      <td>Chu</td>\n",
       "      <td>645</td>\n",
       "      <td>Spain</td>\n",
       "      <td>Male</td>\n",
       "      <td>44</td>\n",
       "      <td>8.0</td>\n",
       "      <td>113755.78</td>\n",
       "      <td>2</td>\n",
       "      <td>1</td>\n",
       "      <td>0</td>\n",
       "      <td>149756.71</td>\n",
       "      <td>1</td>\n",
       "    </tr>\n",
       "    <tr>\n",
       "      <th>6</th>\n",
       "      <td>7</td>\n",
       "      <td>15592531</td>\n",
       "      <td>Bartlett</td>\n",
       "      <td>822</td>\n",
       "      <td>France</td>\n",
       "      <td>Male</td>\n",
       "      <td>50</td>\n",
       "      <td>7.0</td>\n",
       "      <td>0.00</td>\n",
       "      <td>2</td>\n",
       "      <td>1</td>\n",
       "      <td>1</td>\n",
       "      <td>10062.80</td>\n",
       "      <td>0</td>\n",
       "    </tr>\n",
       "    <tr>\n",
       "      <th>7</th>\n",
       "      <td>8</td>\n",
       "      <td>15656148</td>\n",
       "      <td>Obinna</td>\n",
       "      <td>376</td>\n",
       "      <td>Germany</td>\n",
       "      <td>Female</td>\n",
       "      <td>29</td>\n",
       "      <td>4.0</td>\n",
       "      <td>115046.74</td>\n",
       "      <td>4</td>\n",
       "      <td>1</td>\n",
       "      <td>0</td>\n",
       "      <td>119346.88</td>\n",
       "      <td>1</td>\n",
       "    </tr>\n",
       "    <tr>\n",
       "      <th>8</th>\n",
       "      <td>9</td>\n",
       "      <td>15792365</td>\n",
       "      <td>He</td>\n",
       "      <td>501</td>\n",
       "      <td>France</td>\n",
       "      <td>Male</td>\n",
       "      <td>44</td>\n",
       "      <td>4.0</td>\n",
       "      <td>142051.07</td>\n",
       "      <td>2</td>\n",
       "      <td>0</td>\n",
       "      <td>1</td>\n",
       "      <td>74940.50</td>\n",
       "      <td>0</td>\n",
       "    </tr>\n",
       "    <tr>\n",
       "      <th>9</th>\n",
       "      <td>10</td>\n",
       "      <td>15592389</td>\n",
       "      <td>H?</td>\n",
       "      <td>684</td>\n",
       "      <td>France</td>\n",
       "      <td>Male</td>\n",
       "      <td>27</td>\n",
       "      <td>2.0</td>\n",
       "      <td>134603.88</td>\n",
       "      <td>1</td>\n",
       "      <td>1</td>\n",
       "      <td>1</td>\n",
       "      <td>71725.73</td>\n",
       "      <td>0</td>\n",
       "    </tr>\n",
       "  </tbody>\n",
       "</table>\n",
       "</div>"
      ],
      "text/plain": [
       "   RowNumber  CustomerId   Surname  CreditScore Geography  Gender  Age  \\\n",
       "0          1    15634602  Hargrave          619    France  Female   42   \n",
       "1          2    15647311      Hill          608     Spain  Female   41   \n",
       "2          3    15619304      Onio          502    France  Female   42   \n",
       "3          4    15701354      Boni          699    France  Female   39   \n",
       "4          5    15737888  Mitchell          850     Spain  Female   43   \n",
       "5          6    15574012       Chu          645     Spain    Male   44   \n",
       "6          7    15592531  Bartlett          822    France    Male   50   \n",
       "7          8    15656148    Obinna          376   Germany  Female   29   \n",
       "8          9    15792365        He          501    France    Male   44   \n",
       "9         10    15592389        H?          684    France    Male   27   \n",
       "\n",
       "   Tenure    Balance  NumOfProducts  HasCrCard  IsActiveMember  \\\n",
       "0     2.0       0.00              1          1               1   \n",
       "1     1.0   83807.86              1          0               1   \n",
       "2     8.0  159660.80              3          1               0   \n",
       "3     1.0       0.00              2          0               0   \n",
       "4     2.0  125510.82              1          1               1   \n",
       "5     8.0  113755.78              2          1               0   \n",
       "6     7.0       0.00              2          1               1   \n",
       "7     4.0  115046.74              4          1               0   \n",
       "8     4.0  142051.07              2          0               1   \n",
       "9     2.0  134603.88              1          1               1   \n",
       "\n",
       "   EstimatedSalary  Exited  \n",
       "0        101348.88       1  \n",
       "1        112542.58       0  \n",
       "2        113931.57       1  \n",
       "3         93826.63       0  \n",
       "4         79084.10       0  \n",
       "5        149756.71       1  \n",
       "6         10062.80       0  \n",
       "7        119346.88       1  \n",
       "8         74940.50       0  \n",
       "9         71725.73       0  "
      ]
     },
     "execution_count": 4,
     "metadata": {},
     "output_type": "execute_result"
    }
   ],
   "source": [
    "data.head(10)"
   ]
  },
  {
   "cell_type": "code",
   "execution_count": 5,
   "metadata": {},
   "outputs": [
    {
     "name": "stdout",
     "output_type": "stream",
     "text": [
      "<class 'pandas.core.frame.DataFrame'>\n",
      "RangeIndex: 10000 entries, 0 to 9999\n",
      "Data columns (total 14 columns):\n",
      " #   Column           Non-Null Count  Dtype  \n",
      "---  ------           --------------  -----  \n",
      " 0   RowNumber        10000 non-null  int64  \n",
      " 1   CustomerId       10000 non-null  int64  \n",
      " 2   Surname          10000 non-null  object \n",
      " 3   CreditScore      10000 non-null  int64  \n",
      " 4   Geography        10000 non-null  object \n",
      " 5   Gender           10000 non-null  object \n",
      " 6   Age              10000 non-null  int64  \n",
      " 7   Tenure           9091 non-null   float64\n",
      " 8   Balance          10000 non-null  float64\n",
      " 9   NumOfProducts    10000 non-null  int64  \n",
      " 10  HasCrCard        10000 non-null  int64  \n",
      " 11  IsActiveMember   10000 non-null  int64  \n",
      " 12  EstimatedSalary  10000 non-null  float64\n",
      " 13  Exited           10000 non-null  int64  \n",
      "dtypes: float64(3), int64(8), object(3)\n",
      "memory usage: 1.1+ MB\n"
     ]
    }
   ],
   "source": [
    "data.info()"
   ]
  },
  {
   "cell_type": "markdown",
   "metadata": {},
   "source": [
    "Посмотрим есть ли очевидные дубликаты"
   ]
  },
  {
   "cell_type": "code",
   "execution_count": 6,
   "metadata": {},
   "outputs": [
    {
     "data": {
      "text/html": [
       "<div>\n",
       "<style scoped>\n",
       "    .dataframe tbody tr th:only-of-type {\n",
       "        vertical-align: middle;\n",
       "    }\n",
       "\n",
       "    .dataframe tbody tr th {\n",
       "        vertical-align: top;\n",
       "    }\n",
       "\n",
       "    .dataframe thead th {\n",
       "        text-align: right;\n",
       "    }\n",
       "</style>\n",
       "<table border=\"1\" class=\"dataframe\">\n",
       "  <thead>\n",
       "    <tr style=\"text-align: right;\">\n",
       "      <th></th>\n",
       "      <th>RowNumber</th>\n",
       "      <th>CustomerId</th>\n",
       "      <th>Surname</th>\n",
       "      <th>CreditScore</th>\n",
       "      <th>Geography</th>\n",
       "      <th>Gender</th>\n",
       "      <th>Age</th>\n",
       "      <th>Tenure</th>\n",
       "      <th>Balance</th>\n",
       "      <th>NumOfProducts</th>\n",
       "      <th>HasCrCard</th>\n",
       "      <th>IsActiveMember</th>\n",
       "      <th>EstimatedSalary</th>\n",
       "      <th>Exited</th>\n",
       "    </tr>\n",
       "  </thead>\n",
       "  <tbody>\n",
       "  </tbody>\n",
       "</table>\n",
       "</div>"
      ],
      "text/plain": [
       "Empty DataFrame\n",
       "Columns: [RowNumber, CustomerId, Surname, CreditScore, Geography, Gender, Age, Tenure, Balance, NumOfProducts, HasCrCard, IsActiveMember, EstimatedSalary, Exited]\n",
       "Index: []"
      ]
     },
     "execution_count": 6,
     "metadata": {},
     "output_type": "execute_result"
    }
   ],
   "source": [
    "data[data.duplicated()]"
   ]
  },
  {
   "cell_type": "markdown",
   "metadata": {},
   "source": [
    "Такие значения отсутствуют"
   ]
  },
  {
   "cell_type": "markdown",
   "metadata": {},
   "source": [
    "Первые замечания, которые можно выделить это то, что у нас присутсвует ненужный столбецы - столбец RowNumber (по факту дублирует нумерацию строк) и столбец Surname(излишняя информация), также столбец CustomerID также является излишний информацией (может понадобиться только в случае анализа данные и изученения на дубликаты), далее удалим их. Также есть только один столбец, в котором присутсвуют пропуски - Tenure."
   ]
  },
  {
   "cell_type": "code",
   "execution_count": 7,
   "metadata": {},
   "outputs": [],
   "source": [
    "data=data.drop(columns = ['RowNumber', 'Surname', 'CustomerId'],axis = 1)"
   ]
  },
  {
   "cell_type": "code",
   "execution_count": 8,
   "metadata": {},
   "outputs": [
    {
     "data": {
      "text/plain": [
       "1.0     952\n",
       "2.0     950\n",
       "8.0     933\n",
       "3.0     928\n",
       "5.0     927\n",
       "7.0     925\n",
       "4.0     885\n",
       "9.0     882\n",
       "6.0     881\n",
       "10.0    446\n",
       "0.0     382\n",
       "Name: Tenure, dtype: int64"
      ]
     },
     "execution_count": 8,
     "metadata": {},
     "output_type": "execute_result"
    }
   ],
   "source": [
    "data['Tenure'].value_counts()"
   ]
  },
  {
   "cell_type": "markdown",
   "metadata": {},
   "source": [
    "Удалим пропуски"
   ]
  },
  {
   "cell_type": "code",
   "execution_count": 9,
   "metadata": {},
   "outputs": [],
   "source": [
    "data = data.dropna().reset_index(drop=True)"
   ]
  },
  {
   "cell_type": "code",
   "execution_count": 10,
   "metadata": {},
   "outputs": [
    {
     "name": "stdout",
     "output_type": "stream",
     "text": [
      "<class 'pandas.core.frame.DataFrame'>\n",
      "RangeIndex: 9091 entries, 0 to 9090\n",
      "Data columns (total 11 columns):\n",
      " #   Column           Non-Null Count  Dtype  \n",
      "---  ------           --------------  -----  \n",
      " 0   CreditScore      9091 non-null   int64  \n",
      " 1   Geography        9091 non-null   object \n",
      " 2   Gender           9091 non-null   object \n",
      " 3   Age              9091 non-null   int64  \n",
      " 4   Tenure           9091 non-null   float64\n",
      " 5   Balance          9091 non-null   float64\n",
      " 6   NumOfProducts    9091 non-null   int64  \n",
      " 7   HasCrCard        9091 non-null   int64  \n",
      " 8   IsActiveMember   9091 non-null   int64  \n",
      " 9   EstimatedSalary  9091 non-null   float64\n",
      " 10  Exited           9091 non-null   int64  \n",
      "dtypes: float64(3), int64(6), object(2)\n",
      "memory usage: 781.4+ KB\n"
     ]
    }
   ],
   "source": [
    "data.info()"
   ]
  },
  {
   "cell_type": "markdown",
   "metadata": {},
   "source": [
    "Проверим на выбросы такие столбцы как: CreditScore, Balance и EstimatedSalary."
   ]
  },
  {
   "cell_type": "code",
   "execution_count": 11,
   "metadata": {},
   "outputs": [
    {
     "data": {
      "text/plain": [
       "<AxesSubplot:>"
      ]
     },
     "execution_count": 11,
     "metadata": {},
     "output_type": "execute_result"
    },
    {
     "data": {
      "image/png": "[encoded data removed]",
      "text/plain": [
       "<Figure size 432x288 with 1 Axes>"
      ]
     },
     "metadata": {
      "needs_background": "light"
     },
     "output_type": "display_data"
    }
   ],
   "source": [
    "sns.boxplot(data = data[['CreditScore', 'Balance', 'EstimatedSalary']])"
   ]
  },
  {
   "cell_type": "markdown",
   "metadata": {},
   "source": [
    "У столбцов Balance и EstimatedSalary отсутсвуют выбросы. Также заметим, что в CreditScore присутсвуют выбросы, построим более наглядный график и посчитаем сколько таких выбросов."
   ]
  },
  {
   "cell_type": "code",
   "execution_count": 12,
   "metadata": {},
   "outputs": [
    {
     "data": {
      "text/plain": [
       "<AxesSubplot:>"
      ]
     },
     "execution_count": 12,
     "metadata": {},
     "output_type": "execute_result"
    },
    {
     "data": {
      "image/png": "[encoded data removed]",
      "text/plain": [
       "<Figure size 360x720 with 1 Axes>"
      ]
     },
     "metadata": {
      "needs_background": "light"
     },
     "output_type": "display_data"
    }
   ],
   "source": [
    "plt.rcParams['figure.figsize']=(5,10)\n",
    "sns.boxplot(data = data['CreditScore'])"
   ]
  },
  {
   "cell_type": "code",
   "execution_count": 13,
   "metadata": {},
   "outputs": [
    {
     "name": "stdout",
     "output_type": "stream",
     "text": [
      "Доля:  0.0015399846001539984\n"
     ]
    }
   ],
   "source": [
    "q3 = data['CreditScore'].quantile(0.75)\n",
    "q1 = data['CreditScore'].quantile(0.25)\n",
    "IQR = q3 - q1\n",
    "print('Доля: ', data.loc[data['CreditScore'] <= q1 - 1.5*IQR]['CreditScore'].count() / data['CreditScore'].count())"
   ]
  },
  {
   "cell_type": "markdown",
   "metadata": {},
   "source": [
    "Так как выбросы составляют малую долю от всех данных, то удалим данные строки."
   ]
  },
  {
   "cell_type": "code",
   "execution_count": 14,
   "metadata": {},
   "outputs": [],
   "source": [
    "data=data.loc[data['CreditScore'] >= q1 - 1.5*IQR]\n",
    "data=data.reset_index(drop=True)"
   ]
  },
  {
   "cell_type": "code",
   "execution_count": 15,
   "metadata": {},
   "outputs": [
    {
     "name": "stdout",
     "output_type": "stream",
     "text": [
      "<class 'pandas.core.frame.DataFrame'>\n",
      "RangeIndex: 9077 entries, 0 to 9076\n",
      "Data columns (total 11 columns):\n",
      " #   Column           Non-Null Count  Dtype  \n",
      "---  ------           --------------  -----  \n",
      " 0   CreditScore      9077 non-null   int64  \n",
      " 1   Geography        9077 non-null   object \n",
      " 2   Gender           9077 non-null   object \n",
      " 3   Age              9077 non-null   int64  \n",
      " 4   Tenure           9077 non-null   float64\n",
      " 5   Balance          9077 non-null   float64\n",
      " 6   NumOfProducts    9077 non-null   int64  \n",
      " 7   HasCrCard        9077 non-null   int64  \n",
      " 8   IsActiveMember   9077 non-null   int64  \n",
      " 9   EstimatedSalary  9077 non-null   float64\n",
      " 10  Exited           9077 non-null   int64  \n",
      "dtypes: float64(3), int64(6), object(2)\n",
      "memory usage: 780.2+ KB\n"
     ]
    }
   ],
   "source": [
    "data.info()"
   ]
  },
  {
   "cell_type": "markdown",
   "metadata": {},
   "source": [
    " Перенесу разбиение на тестовую и тренировочную вверх, чтобы учесть замечания ниже, и передам параметр для стратификации."
   ]
  },
  {
   "cell_type": "markdown",
   "metadata": {},
   "source": [
    "Разобьем данные на тестовую, валидационную и обучающую выборки в соотношении 15%, 15% и 70% соотвественно. Так как тренировочная выборка служит набором для обучения модели, то она должна составлять большую часть от всех данных. Валидационная и тестовая имеет один размер, потому что являются уже некоторыми \"проверочными\" данными модели, но по валидационной выборки происходит подбор гиперпараметра, а по тестовой уже финальный результат работы модели. Сначала разобьем все данные в расчете 70/30, а затем полученную меньшую часть пополам. "
   ]
  },
  {
   "cell_type": "code",
   "execution_count": 16,
   "metadata": {},
   "outputs": [],
   "source": [
    "features = data.drop(columns = ['Exited'],axis = 1)\n",
    "target = data['Exited']"
   ]
  },
  {
   "cell_type": "code",
   "execution_count": 17,
   "metadata": {},
   "outputs": [],
   "source": [
    "feature_train, feature_valid_test, target_train, target_valid_test = train_test_split(\n",
    "    features, target, test_size=0.3, random_state=RANDOM_STATE, stratify = target)\n",
    "features_test, features_valid, target_test, target_valid = train_test_split(\n",
    "    feature_valid_test,\n",
    "    target_valid_test, \n",
    "    test_size=0.5, random_state=RANDOM_STATE, stratify = target_valid_test)"
   ]
  },
  {
   "cell_type": "code",
   "execution_count": 18,
   "metadata": {},
   "outputs": [
    {
     "data": {
      "text/plain": [
       "France     4546\n",
       "Germany    2289\n",
       "Spain      2242\n",
       "Name: Geography, dtype: int64"
      ]
     },
     "execution_count": 18,
     "metadata": {},
     "output_type": "execute_result"
    }
   ],
   "source": [
    "data['Geography'].value_counts()"
   ]
  },
  {
   "cell_type": "markdown",
   "metadata": {},
   "source": [
    "Преобразуем категориальные признаки Geography и Gender в количественные методом One-Hot Encoding, а также удалим из полученных столбцов каждого признака, чтобы избежать дамми-ловушку."
   ]
  },
  {
   "cell_type": "code",
   "execution_count": 19,
   "metadata": {},
   "outputs": [],
   "source": [
    "drop_enc = OneHotEncoder(drop='first').fit(feature_train[['Geography', 'Gender']])\n",
    "data_ohe = drop_enc.transform(data[['Geography', 'Gender']]).toarray()\n",
    "ohe_df = pd.DataFrame(data_ohe, columns=['Geography_Germany', 'Geography_Spain', 'Gender_Male']) # использовала get_feature_names_out, но выдает не очень читабельные столбцы (x0_Germany,x0_Spain, x1_Male)\n",
    "data = pd.concat([data, ohe_df], axis=1).drop(['Geography', 'Gender'], axis=1)"
   ]
  },
  {
   "cell_type": "code",
   "execution_count": 20,
   "metadata": {},
   "outputs": [
    {
     "data": {
      "text/html": [
       "<div>\n",
       "<style scoped>\n",
       "    .dataframe tbody tr th:only-of-type {\n",
       "        vertical-align: middle;\n",
       "    }\n",
       "\n",
       "    .dataframe tbody tr th {\n",
       "        vertical-align: top;\n",
       "    }\n",
       "\n",
       "    .dataframe thead th {\n",
       "        text-align: right;\n",
       "    }\n",
       "</style>\n",
       "<table border=\"1\" class=\"dataframe\">\n",
       "  <thead>\n",
       "    <tr style=\"text-align: right;\">\n",
       "      <th></th>\n",
       "      <th>CreditScore</th>\n",
       "      <th>Age</th>\n",
       "      <th>Tenure</th>\n",
       "      <th>Balance</th>\n",
       "      <th>NumOfProducts</th>\n",
       "      <th>HasCrCard</th>\n",
       "      <th>IsActiveMember</th>\n",
       "      <th>EstimatedSalary</th>\n",
       "      <th>Exited</th>\n",
       "      <th>Geography_Germany</th>\n",
       "      <th>Geography_Spain</th>\n",
       "      <th>Gender_Male</th>\n",
       "    </tr>\n",
       "  </thead>\n",
       "  <tbody>\n",
       "    <tr>\n",
       "      <th>0</th>\n",
       "      <td>619</td>\n",
       "      <td>42</td>\n",
       "      <td>2.0</td>\n",
       "      <td>0.00</td>\n",
       "      <td>1</td>\n",
       "      <td>1</td>\n",
       "      <td>1</td>\n",
       "      <td>101348.88</td>\n",
       "      <td>1</td>\n",
       "      <td>0.0</td>\n",
       "      <td>0.0</td>\n",
       "      <td>0.0</td>\n",
       "    </tr>\n",
       "    <tr>\n",
       "      <th>1</th>\n",
       "      <td>608</td>\n",
       "      <td>41</td>\n",
       "      <td>1.0</td>\n",
       "      <td>83807.86</td>\n",
       "      <td>1</td>\n",
       "      <td>0</td>\n",
       "      <td>1</td>\n",
       "      <td>112542.58</td>\n",
       "      <td>0</td>\n",
       "      <td>0.0</td>\n",
       "      <td>1.0</td>\n",
       "      <td>0.0</td>\n",
       "    </tr>\n",
       "    <tr>\n",
       "      <th>2</th>\n",
       "      <td>502</td>\n",
       "      <td>42</td>\n",
       "      <td>8.0</td>\n",
       "      <td>159660.80</td>\n",
       "      <td>3</td>\n",
       "      <td>1</td>\n",
       "      <td>0</td>\n",
       "      <td>113931.57</td>\n",
       "      <td>1</td>\n",
       "      <td>0.0</td>\n",
       "      <td>0.0</td>\n",
       "      <td>0.0</td>\n",
       "    </tr>\n",
       "    <tr>\n",
       "      <th>3</th>\n",
       "      <td>699</td>\n",
       "      <td>39</td>\n",
       "      <td>1.0</td>\n",
       "      <td>0.00</td>\n",
       "      <td>2</td>\n",
       "      <td>0</td>\n",
       "      <td>0</td>\n",
       "      <td>93826.63</td>\n",
       "      <td>0</td>\n",
       "      <td>0.0</td>\n",
       "      <td>0.0</td>\n",
       "      <td>0.0</td>\n",
       "    </tr>\n",
       "    <tr>\n",
       "      <th>4</th>\n",
       "      <td>850</td>\n",
       "      <td>43</td>\n",
       "      <td>2.0</td>\n",
       "      <td>125510.82</td>\n",
       "      <td>1</td>\n",
       "      <td>1</td>\n",
       "      <td>1</td>\n",
       "      <td>79084.10</td>\n",
       "      <td>0</td>\n",
       "      <td>0.0</td>\n",
       "      <td>1.0</td>\n",
       "      <td>0.0</td>\n",
       "    </tr>\n",
       "  </tbody>\n",
       "</table>\n",
       "</div>"
      ],
      "text/plain": [
       "   CreditScore  Age  Tenure    Balance  NumOfProducts  HasCrCard  \\\n",
       "0          619   42     2.0       0.00              1          1   \n",
       "1          608   41     1.0   83807.86              1          0   \n",
       "2          502   42     8.0  159660.80              3          1   \n",
       "3          699   39     1.0       0.00              2          0   \n",
       "4          850   43     2.0  125510.82              1          1   \n",
       "\n",
       "   IsActiveMember  EstimatedSalary  Exited  Geography_Germany  \\\n",
       "0               1        101348.88       1                0.0   \n",
       "1               1        112542.58       0                0.0   \n",
       "2               0        113931.57       1                0.0   \n",
       "3               0         93826.63       0                0.0   \n",
       "4               1         79084.10       0                0.0   \n",
       "\n",
       "   Geography_Spain  Gender_Male  \n",
       "0              0.0          0.0  \n",
       "1              1.0          0.0  \n",
       "2              0.0          0.0  \n",
       "3              0.0          0.0  \n",
       "4              1.0          0.0  "
      ]
     },
     "execution_count": 20,
     "metadata": {},
     "output_type": "execute_result"
    }
   ],
   "source": [
    "data.head()"
   ]
  },
  {
   "cell_type": "markdown",
   "metadata": {},
   "source": [
    "Стандартизируем данные, так как значения столбцов имеет очень сильный разброс. Перед этим разобьем данные на fetures и target."
   ]
  },
  {
   "cell_type": "code",
   "execution_count": 21,
   "metadata": {},
   "outputs": [],
   "source": [
    "columns=['CreditScore', 'Age', 'Tenure', 'NumOfProducts', 'EstimatedSalary', 'Balance']\n",
    "scaler = StandardScaler()\n",
    "scaler.fit(feature_train[columns]) \n",
    "data[columns] = scaler.transform(data[columns])"
   ]
  },
  {
   "cell_type": "code",
   "execution_count": 22,
   "metadata": {},
   "outputs": [
    {
     "data": {
      "text/html": [
       "<div>\n",
       "<style scoped>\n",
       "    .dataframe tbody tr th:only-of-type {\n",
       "        vertical-align: middle;\n",
       "    }\n",
       "\n",
       "    .dataframe tbody tr th {\n",
       "        vertical-align: top;\n",
       "    }\n",
       "\n",
       "    .dataframe thead th {\n",
       "        text-align: right;\n",
       "    }\n",
       "</style>\n",
       "<table border=\"1\" class=\"dataframe\">\n",
       "  <thead>\n",
       "    <tr style=\"text-align: right;\">\n",
       "      <th></th>\n",
       "      <th>CreditScore</th>\n",
       "      <th>Age</th>\n",
       "      <th>Tenure</th>\n",
       "      <th>Balance</th>\n",
       "      <th>NumOfProducts</th>\n",
       "      <th>HasCrCard</th>\n",
       "      <th>IsActiveMember</th>\n",
       "      <th>EstimatedSalary</th>\n",
       "      <th>Exited</th>\n",
       "      <th>Geography_Germany</th>\n",
       "      <th>Geography_Spain</th>\n",
       "      <th>Gender_Male</th>\n",
       "    </tr>\n",
       "  </thead>\n",
       "  <tbody>\n",
       "    <tr>\n",
       "      <th>0</th>\n",
       "      <td>-0.338071</td>\n",
       "      <td>0.303169</td>\n",
       "      <td>-1.043266</td>\n",
       "      <td>-1.235779</td>\n",
       "      <td>-0.91220</td>\n",
       "      <td>1</td>\n",
       "      <td>1</td>\n",
       "      <td>0.016655</td>\n",
       "      <td>1</td>\n",
       "      <td>0.0</td>\n",
       "      <td>0.0</td>\n",
       "      <td>0.0</td>\n",
       "    </tr>\n",
       "    <tr>\n",
       "      <th>1</th>\n",
       "      <td>-0.452882</td>\n",
       "      <td>0.207542</td>\n",
       "      <td>-1.390493</td>\n",
       "      <td>0.106522</td>\n",
       "      <td>-0.91220</td>\n",
       "      <td>0</td>\n",
       "      <td>1</td>\n",
       "      <td>0.211457</td>\n",
       "      <td>0</td>\n",
       "      <td>0.0</td>\n",
       "      <td>1.0</td>\n",
       "      <td>0.0</td>\n",
       "    </tr>\n",
       "    <tr>\n",
       "      <th>2</th>\n",
       "      <td>-1.559245</td>\n",
       "      <td>0.303169</td>\n",
       "      <td>1.040096</td>\n",
       "      <td>1.321413</td>\n",
       "      <td>2.52098</td>\n",
       "      <td>1</td>\n",
       "      <td>0</td>\n",
       "      <td>0.235629</td>\n",
       "      <td>1</td>\n",
       "      <td>0.0</td>\n",
       "      <td>0.0</td>\n",
       "      <td>0.0</td>\n",
       "    </tr>\n",
       "    <tr>\n",
       "      <th>3</th>\n",
       "      <td>0.496920</td>\n",
       "      <td>0.016287</td>\n",
       "      <td>-1.390493</td>\n",
       "      <td>-1.235779</td>\n",
       "      <td>0.80439</td>\n",
       "      <td>0</td>\n",
       "      <td>0</td>\n",
       "      <td>-0.114254</td>\n",
       "      <td>0</td>\n",
       "      <td>0.0</td>\n",
       "      <td>0.0</td>\n",
       "      <td>0.0</td>\n",
       "    </tr>\n",
       "    <tr>\n",
       "      <th>4</th>\n",
       "      <td>2.072966</td>\n",
       "      <td>0.398797</td>\n",
       "      <td>-1.043266</td>\n",
       "      <td>0.774453</td>\n",
       "      <td>-0.91220</td>\n",
       "      <td>1</td>\n",
       "      <td>1</td>\n",
       "      <td>-0.370816</td>\n",
       "      <td>0</td>\n",
       "      <td>0.0</td>\n",
       "      <td>1.0</td>\n",
       "      <td>0.0</td>\n",
       "    </tr>\n",
       "  </tbody>\n",
       "</table>\n",
       "</div>"
      ],
      "text/plain": [
       "   CreditScore       Age    Tenure   Balance  NumOfProducts  HasCrCard  \\\n",
       "0    -0.338071  0.303169 -1.043266 -1.235779       -0.91220          1   \n",
       "1    -0.452882  0.207542 -1.390493  0.106522       -0.91220          0   \n",
       "2    -1.559245  0.303169  1.040096  1.321413        2.52098          1   \n",
       "3     0.496920  0.016287 -1.390493 -1.235779        0.80439          0   \n",
       "4     2.072966  0.398797 -1.043266  0.774453       -0.91220          1   \n",
       "\n",
       "   IsActiveMember  EstimatedSalary  Exited  Geography_Germany  \\\n",
       "0               1         0.016655       1                0.0   \n",
       "1               1         0.211457       0                0.0   \n",
       "2               0         0.235629       1                0.0   \n",
       "3               0        -0.114254       0                0.0   \n",
       "4               1        -0.370816       0                0.0   \n",
       "\n",
       "   Geography_Spain  Gender_Male  \n",
       "0              0.0          0.0  \n",
       "1              1.0          0.0  \n",
       "2              0.0          0.0  \n",
       "3              0.0          0.0  \n",
       "4              1.0          0.0  "
      ]
     },
     "execution_count": 22,
     "metadata": {},
     "output_type": "execute_result"
    }
   ],
   "source": [
    "data.head()"
   ]
  },
  {
   "cell_type": "code",
   "execution_count": 23,
   "metadata": {},
   "outputs": [],
   "source": [
    "features = data.drop(columns = ['Exited'],axis = 1)\n",
    "target = data['Exited']\n",
    "feature_train, feature_valid_test, target_train, target_valid_test = train_test_split(\n",
    "    features, target, test_size=0.3, random_state=RANDOM_STATE, stratify=target)\n",
    "features_test, features_valid, target_test, target_valid = train_test_split(\n",
    "    feature_valid_test,\n",
    "    target_valid_test, \n",
    "    test_size=0.5, random_state=RANDOM_STATE, stratify = target_valid_test)"
   ]
  },
  {
   "cell_type": "markdown",
   "metadata": {},
   "source": [
    "## Исследование задачи"
   ]
  },
  {
   "cell_type": "markdown",
   "metadata": {},
   "source": [
    "Исследуем баланс классов"
   ]
  },
  {
   "cell_type": "code",
   "execution_count": 24,
   "metadata": {},
   "outputs": [
    {
     "data": {
      "text/plain": [
       "<AxesSubplot:>"
      ]
     },
     "execution_count": 24,
     "metadata": {},
     "output_type": "execute_result"
    },
    {
     "data": {
      "image/png": "[encoded data removed]",
      "text/plain": [
       "<Figure size 360x360 with 1 Axes>"
      ]
     },
     "metadata": {
      "needs_background": "light"
     },
     "output_type": "display_data"
    }
   ],
   "source": [
    "plt.rcParams['figure.figsize']=(5,5)\n",
    "target_frequency = target.value_counts(normalize=True)\n",
    "target_frequency.plot(kind='bar') "
   ]
  },
  {
   "cell_type": "markdown",
   "metadata": {},
   "source": [
    "Можно заметить, что результатов, что клиент останется превышает количество результатов, что клиент ушел, это и говорит о дисбалансе классов."
   ]
  },
  {
   "cell_type": "markdown",
   "metadata": {},
   "source": [
    "Построим все ранние изученные модели и выберем лучшую по метрике f1-score."
   ]
  },
  {
   "cell_type": "markdown",
   "metadata": {},
   "source": [
    "Были рассмотрены три модели и подобраны лучшие гиперпараметры с учетом наличия дисбаланса"
   ]
  },
  {
   "cell_type": "code",
   "execution_count": 25,
   "metadata": {},
   "outputs": [],
   "source": [
    "def model_param(name_model, list_iter, class_weight=None, f_train = feature_train, t_train = target_train):\n",
    "    #best_model = None\n",
    "    best_f1 = 0\n",
    "    best_roc = 0\n",
    "    best_param = 0\n",
    "    for param in list_iter:\n",
    "        if name_model == 'Tree':\n",
    "            model = DecisionTreeClassifier(random_state=RANDOM_STATE, max_depth=param, class_weight=class_weight)\n",
    "        elif name_model == 'Forest':\n",
    "            model = RandomForestClassifier(random_state=RANDOM_STATE, n_estimators=param, class_weight=class_weight)\n",
    "        elif name_model == 'LogReg':\n",
    "            model = LogisticRegression(random_state=RANDOM_STATE, C=param, class_weight=class_weight)\n",
    "        else:\n",
    "            return 'Неправильно введеное имя модели'\n",
    "            \n",
    "        model.fit(f_train, t_train)\n",
    "\n",
    "        probabilities_valid = model.predict_proba(features_valid)\n",
    "        probabilities_one_valid = probabilities_valid[:, 1]\n",
    "        predictions = model.predict(features_valid)\n",
    "        result_f1, result_roc = f1_score(target_valid, predictions), roc_auc_score(target_valid, probabilities_one_valid)\n",
    "        print(\"Гиперпараметр =\", param, 'f1-score:', result_f1, 'roc:', result_roc)    \n",
    "        if result_f1 > best_f1:\n",
    "            #best_model = model\n",
    "            best_f1 = result_f1\n",
    "            best_roc = result_roc\n",
    "            best_param = param\n",
    "    print(\"------------------Итог------------------\")\n",
    "    print(\"Лучшая модель по F1:\", best_f1, 'гиперпараметр =', best_param)\n",
    "    return best_param, best_f1, best_roc\n",
    "\n",
    "     "
   ]
  },
  {
   "cell_type": "code",
   "execution_count": 26,
   "metadata": {},
   "outputs": [
    {
     "name": "stdout",
     "output_type": "stream",
     "text": [
      "Decision Tree\n",
      "Гиперпараметр = 1 f1-score: 0.0 roc: 0.6807390503643206\n",
      "Гиперпараметр = 2 f1-score: 0.48275862068965514 roc: 0.7205474150585849\n",
      "Гиперпараметр = 3 f1-score: 0.34857142857142853 roc: 0.7738409800624549\n",
      "Гиперпараметр = 4 f1-score: 0.48456057007125886 roc: 0.8110937625110097\n",
      "Гиперпараметр = 5 f1-score: 0.49631449631449637 roc: 0.8229858942536099\n",
      "Гиперпараметр = 6 f1-score: 0.49388753056234724 roc: 0.8124015800571169\n",
      "Гиперпараметр = 7 f1-score: 0.5535714285714285 roc: 0.8134141377745749\n",
      "Гиперпараметр = 8 f1-score: 0.498812351543943 roc: 0.8060943630394747\n",
      "Гиперпараметр = 9 f1-score: 0.5044642857142857 roc: 0.7910911602209945\n",
      "------------------Итог------------------\n",
      "Лучшая модель по F1: 0.5535714285714285 гиперпараметр = 7\n"
     ]
    }
   ],
   "source": [
    "print('Decision Tree')\n",
    "f1_roc_disb={}\n",
    "parametr, f1, roc = model_param('Tree', range(1, 10))\n",
    "f1_roc_disb['Decision Tree:'] = [parametr, f1, roc]"
   ]
  },
  {
   "cell_type": "code",
   "execution_count": 27,
   "metadata": {},
   "outputs": [
    {
     "name": "stdout",
     "output_type": "stream",
     "text": [
      "Logistic Regression\n",
      "Гиперпараметр = 0.001 f1-score: 0.0 roc: 0.7498098326527344\n",
      "Гиперпараметр = 0.01 f1-score: 0.19879518072289157 roc: 0.7578569140843943\n",
      "Гиперпараметр = 0.1 f1-score: 0.2972972972972973 roc: 0.7581138068166653\n",
      "Гиперпараметр = 1 f1-score: 0.3048128342245989 roc: 0.7580804441241625\n",
      "Гиперпараметр = 10 f1-score: 0.3048128342245989 roc: 0.7580670990471614\n",
      "Гиперпараметр = 100 f1-score: 0.3048128342245989 roc: 0.7580704353164118\n",
      "------------------Итог------------------\n",
      "Лучшая модель по F1: 0.3048128342245989 гиперпараметр = 1\n"
     ]
    }
   ],
   "source": [
    "print('Logistic Regression')\n",
    "c_values = [0.001,0.01,0.1,1,10,100]\n",
    "parametr, f1, roc = model_param('LogReg', c_values)\n",
    "f1_roc_disb['Logistic Regression:'] = [parametr, f1, roc]"
   ]
  },
  {
   "cell_type": "code",
   "execution_count": 28,
   "metadata": {},
   "outputs": [
    {
     "name": "stdout",
     "output_type": "stream",
     "text": [
      "Random Forest\n",
      "Гиперпараметр = 100 f1-score: 0.5364705882352941 roc: 0.8419892839031682\n",
      "Гиперпараметр = 200 f1-score: 0.5492957746478873 roc: 0.845050310940294\n",
      "Гиперпараметр = 300 f1-score: 0.5433255269320844 roc: 0.8456158085782154\n",
      "Гиперпараметр = 400 f1-score: 0.5526932084309133 roc: 0.8452454826914352\n",
      "Гиперпараметр = 500 f1-score: 0.5526932084309133 roc: 0.8451370539408012\n",
      "Гиперпараметр = 600 f1-score: 0.5594405594405595 roc: 0.8457125603864735\n",
      "Гиперпараметр = 700 f1-score: 0.5480093676814988 roc: 0.8448434622467772\n",
      "------------------Итог------------------\n",
      "Лучшая модель по F1: 0.5594405594405595 гиперпараметр = 600\n"
     ]
    }
   ],
   "source": [
    "print('Random Forest')\n",
    "parametr, f1, roc = model_param('Forest', range(100, 800, 100))\n",
    "f1_roc_disb['Random Forest:'] = [parametr, f1, roc]"
   ]
  },
  {
   "cell_type": "code",
   "execution_count": 29,
   "metadata": {},
   "outputs": [
    {
     "name": "stdout",
     "output_type": "stream",
     "text": [
      "Decision Tree: f1: 0.5535714285714285 roc: 0.8134141377745749\n",
      "Logistic Regression: f1: 0.3048128342245989 roc: 0.7580804441241625\n",
      "Random Forest: f1: 0.5594405594405595 roc: 0.8457125603864735\n"
     ]
    }
   ],
   "source": [
    "for key, value in f1_roc_disb.items():\n",
    "    print(key, 'f1:', value[1], 'roc:', value[2])"
   ]
  },
  {
   "cell_type": "markdown",
   "metadata": {},
   "source": [
    "По проведенному анализу получилось, что метрикам f1-score и roc модели случайного лес выше решающее дерева, но ненамного. Хуже всего себя показала логистическая регрессия"
   ]
  },
  {
   "cell_type": "markdown",
   "metadata": {},
   "source": [
    "## Борьба с дисбалансом"
   ]
  },
  {
   "cell_type": "markdown",
   "metadata": {},
   "source": [
    "### Взвешивание классов"
   ]
  },
  {
   "cell_type": "code",
   "execution_count": 30,
   "metadata": {},
   "outputs": [
    {
     "name": "stdout",
     "output_type": "stream",
     "text": [
      "Decision Tree\n",
      "Гиперпараметр = 1 f1-score: 0.475482912332838 roc: 0.6807390503643206\n",
      "Гиперпараметр = 2 f1-score: 0.49418604651162795 roc: 0.7205474150585849\n",
      "Гиперпараметр = 3 f1-score: 0.5205047318611988 roc: 0.7803533776389888\n",
      "Гиперпараметр = 4 f1-score: 0.5318860244233379 roc: 0.8028948808284623\n",
      "Гиперпараметр = 5 f1-score: 0.559774964838256 roc: 0.8223887020578109\n",
      "Гиперпараметр = 6 f1-score: 0.5477888730385165 roc: 0.805231937438279\n",
      "Гиперпараметр = 7 f1-score: 0.5537555228276878 roc: 0.8059725892118398\n",
      "Гиперпараметр = 8 f1-score: 0.5480631276901005 roc: 0.7936851095630821\n",
      "Гиперпараметр = 9 f1-score: 0.5363636363636363 roc: 0.7578452371420183\n",
      "------------------Итог------------------\n",
      "Лучшая модель по F1: 0.559774964838256 гиперпараметр = 5\n"
     ]
    }
   ],
   "source": [
    "print('Decision Tree')\n",
    "f1_roc_class_weight={}\n",
    "parametr, f1, roc = model_param('Tree', range(1, 10), class_weight='balanced')\n",
    "f1_roc_class_weight['Decision Tree:'] = [parametr, f1, roc]"
   ]
  },
  {
   "cell_type": "code",
   "execution_count": 31,
   "metadata": {},
   "outputs": [
    {
     "name": "stdout",
     "output_type": "stream",
     "text": [
      "Logistic Regression\n",
      "Гиперпараметр = 0.001 f1-score: 0.490272373540856 roc: 0.7513211626231083\n",
      "Гиперпараметр = 0.01 f1-score: 0.46967741935483875 roc: 0.7581805322016708\n",
      "Гиперпараметр = 0.1 f1-score: 0.4721141374837873 roc: 0.759304854939013\n",
      "Гиперпараметр = 1 f1-score: 0.47272727272727266 roc: 0.7592147756692557\n",
      "Гиперпараметр = 10 f1-score: 0.47272727272727266 roc: 0.7592481383617583\n",
      "Гиперпараметр = 100 f1-score: 0.47272727272727266 roc: 0.7592648197080096\n",
      "------------------Итог------------------\n",
      "Лучшая модель по F1: 0.490272373540856 гиперпараметр = 0.001\n"
     ]
    }
   ],
   "source": [
    "print('Logistic Regression')\n",
    "c_values = [0.001,0.01,0.1,1,10,100]\n",
    "parametr, f1, roc = model_param('LogReg', c_values, class_weight='balanced')\n",
    "f1_roc_class_weight['Logistic Regression:'] = [parametr, f1, roc]"
   ]
  },
  {
   "cell_type": "code",
   "execution_count": 32,
   "metadata": {},
   "outputs": [
    {
     "name": "stdout",
     "output_type": "stream",
     "text": [
      "Random Forest\n",
      "Гиперпараметр = 100 f1-score: 0.5323741007194245 roc: 0.8414421357461233\n",
      "Гиперпараметр = 200 f1-score: 0.5402843601895735 roc: 0.8482598019590574\n",
      "Гиперпараметр = 300 f1-score: 0.5333333333333334 roc: 0.8473256465689806\n",
      "Гиперпараметр = 400 f1-score: 0.5380952380952381 roc: 0.8470787626444605\n",
      "Гиперпараметр = 500 f1-score: 0.5368171021377672 roc: 0.8460795500040035\n",
      "Гиперпараметр = 600 f1-score: 0.5437352245862884 roc: 0.8461295940427576\n",
      "Гиперпараметр = 700 f1-score: 0.5393794749403341 roc: 0.8451820935756799\n",
      "------------------Итог------------------\n",
      "Лучшая модель по F1: 0.5437352245862884 гиперпараметр = 600\n"
     ]
    }
   ],
   "source": [
    "print('Random Forest')\n",
    "parametr, f1, roc = model_param('Forest', range(100, 800, 100), class_weight='balanced')\n",
    "f1_roc_class_weight['Random Forest:'] = [parametr, f1, roc]"
   ]
  },
  {
   "cell_type": "code",
   "execution_count": 33,
   "metadata": {},
   "outputs": [
    {
     "name": "stdout",
     "output_type": "stream",
     "text": [
      "Decision Tree: f1: 0.559774964838256 roc: 0.8223887020578109\n",
      "Logistic Regression: f1: 0.490272373540856 roc: 0.7513211626231083\n",
      "Random Forest: f1: 0.5437352245862884 roc: 0.8461295940427576\n"
     ]
    }
   ],
   "source": [
    "for key, value in f1_roc_class_weight.items():\n",
    "    print(key, 'f1:', value[1], 'roc:', value[2])"
   ]
  },
  {
   "cell_type": "markdown",
   "metadata": {},
   "source": [
    "Как видно, в этом случае немного выше результат показала уже модель решающее дерево, но все равно их результаты с случайным лесом очень близки."
   ]
  },
  {
   "cell_type": "markdown",
   "metadata": {},
   "source": [
    "### Увеличение выборки"
   ]
  },
  {
   "cell_type": "markdown",
   "metadata": {},
   "source": [
    "Выясним сколько блоков единиц нужно повторить, чтобы сравнить с количеством нулей."
   ]
  },
  {
   "cell_type": "code",
   "execution_count": 34,
   "metadata": {},
   "outputs": [
    {
     "data": {
      "text/plain": [
       "3.9324534161490683"
      ]
     },
     "execution_count": 34,
     "metadata": {},
     "output_type": "execute_result"
    }
   ],
   "source": [
    "blocks_count = feature_train[target_train == 0]['CreditScore'].count()/feature_train[target_train == 1]['CreditScore'].count()\n",
    "blocks_count"
   ]
  },
  {
   "cell_type": "markdown",
   "metadata": {},
   "source": [
    "Создадим функцию, которая сначала разделит выборки с ответом 0 и 1. Далее добавит несколько раз положительные ответы и перемешает выборки."
   ]
  },
  {
   "cell_type": "code",
   "execution_count": 35,
   "metadata": {},
   "outputs": [],
   "source": [
    "def upsample(features, target, repeat):\n",
    "    features_zeros = features[target == 0]\n",
    "    features_ones = features[target == 1]\n",
    "    target_zeros = target[target == 0]\n",
    "    target_ones = target[target == 1]\n",
    "\n",
    "    features_upsampled = pd.concat([features_zeros] + [features_ones] * repeat)\n",
    "    target_upsampled = pd.concat([target_zeros] + [target_ones] * repeat)\n",
    "    \n",
    "    features_upsampled, target_upsampled = shuffle(features_upsampled, target_upsampled, random_state=12345)\n",
    "    \n",
    "    return features_upsampled, target_upsampled"
   ]
  },
  {
   "cell_type": "code",
   "execution_count": 36,
   "metadata": {},
   "outputs": [],
   "source": [
    "feature_train_increase, target_train_increase = upsample(feature_train, target_train, int(blocks_count))"
   ]
  },
  {
   "cell_type": "code",
   "execution_count": 37,
   "metadata": {},
   "outputs": [
    {
     "name": "stdout",
     "output_type": "stream",
     "text": [
      "0: 5065 1: 3864\n"
     ]
    }
   ],
   "source": [
    "print('0:',feature_train_increase[target_train_increase == 0]['CreditScore'].count(), \n",
    "      '1:',feature_train_increase[target_train_increase == 1]['CreditScore'].count())"
   ]
  },
  {
   "cell_type": "code",
   "execution_count": 38,
   "metadata": {},
   "outputs": [
    {
     "name": "stdout",
     "output_type": "stream",
     "text": [
      "Decision Tree\n",
      "Гиперпараметр = 1 f1-score: 0.475482912332838 roc: 0.6807390503643206\n",
      "Гиперпараметр = 2 f1-score: 0.49418604651162795 roc: 0.7205474150585849\n",
      "Гиперпараметр = 3 f1-score: 0.5042372881355932 roc: 0.7738409800624549\n",
      "Гиперпараметр = 4 f1-score: 0.5547445255474451 roc: 0.8112522353003977\n",
      "Гиперпараметр = 5 f1-score: 0.5576208178438661 roc: 0.8237282141617958\n",
      "Гиперпараметр = 6 f1-score: 0.5687789799072642 roc: 0.8172892145087677\n",
      "Гиперпараметр = 7 f1-score: 0.5767284991568297 roc: 0.8062294819441108\n",
      "Гиперпараметр = 8 f1-score: 0.5553822152886115 roc: 0.7928910774815171\n",
      "Гиперпараметр = 9 f1-score: 0.5562499999999999 roc: 0.7712720527397443\n",
      "------------------Итог------------------\n",
      "Лучшая модель по F1: 0.5767284991568297 гиперпараметр = 7\n"
     ]
    }
   ],
   "source": [
    "print('Decision Tree')\n",
    "f1_roc_increase={}\n",
    "parametr, f1, roc = model_param('Tree', range(1, 10),\n",
    "                                f_train=feature_train_increase, t_train = target_train_increase)\n",
    "f1_roc_increase['Decision Tree:'] = [parametr, f1, roc]\n"
   ]
  },
  {
   "cell_type": "code",
   "execution_count": 39,
   "metadata": {},
   "outputs": [
    {
     "name": "stdout",
     "output_type": "stream",
     "text": [
      "Logistic Regression\n",
      "Гиперпараметр = 0.001 f1-score: 0.48217317487266553 roc: 0.752829156324232\n",
      "Гиперпараметр = 0.01 f1-score: 0.4945904173106646 roc: 0.758500814049697\n",
      "Гиперпараметр = 0.1 f1-score: 0.48024316109422494 roc: 0.7590946699762458\n",
      "Гиперпараметр = 1 f1-score: 0.48244274809160304 roc: 0.7590279445912403\n",
      "Гиперпараметр = 10 f1-score: 0.47938931297709925 roc: 0.7590446259374917\n",
      "Гиперпараметр = 100 f1-score: 0.47938931297709925 roc: 0.7590546347452425\n",
      "------------------Итог------------------\n",
      "Лучшая модель по F1: 0.4945904173106646 гиперпараметр = 0.01\n"
     ]
    }
   ],
   "source": [
    "print('Logistic Regression')\n",
    "c_values = [0.001,0.01,0.1,1,10,100]\n",
    "parametr, f1, roc = model_param('LogReg', c_values, f_train=feature_train_increase, t_train = target_train_increase)\n",
    "f1_roc_increase['Logistic Regression:'] = [parametr, f1, roc]"
   ]
  },
  {
   "cell_type": "code",
   "execution_count": 40,
   "metadata": {},
   "outputs": [
    {
     "name": "stdout",
     "output_type": "stream",
     "text": [
      "Random Forest\n",
      "Гиперпараметр = 100 f1-score: 0.5791666666666667 roc: 0.840376197720661\n",
      "Гиперпараметр = 200 f1-score: 0.5815899581589957 roc: 0.8423028932126938\n",
      "Гиперпараметр = 300 f1-score: 0.5803757828810021 roc: 0.8440394213574614\n",
      "Гиперпараметр = 400 f1-score: 0.5797101449275364 roc: 0.8426181706568447\n",
      "Гиперпараметр = 500 f1-score: 0.5797101449275364 roc: 0.8425931486374675\n",
      "Гиперпараметр = 600 f1-score: 0.5809128630705395 roc: 0.8428266874849868\n",
      "Гиперпараметр = 700 f1-score: 0.587991718426501 roc: 0.8430535537940055\n",
      "------------------Итог------------------\n",
      "Лучшая модель по F1: 0.587991718426501 гиперпараметр = 700\n"
     ]
    }
   ],
   "source": [
    "print('Random Forest')\n",
    "parametr, f1, roc = model_param('Forest', range(100, 800, 100), \n",
    "                                f_train=feature_train_increase, t_train = target_train_increase)\n",
    "f1_roc_increase['Random Forest:'] = [parametr, f1, roc]"
   ]
  },
  {
   "cell_type": "code",
   "execution_count": 41,
   "metadata": {},
   "outputs": [
    {
     "name": "stdout",
     "output_type": "stream",
     "text": [
      "Decision Tree: f1: 0.5767284991568297 roc: 0.8062294819441108\n",
      "Logistic Regression: f1: 0.4945904173106646 roc: 0.758500814049697\n",
      "Random Forest: f1: 0.587991718426501 roc: 0.8430535537940055\n"
     ]
    }
   ],
   "source": [
    "for key, value in f1_roc_increase.items():\n",
    "    print(key, 'f1:', value[1], 'roc:', value[2])"
   ]
  },
  {
   "cell_type": "markdown",
   "metadata": {},
   "source": [
    "Увеличив выборку, мы получили более высокое значение f1-score, по сравнению с предыдущими моделями,что свидетельствует о влияние наличия дисбаланса на эффективность модели."
   ]
  },
  {
   "cell_type": "markdown",
   "metadata": {},
   "source": [
    "### Уменьшение выборки"
   ]
  },
  {
   "cell_type": "code",
   "execution_count": 42,
   "metadata": {},
   "outputs": [
    {
     "name": "stdout",
     "output_type": "stream",
     "text": [
      "0: 5065 1: 1288\n"
     ]
    }
   ],
   "source": [
    "print('0:',feature_train[target_train == 0]['CreditScore'].count(), \n",
    "      '1:',feature_train[target_train == 1]['CreditScore'].count())"
   ]
  },
  {
   "cell_type": "markdown",
   "metadata": {},
   "source": [
    "Посмотрим в каком соотношение кол-во нулей и единиц для дальнейшего внесения парамтера fraction."
   ]
  },
  {
   "cell_type": "code",
   "execution_count": 43,
   "metadata": {},
   "outputs": [
    {
     "data": {
      "text/plain": [
       "0.254"
      ]
     },
     "execution_count": 43,
     "metadata": {},
     "output_type": "execute_result"
    }
   ],
   "source": [
    "frac = feature_train[target_train == 1]['CreditScore'].count()/feature_train[target_train == 0]['CreditScore'].count()\n",
    "frac = round(frac, 3)\n",
    "frac"
   ]
  },
  {
   "cell_type": "code",
   "execution_count": 44,
   "metadata": {},
   "outputs": [],
   "source": [
    "def downsample(features, target, fraction):\n",
    "    features_zeros = features[target == 0]\n",
    "    features_ones = features[target == 1]\n",
    "    target_zeros = target[target == 0]\n",
    "    target_ones = target[target == 1]\n",
    "\n",
    "    features_downsampled = pd.concat(\n",
    "        [features_zeros.sample(frac=fraction, random_state=RANDOM_STATE)] + [features_ones])\n",
    "    target_downsampled = pd.concat(\n",
    "        [target_zeros.sample(frac=fraction, random_state=RANDOM_STATE)] + [target_ones])\n",
    "    \n",
    "    features_downsampled, target_downsampled = shuffle(\n",
    "        features_downsampled, target_downsampled, random_state=12345)\n",
    "    \n",
    "    return features_downsampled, target_downsampled"
   ]
  },
  {
   "cell_type": "code",
   "execution_count": 45,
   "metadata": {},
   "outputs": [],
   "source": [
    "features_train_downsampled, target_train_downsampled = downsample(feature_train, target_train, frac)"
   ]
  },
  {
   "cell_type": "code",
   "execution_count": 46,
   "metadata": {},
   "outputs": [
    {
     "name": "stdout",
     "output_type": "stream",
     "text": [
      "0: 1287 1: 1288\n"
     ]
    }
   ],
   "source": [
    "print('0:',features_train_downsampled[target_train_downsampled == 0]['CreditScore'].count(), \n",
    "      '1:',features_train_downsampled[target_train_downsampled == 1]['CreditScore'].count())"
   ]
  },
  {
   "cell_type": "code",
   "execution_count": 47,
   "metadata": {},
   "outputs": [
    {
     "name": "stdout",
     "output_type": "stream",
     "text": [
      "Decision Tree\n",
      "Гиперпараметр = 1 f1-score: 0.48256624825662486 roc: 0.6900172151493313\n",
      "Гиперпараметр = 2 f1-score: 0.5006839945280438 roc: 0.7335188299036485\n",
      "Гиперпараметр = 3 f1-score: 0.5006839945280438 roc: 0.7804000854084928\n",
      "Гиперпараметр = 4 f1-score: 0.5339652448657188 roc: 0.8001090960044839\n",
      "Гиперпараметр = 5 f1-score: 0.5592972181551976 roc: 0.8202434809298849\n",
      "Гиперпараметр = 6 f1-score: 0.5387994143484627 roc: 0.8120746256705902\n",
      "Гиперпараметр = 7 f1-score: 0.558421851289833 roc: 0.8087950729975713\n",
      "Гиперпараметр = 8 f1-score: 0.5269645608628659 roc: 0.7867857047535165\n",
      "Гиперпараметр = 9 f1-score: 0.5386819484240687 roc: 0.7594449782475244\n",
      "------------------Итог------------------\n",
      "Лучшая модель по F1: 0.5592972181551976 гиперпараметр = 5\n"
     ]
    }
   ],
   "source": [
    "print('Decision Tree')\n",
    "f1_roc_decrease={}\n",
    "parametr, f1, roc = model_param('Tree', range(1, 10),\n",
    "                                f_train=features_train_downsampled, t_train = target_train_downsampled)\n",
    "f1_roc_decrease['Decision Tree:'] = [parametr, f1, roc]\n"
   ]
  },
  {
   "cell_type": "code",
   "execution_count": 48,
   "metadata": {},
   "outputs": [
    {
     "name": "stdout",
     "output_type": "stream",
     "text": [
      "Logistic Regression\n",
      "Гиперпараметр = 0.001 f1-score: 0.489795918367347 roc: 0.7436744335014813\n",
      "Гиперпараметр = 0.01 f1-score: 0.475095785440613 roc: 0.7548909707209011\n",
      "Гиперпараметр = 0.1 f1-score: 0.4827586206896552 roc: 0.7584207435876904\n",
      "Гиперпараметр = 1 f1-score: 0.48020434227330777 roc: 0.7586209197427068\n",
      "Гиперпараметр = 10 f1-score: 0.4808184143222507 roc: 0.7587076627432139\n",
      "Гиперпараметр = 100 f1-score: 0.4808184143222507 roc: 0.7587043264739637\n",
      "------------------Итог------------------\n",
      "Лучшая модель по F1: 0.489795918367347 гиперпараметр = 0.001\n"
     ]
    }
   ],
   "source": [
    "print('Logistic Regression')\n",
    "c_values = [0.001,0.01,0.1,1,10,100]\n",
    "parametr, f1, roc = model_param('LogReg', c_values,  \n",
    "                                f_train=features_train_downsampled, t_train = target_train_downsampled)\n",
    "f1_roc_decrease['Logistic Regression:'] = [parametr, f1, roc]"
   ]
  },
  {
   "cell_type": "code",
   "execution_count": 55,
   "metadata": {},
   "outputs": [
    {
     "name": "stdout",
     "output_type": "stream",
     "text": [
      "Random Forest\n",
      "Гиперпараметр = 100 f1-score: 0.5917159763313609 roc: 0.8440894653962152\n",
      "Гиперпараметр = 200 f1-score: 0.5850746268656717 roc: 0.8454473269810767\n",
      "Гиперпараметр = 300 f1-score: 0.5777126099706745 roc: 0.8437725198174394\n",
      "Гиперпараметр = 400 f1-score: 0.5777126099706745 roc: 0.8442963140897323\n",
      "Гиперпараметр = 500 f1-score: 0.5730994152046783 roc: 0.8448985106894067\n",
      "Гиперпараметр = 600 f1-score: 0.5701754385964912 roc: 0.8451403902100515\n",
      "Гиперпараметр = 700 f1-score: 0.5751824817518248 roc: 0.8443146635706087\n",
      "Гиперпараметр = 800 f1-score: 0.5764192139737991 roc: 0.8445381936103771\n",
      "Гиперпараметр = 900 f1-score: 0.5784883720930232 roc: 0.8447350334961431\n",
      "------------------Итог------------------\n",
      "Лучшая модель по F1: 0.5917159763313609 гиперпараметр = 100\n"
     ]
    }
   ],
   "source": [
    "print('Random Forest')\n",
    "parametr, f1, roc = model_param('Forest', range(100, 800, 100), \n",
    "                               f_train=features_train_downsampled, t_train = target_train_downsampled)\n",
    "f1_roc_decrease['Random Forest:'] = [parametr, f1, roc]"
   ]
  },
  {
   "cell_type": "code",
   "execution_count": 50,
   "metadata": {},
   "outputs": [
    {
     "name": "stdout",
     "output_type": "stream",
     "text": [
      "Decision Tree: f1: 0.5592972181551976 roc: 0.8202434809298849\n",
      "Logistic Regression: f1: 0.489795918367347 roc: 0.7436744335014813\n",
      "Random Forest: f1: 0.5917159763313609 roc: 0.8440894653962152\n"
     ]
    }
   ],
   "source": [
    "for key, value in f1_roc_decrease.items():\n",
    "    print(key, 'f1:', value[1], 'roc:', value[2])"
   ]
  },
  {
   "cell_type": "markdown",
   "metadata": {},
   "source": [
    "В данном случае здесь уже более заметно лидерство модели случайный лес."
   ]
  },
  {
   "cell_type": "markdown",
   "metadata": {},
   "source": [
    "Построим таблицу для сравнения методов борьбы с дисбалансом и выбора лучшей модели"
   ]
  },
  {
   "cell_type": "code",
   "execution_count": 51,
   "metadata": {},
   "outputs": [
    {
     "name": "stdout",
     "output_type": "stream",
     "text": [
      "Decision Tree: с дисбалансом: F1-score: 0.5535714285714285 ROC: 0.8134141377745749\n",
      "Decision Tree: без дисб, взвешивание классов : F1-score: 0.559774964838256 ROC: 0.8223887020578109\n",
      "Decision Tree: без дисб, увелич. выборки: F1-score: 0.5767284991568297 ROC: 0.8062294819441108\n",
      "Decision Tree: без дисб, уменьш. выборки: F1-score: 0.5592972181551976 ROC: 0.8202434809298849\n",
      "-------------------------------------------------------\n",
      "Logistic Regression: с дисбалансом: F1-score: 0.3048128342245989 ROC: 0.7580804441241625\n",
      "Logistic Regression: без дисб, взвешивание классов : F1-score: 0.490272373540856 ROC: 0.7513211626231083\n",
      "Logistic Regression: без дисб, увелич. выборки: F1-score: 0.4945904173106646 ROC: 0.758500814049697\n",
      "Logistic Regression: без дисб, уменьш. выборки: F1-score: 0.489795918367347 ROC: 0.7436744335014813\n",
      "-------------------------------------------------------\n",
      "Random Forest: с дисбалансом: F1-score: 0.5594405594405595 ROC: 0.8457125603864735\n",
      "Random Forest: без дисб, взвешивание классов : F1-score: 0.5437352245862884 ROC: 0.8461295940427576\n",
      "Random Forest: без дисб, увелич. выборки: F1-score: 0.587991718426501 ROC: 0.8430535537940055\n",
      "Random Forest: без дисб, уменьш. выборки: F1-score: 0.5917159763313609 ROC: 0.8440894653962152\n",
      "-------------------------------------------------------\n"
     ]
    }
   ],
   "source": [
    "#print(f1_roc_disb, f1_roc_class_weight, f1_roc_increase, f1_roc_decrease)\n",
    "for key in f1_roc_disb.keys():\n",
    "    print(key, 'с дисбалансом:', 'F1-score:', f1_roc_disb[key][1], 'ROC:',  f1_roc_disb[key][2])\n",
    "    print(key, 'без дисб, взвешивание классов :', 'F1-score:', f1_roc_class_weight[key][1], 'ROC:',  f1_roc_class_weight[key][2])\n",
    "    print(key, 'без дисб, увелич. выборки:', 'F1-score:', f1_roc_increase[key][1], 'ROC:',  f1_roc_increase[key][2])\n",
    "    print(key, 'без дисб, уменьш. выборки:', 'F1-score:', f1_roc_decrease[key][1], 'ROC:',  f1_roc_decrease[key][2])\n",
    "    print('-------------------------------------------------------')"
   ]
  },
  {
   "cell_type": "markdown",
   "metadata": {},
   "source": [
    "\n",
    "<h2>Вывод:</h2>\n",
    "По результату проведенных исследований лучшей моделью получилась модель случайного леса, а в борьбе с дисбалансом лучше всего показал себя метод уменьшения выборки."
   ]
  },
  {
   "cell_type": "markdown",
   "metadata": {},
   "source": [
    "## Тестирование модели"
   ]
  },
  {
   "cell_type": "markdown",
   "metadata": {},
   "source": [
    "\n",
    "Итого финальная модель это:\n",
    "\n",
    "Модель случайного лес с кол-вом деревьев = 100 и с методом борьбы с дисбалансом downsampling."
   ]
  },
  {
   "cell_type": "code",
   "execution_count": 59,
   "metadata": {},
   "outputs": [
    {
     "name": "stdout",
     "output_type": "stream",
     "text": [
      "F1-score: 0.5843971631205674\n",
      "ROC: 0.8498795606800651\n"
     ]
    }
   ],
   "source": [
    "best_model_forest = RandomForestClassifier(random_state=RANDOM_STATE, n_estimators=100)\n",
    "best_model_forest.fit(features_train_downsampled, target_train_downsampled)\n",
    "print('F1-score:',f1_score(target_test,best_model_forest.predict(features_test)))\n",
    "probabilities_test = best_model_forest.predict_proba(features_test)\n",
    "probabilities_one_test = probabilities_test[:, 1]\n",
    "print('ROC:', roc_auc_score(target_test, probabilities_one_test))"
   ]
  },
  {
   "cell_type": "markdown",
   "metadata": {},
   "source": [
    "\n",
    "Но получили f1-score меньше 0.59, но если взять кол-во деревьев = 200 (следующий по лучшему результату f1), то уже получим требуемые величину(нижу). Такое возможно, потому как значения близки и вероятнее всего, шаг для перебора количества деревьев оказался слишком большим и более подходящее значение оказалось пропущено. Также для более точной настройки случайного леса лучше подбирать и глубину деревьев"
   ]
  },
  {
   "cell_type": "code",
   "execution_count": 60,
   "metadata": {},
   "outputs": [
    {
     "name": "stdout",
     "output_type": "stream",
     "text": [
      "F1-score: 0.596888260254597\n",
      "ROC: 0.8506285531267515\n"
     ]
    }
   ],
   "source": [
    "best_model_forest = RandomForestClassifier(random_state=RANDOM_STATE, n_estimators=200)\n",
    "best_model_forest.fit(features_train_downsampled, target_train_downsampled)\n",
    "print('F1-score:',f1_score(target_test,best_model_forest.predict(features_test)))\n",
    "probabilities_test = best_model_forest.predict_proba(features_test)\n",
    "probabilities_one_test = probabilities_test[:, 1]\n",
    "print('ROC:', roc_auc_score(target_test, probabilities_one_test))"
   ]
  },
  {
   "cell_type": "markdown",
   "metadata": {},
   "source": [
    "\n",
    "Тогда финальной моделью оставим модель с гиперпараметром = 200."
   ]
  },
  {
   "cell_type": "markdown",
   "metadata": {},
   "source": [
    "## Чек-лист готовности проекта"
   ]
  },
  {
   "cell_type": "markdown",
   "metadata": {},
   "source": [
    "Поставьте 'x' в выполненных пунктах. Далее нажмите Shift+Enter."
   ]
  },
  {
   "cell_type": "markdown",
   "metadata": {},
   "source": [
    "- [x]  Jupyter Notebook открыт\n",
    "- [x]  Весь код выполняется без ошибок\n",
    "- [x]  Ячейки с кодом расположены в порядке исполнения\n",
    "- [x]  Выполнен шаг 1: данные подготовлены\n",
    "- [x]  Выполнен шаг 2: задача исследована\n",
    "    - [x]  Исследован баланс классов\n",
    "    - [x]  Изучены модели без учёта дисбаланса\n",
    "    - [x]  Написаны выводы по результатам исследования\n",
    "- [x]  Выполнен шаг 3: учтён дисбаланс\n",
    "    - [x]  Применено несколько способов борьбы с дисбалансом\n",
    "    - [x]  Написаны выводы по результатам исследования\n",
    "- [x]  Выполнен шаг 4: проведено тестирование\n",
    "- [x]  Удалось достичь *F1*-меры не менее 0.59\n",
    "- [x]  Исследована метрика *AUC-ROC*"
   ]
  },
  {
   "cell_type": "code",
   "execution_count": null,
   "metadata": {},
   "outputs": [],
   "source": []
  }
 ],
 "metadata": {
  "kernelspec": {
   "display_name": "Python 3 (ipykernel)",
   "language": "python",
   "name": "python3"
  },
  "language_info": {
   "codemirror_mode": {
    "name": "ipython",
    "version": 3
   },
   "file_extension": ".py",
   "mimetype": "text/x-python",
   "name": "python",
   "nbconvert_exporter": "python",
   "pygments_lexer": "ipython3",
   "version": "3.9.12"
  },
  "toc": {
   "base_numbering": 1,
   "nav_menu": {},
   "number_sections": true,
   "sideBar": true,
   "skip_h1_title": true,
   "title_cell": "Содержание",
   "title_sidebar": "Contents",
   "toc_cell": true,
   "toc_position": {},
   "toc_section_display": true,
   "toc_window_display": true
  }
 },
 "nbformat": 4,
 "nbformat_minor": 2
}
