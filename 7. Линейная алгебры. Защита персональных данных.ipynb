{
 "cells": [
  {
   "cell_type": "markdown",
   "metadata": {
    "toc": true
   },
   "source": [
    "<h1>Содержание<span class=\"tocSkip\"></span></h1>\n",
    "<div class=\"toc\"><ul class=\"toc-item\"><li><span><a href=\"#Загрузка-данных\" data-toc-modified-id=\"Загрузка-данных-1\"><span class=\"toc-item-num\">1&nbsp;&nbsp;</span>Загрузка данных</a></span></li><li><span><a href=\"#Умножение-матриц\" data-toc-modified-id=\"Умножение-матриц-2\"><span class=\"toc-item-num\">2&nbsp;&nbsp;</span>Умножение матриц</a></span></li><li><span><a href=\"#Алгоритм-преобразования\" data-toc-modified-id=\"Алгоритм-преобразования-3\"><span class=\"toc-item-num\">3&nbsp;&nbsp;</span>Алгоритм преобразования</a></span></li><li><span><a href=\"#Проверка-алгоритма\" data-toc-modified-id=\"Проверка-алгоритма-4\"><span class=\"toc-item-num\">4&nbsp;&nbsp;</span>Проверка алгоритма</a></span><ul class=\"toc-item\"><li><span><a href=\"#До-преобразования\" data-toc-modified-id=\"До-преобразования-4.1\"><span class=\"toc-item-num\">4.1&nbsp;&nbsp;</span>До преобразования</a></span></li><li><span><a href=\"#После-преобразования\" data-toc-modified-id=\"После-преобразования-4.2\"><span class=\"toc-item-num\">4.2&nbsp;&nbsp;</span>После преобразования</a></span></li><li><span><a href=\"#Итого\" data-toc-modified-id=\"Итого-4.3\"><span class=\"toc-item-num\">4.3&nbsp;&nbsp;</span>Итого</a></span></li></ul></li><li><span><a href=\"#Чек-лист-проверки\" data-toc-modified-id=\"Чек-лист-проверки-5\"><span class=\"toc-item-num\">5&nbsp;&nbsp;</span>Чек-лист проверки</a></span></li></ul></div>"
   ]
  },
  {
   "cell_type": "markdown",
   "metadata": {},
   "source": [
    "# Защита персональных данных клиентов"
   ]
  },
  {
   "cell_type": "markdown",
   "metadata": {},
   "source": [
    "Вам нужно защитить данные клиентов страховой компании «Хоть потоп». Разработайте такой метод преобразования данных, чтобы по ним было сложно восстановить персональную информацию. Обоснуйте корректность его работы.\n",
    "\n",
    "Нужно защитить данные, чтобы при преобразовании качество моделей машинного обучения не ухудшилось. Подбирать наилучшую модель не требуется."
   ]
  },
  {
   "cell_type": "code",
   "execution_count": 14,
   "metadata": {},
   "outputs": [],
   "source": [
    "import os\n",
    "import pandas as pd\n",
    "import numpy as np\n",
    "from numpy import linalg\n",
    "from sklearn.metrics import r2_score\n",
    "import matplotlib.pyplot as plt\n",
    "from sklearn.linear_model import LinearRegression\n",
    "from sklearn.model_selection import train_test_split\n",
    "import seaborn as sns"
   ]
  },
  {
   "cell_type": "code",
   "execution_count": 2,
   "metadata": {},
   "outputs": [],
   "source": [
    "RANDOM_STATE=1234"
   ]
  },
  {
   "cell_type": "markdown",
   "metadata": {},
   "source": [
    "## Загрузка данных"
   ]
  },
  {
   "cell_type": "code",
   "execution_count": 3,
   "metadata": {},
   "outputs": [],
   "source": [
    "pth1 = 'insurance.csv'\n",
    "pth2 = '/datasets/insurance.csv'\n",
    "\n",
    "if os.path.exists(pth1):\n",
    "    data = pd.read_csv(pth1)\n",
    "elif os.path.exists(pth2):\n",
    "    data = pd.read_csv(pth2)\n",
    "else:\n",
    "    print('Something is wrong')"
   ]
  },
  {
   "cell_type": "code",
   "execution_count": 4,
   "metadata": {},
   "outputs": [
    {
     "data": {
      "text/html": [
       "<div>\n",
       "<style scoped>\n",
       "    .dataframe tbody tr th:only-of-type {\n",
       "        vertical-align: middle;\n",
       "    }\n",
       "\n",
       "    .dataframe tbody tr th {\n",
       "        vertical-align: top;\n",
       "    }\n",
       "\n",
       "    .dataframe thead th {\n",
       "        text-align: right;\n",
       "    }\n",
       "</style>\n",
       "<table border=\"1\" class=\"dataframe\">\n",
       "  <thead>\n",
       "    <tr style=\"text-align: right;\">\n",
       "      <th></th>\n",
       "      <th>Пол</th>\n",
       "      <th>Возраст</th>\n",
       "      <th>Зарплата</th>\n",
       "      <th>Члены семьи</th>\n",
       "      <th>Страховые выплаты</th>\n",
       "    </tr>\n",
       "  </thead>\n",
       "  <tbody>\n",
       "    <tr>\n",
       "      <th>0</th>\n",
       "      <td>1</td>\n",
       "      <td>41.0</td>\n",
       "      <td>49600.0</td>\n",
       "      <td>1</td>\n",
       "      <td>0</td>\n",
       "    </tr>\n",
       "    <tr>\n",
       "      <th>1</th>\n",
       "      <td>0</td>\n",
       "      <td>46.0</td>\n",
       "      <td>38000.0</td>\n",
       "      <td>1</td>\n",
       "      <td>1</td>\n",
       "    </tr>\n",
       "    <tr>\n",
       "      <th>2</th>\n",
       "      <td>0</td>\n",
       "      <td>29.0</td>\n",
       "      <td>21000.0</td>\n",
       "      <td>0</td>\n",
       "      <td>0</td>\n",
       "    </tr>\n",
       "    <tr>\n",
       "      <th>3</th>\n",
       "      <td>0</td>\n",
       "      <td>21.0</td>\n",
       "      <td>41700.0</td>\n",
       "      <td>2</td>\n",
       "      <td>0</td>\n",
       "    </tr>\n",
       "    <tr>\n",
       "      <th>4</th>\n",
       "      <td>1</td>\n",
       "      <td>28.0</td>\n",
       "      <td>26100.0</td>\n",
       "      <td>0</td>\n",
       "      <td>0</td>\n",
       "    </tr>\n",
       "    <tr>\n",
       "      <th>5</th>\n",
       "      <td>1</td>\n",
       "      <td>43.0</td>\n",
       "      <td>41000.0</td>\n",
       "      <td>2</td>\n",
       "      <td>1</td>\n",
       "    </tr>\n",
       "    <tr>\n",
       "      <th>6</th>\n",
       "      <td>1</td>\n",
       "      <td>39.0</td>\n",
       "      <td>39700.0</td>\n",
       "      <td>2</td>\n",
       "      <td>0</td>\n",
       "    </tr>\n",
       "    <tr>\n",
       "      <th>7</th>\n",
       "      <td>1</td>\n",
       "      <td>25.0</td>\n",
       "      <td>38600.0</td>\n",
       "      <td>4</td>\n",
       "      <td>0</td>\n",
       "    </tr>\n",
       "    <tr>\n",
       "      <th>8</th>\n",
       "      <td>1</td>\n",
       "      <td>36.0</td>\n",
       "      <td>49700.0</td>\n",
       "      <td>1</td>\n",
       "      <td>0</td>\n",
       "    </tr>\n",
       "    <tr>\n",
       "      <th>9</th>\n",
       "      <td>1</td>\n",
       "      <td>32.0</td>\n",
       "      <td>51700.0</td>\n",
       "      <td>1</td>\n",
       "      <td>0</td>\n",
       "    </tr>\n",
       "  </tbody>\n",
       "</table>\n",
       "</div>"
      ],
      "text/plain": [
       "   Пол  Возраст  Зарплата  Члены семьи  Страховые выплаты\n",
       "0    1     41.0   49600.0            1                  0\n",
       "1    0     46.0   38000.0            1                  1\n",
       "2    0     29.0   21000.0            0                  0\n",
       "3    0     21.0   41700.0            2                  0\n",
       "4    1     28.0   26100.0            0                  0\n",
       "5    1     43.0   41000.0            2                  1\n",
       "6    1     39.0   39700.0            2                  0\n",
       "7    1     25.0   38600.0            4                  0\n",
       "8    1     36.0   49700.0            1                  0\n",
       "9    1     32.0   51700.0            1                  0"
      ]
     },
     "execution_count": 4,
     "metadata": {},
     "output_type": "execute_result"
    }
   ],
   "source": [
    "data.head(10)"
   ]
  },
  {
   "cell_type": "markdown",
   "metadata": {},
   "source": [
    "Посмотрим на наличие пропусков"
   ]
  },
  {
   "cell_type": "code",
   "execution_count": 5,
   "metadata": {},
   "outputs": [
    {
     "name": "stdout",
     "output_type": "stream",
     "text": [
      "Пол                  0\n",
      "Возраст              0\n",
      "Зарплата             0\n",
      "Члены семьи          0\n",
      "Страховые выплаты    0\n",
      "dtype: int64\n"
     ]
    }
   ],
   "source": [
    "print(data.isna().sum())"
   ]
  },
  {
   "cell_type": "markdown",
   "metadata": {},
   "source": [
    "Посмотрим на наличие дубликатных строк"
   ]
  },
  {
   "cell_type": "code",
   "execution_count": 6,
   "metadata": {},
   "outputs": [
    {
     "data": {
      "text/html": [
       "<div>\n",
       "<style scoped>\n",
       "    .dataframe tbody tr th:only-of-type {\n",
       "        vertical-align: middle;\n",
       "    }\n",
       "\n",
       "    .dataframe tbody tr th {\n",
       "        vertical-align: top;\n",
       "    }\n",
       "\n",
       "    .dataframe thead th {\n",
       "        text-align: right;\n",
       "    }\n",
       "</style>\n",
       "<table border=\"1\" class=\"dataframe\">\n",
       "  <thead>\n",
       "    <tr style=\"text-align: right;\">\n",
       "      <th></th>\n",
       "      <th>Пол</th>\n",
       "      <th>Возраст</th>\n",
       "      <th>Зарплата</th>\n",
       "      <th>Члены семьи</th>\n",
       "      <th>Страховые выплаты</th>\n",
       "    </tr>\n",
       "  </thead>\n",
       "  <tbody>\n",
       "    <tr>\n",
       "      <th>281</th>\n",
       "      <td>1</td>\n",
       "      <td>39.0</td>\n",
       "      <td>48100.0</td>\n",
       "      <td>1</td>\n",
       "      <td>0</td>\n",
       "    </tr>\n",
       "    <tr>\n",
       "      <th>488</th>\n",
       "      <td>1</td>\n",
       "      <td>24.0</td>\n",
       "      <td>32900.0</td>\n",
       "      <td>1</td>\n",
       "      <td>0</td>\n",
       "    </tr>\n",
       "    <tr>\n",
       "      <th>513</th>\n",
       "      <td>0</td>\n",
       "      <td>31.0</td>\n",
       "      <td>37400.0</td>\n",
       "      <td>2</td>\n",
       "      <td>0</td>\n",
       "    </tr>\n",
       "    <tr>\n",
       "      <th>718</th>\n",
       "      <td>1</td>\n",
       "      <td>22.0</td>\n",
       "      <td>32600.0</td>\n",
       "      <td>1</td>\n",
       "      <td>0</td>\n",
       "    </tr>\n",
       "    <tr>\n",
       "      <th>785</th>\n",
       "      <td>0</td>\n",
       "      <td>20.0</td>\n",
       "      <td>35800.0</td>\n",
       "      <td>0</td>\n",
       "      <td>0</td>\n",
       "    </tr>\n",
       "    <tr>\n",
       "      <th>...</th>\n",
       "      <td>...</td>\n",
       "      <td>...</td>\n",
       "      <td>...</td>\n",
       "      <td>...</td>\n",
       "      <td>...</td>\n",
       "    </tr>\n",
       "    <tr>\n",
       "      <th>4793</th>\n",
       "      <td>1</td>\n",
       "      <td>24.0</td>\n",
       "      <td>37800.0</td>\n",
       "      <td>0</td>\n",
       "      <td>0</td>\n",
       "    </tr>\n",
       "    <tr>\n",
       "      <th>4902</th>\n",
       "      <td>1</td>\n",
       "      <td>35.0</td>\n",
       "      <td>38700.0</td>\n",
       "      <td>1</td>\n",
       "      <td>0</td>\n",
       "    </tr>\n",
       "    <tr>\n",
       "      <th>4935</th>\n",
       "      <td>1</td>\n",
       "      <td>19.0</td>\n",
       "      <td>32700.0</td>\n",
       "      <td>0</td>\n",
       "      <td>0</td>\n",
       "    </tr>\n",
       "    <tr>\n",
       "      <th>4945</th>\n",
       "      <td>1</td>\n",
       "      <td>21.0</td>\n",
       "      <td>45800.0</td>\n",
       "      <td>0</td>\n",
       "      <td>0</td>\n",
       "    </tr>\n",
       "    <tr>\n",
       "      <th>4965</th>\n",
       "      <td>0</td>\n",
       "      <td>22.0</td>\n",
       "      <td>40100.0</td>\n",
       "      <td>1</td>\n",
       "      <td>0</td>\n",
       "    </tr>\n",
       "  </tbody>\n",
       "</table>\n",
       "<p>153 rows × 5 columns</p>\n",
       "</div>"
      ],
      "text/plain": [
       "      Пол  Возраст  Зарплата  Члены семьи  Страховые выплаты\n",
       "281     1     39.0   48100.0            1                  0\n",
       "488     1     24.0   32900.0            1                  0\n",
       "513     0     31.0   37400.0            2                  0\n",
       "718     1     22.0   32600.0            1                  0\n",
       "785     0     20.0   35800.0            0                  0\n",
       "...   ...      ...       ...          ...                ...\n",
       "4793    1     24.0   37800.0            0                  0\n",
       "4902    1     35.0   38700.0            1                  0\n",
       "4935    1     19.0   32700.0            0                  0\n",
       "4945    1     21.0   45800.0            0                  0\n",
       "4965    0     22.0   40100.0            1                  0\n",
       "\n",
       "[153 rows x 5 columns]"
      ]
     },
     "execution_count": 6,
     "metadata": {},
     "output_type": "execute_result"
    }
   ],
   "source": [
    "data[data.duplicated()]"
   ]
  },
  {
   "cell_type": "markdown",
   "metadata": {},
   "source": [
    "Удалим их."
   ]
  },
  {
   "cell_type": "code",
   "execution_count": 7,
   "metadata": {},
   "outputs": [],
   "source": [
    "data=data.drop_duplicates().reset_index(drop=True)"
   ]
  },
  {
   "cell_type": "code",
   "execution_count": 8,
   "metadata": {},
   "outputs": [
    {
     "data": {
      "text/html": [
       "<div>\n",
       "<style scoped>\n",
       "    .dataframe tbody tr th:only-of-type {\n",
       "        vertical-align: middle;\n",
       "    }\n",
       "\n",
       "    .dataframe tbody tr th {\n",
       "        vertical-align: top;\n",
       "    }\n",
       "\n",
       "    .dataframe thead th {\n",
       "        text-align: right;\n",
       "    }\n",
       "</style>\n",
       "<table border=\"1\" class=\"dataframe\">\n",
       "  <thead>\n",
       "    <tr style=\"text-align: right;\">\n",
       "      <th></th>\n",
       "      <th>Пол</th>\n",
       "      <th>Возраст</th>\n",
       "      <th>Зарплата</th>\n",
       "      <th>Члены семьи</th>\n",
       "      <th>Страховые выплаты</th>\n",
       "    </tr>\n",
       "  </thead>\n",
       "  <tbody>\n",
       "  </tbody>\n",
       "</table>\n",
       "</div>"
      ],
      "text/plain": [
       "Empty DataFrame\n",
       "Columns: [Пол, Возраст, Зарплата, Члены семьи, Страховые выплаты]\n",
       "Index: []"
      ]
     },
     "execution_count": 8,
     "metadata": {},
     "output_type": "execute_result"
    }
   ],
   "source": [
    "data[data.duplicated()]"
   ]
  },
  {
   "cell_type": "markdown",
   "metadata": {},
   "source": [
    "Для обеспечения менее затратного хранения памяти приведем столбец Возраст и Зарплата к типу int."
   ]
  },
  {
   "cell_type": "code",
   "execution_count": 9,
   "metadata": {},
   "outputs": [],
   "source": [
    "data['Возраст'] = pd.to_numeric(data['Возраст'], downcast='integer')\n",
    "data['Зарплата'] = data['Зарплата'] .astype('int')\n",
    "data['Пол'] = pd.to_numeric(data['Пол'], downcast='integer')\n",
    "data['Члены семьи'] = pd.to_numeric(data['Члены семьи'], downcast='integer')\n",
    "data['Страховые выплаты'] = pd.to_numeric(data['Страховые выплаты'], downcast='integer')"
   ]
  },
  {
   "cell_type": "code",
   "execution_count": 10,
   "metadata": {},
   "outputs": [
    {
     "name": "stdout",
     "output_type": "stream",
     "text": [
      "<class 'pandas.core.frame.DataFrame'>\n",
      "RangeIndex: 4847 entries, 0 to 4846\n",
      "Data columns (total 5 columns):\n",
      " #   Column             Non-Null Count  Dtype\n",
      "---  ------             --------------  -----\n",
      " 0   Пол                4847 non-null   int8 \n",
      " 1   Возраст            4847 non-null   int8 \n",
      " 2   Зарплата           4847 non-null   int64\n",
      " 3   Члены семьи        4847 non-null   int8 \n",
      " 4   Страховые выплаты  4847 non-null   int8 \n",
      "dtypes: int64(1), int8(4)\n",
      "memory usage: 56.9 KB\n"
     ]
    }
   ],
   "source": [
    "data.info()"
   ]
  },
  {
   "cell_type": "code",
   "execution_count": 11,
   "metadata": {},
   "outputs": [],
   "source": [
    "features = data.drop('Страховые выплаты',axis=1)\n",
    "target = data['Страховые выплаты']"
   ]
  },
  {
   "cell_type": "code",
   "execution_count": 15,
   "metadata": {},
   "outputs": [
    {
     "data": {
      "text/plain": [
       "<AxesSubplot:>"
      ]
     },
     "execution_count": 15,
     "metadata": {},
     "output_type": "execute_result"
    },
    {
     "data": {
      "image/png": "[encoded data removed]",
      "text/plain": [
       "<Figure size 432x288 with 2 Axes>"
      ]
     },
     "metadata": {
      "needs_background": "light"
     },
     "output_type": "display_data"
    }
   ],
   "source": [
    "sns.heatmap(features.corr(), annot = True)"
   ]
  },
  {
   "cell_type": "markdown",
   "metadata": {},
   "source": [
    "Исходя из матрицы корреляции, полученный с помощью коэф. Пирсона, следует что взаимосвязь между признаками очень мала.\n",
    "\n",
    "    \n",
    "При изучении вопросо о мультиколлиниарности более подробно все равно возникли недопонимание.\n",
    "    \n",
    "Когда признаки линейно зависимы, я поняла почему это плохо: При расчете вектора весов, а именно при умножении $X^TX$ у нас получается, что дискриминант будет равен нулю, так как есть ЛЗ строки, а значит нахождение обратно матрицы ($(X^TX)^{-1}$) будет невозможным.\n",
    "    \n",
    "Но случай, когда присутсвует частичная мультиколлинеарность (т.е. признаки не ЛЗ, но сильно коррелирующие), я понимаю не до конца. В интернете нашла следующие проблемы, вызываемые мультиколлиниарностью:\n",
    "1. Оценки коэффициентов модели (и даже знаки коэффициентов) могут значительно колебаться в зависимости от того, какие другие предикторы включены в модель.\n",
    "2. Точность оценок коэффициентов снижается, что делает p-значения ненадежными. Это затрудняет определение того, какие переменные-предикторы на самом деле являются статистически значимыми.\n",
    "\n",
    "Но если честно, все это не понятно и хотелось бы более подробное объяснение. Может есть какое-нибудь хорошее мат. описания возникновения данных проблем?"
   ]
  },
  {
   "cell_type": "markdown",
   "metadata": {},
   "source": [
    "## Умножение матриц"
   ]
  },
  {
   "cell_type": "markdown",
   "metadata": {},
   "source": [
    "В этом задании вы можете записывать формулы в *Jupyter Notebook.*\n",
    "\n",
    "Чтобы записать формулу внутри текста, окружите её символами доллара \\\\$; если снаружи —  двойными символами \\\\$\\\\$. Эти формулы записываются на языке вёрстки *LaTeX.* \n",
    "\n",
    "Для примера мы записали формулы линейной регрессии. Можете их скопировать и отредактировать, чтобы решить задачу.\n",
    "\n",
    "Работать в *LaTeX* необязательно."
   ]
  },
  {
   "cell_type": "markdown",
   "metadata": {},
   "source": [
    "Обозначения:\n",
    "\n",
    "- $X$ — матрица признаков (нулевой столбец состоит из единиц)\n",
    "\n",
    "- $y$ — вектор целевого признака\n",
    "\n",
    "- $P$ — матрица, на которую умножаются признаки\n",
    "\n",
    "- $w$ — вектор весов линейной регрессии (нулевой элемент равен сдвигу)"
   ]
  },
  {
   "cell_type": "markdown",
   "metadata": {},
   "source": [
    "Предсказания:\n",
    "\n",
    "$$\n",
    "a = Xw\n",
    "$$\n",
    "\n",
    "Задача обучения:\n",
    "\n",
    "$$\n",
    "w = \\arg\\min_w MSE(Xw, y)\n",
    "$$\n",
    "\n",
    "Формула обучения:\n",
    "\n",
    "$$\n",
    "w = (X^T X)^{-1} X^T y\n",
    "$$"
   ]
  },
  {
   "cell_type": "markdown",
   "metadata": {},
   "source": [
    "Признаки умножают на обратимую матрицу. Изменится ли качество линейной регрессии?"
   ]
  },
  {
   "cell_type": "markdown",
   "metadata": {},
   "source": [
    "**Ответ:** Нет, не изменится. \n",
    "**Обоснование:** \n",
    "\n",
    "Проведем требуемую замену\n",
    "\n",
    "$$\n",
    "   K = XP \\qquad(1.1)\n",
    "$$\n",
    "\n",
    "\n",
    "Для дальнейших расчетов понадобятся свойства обратной и транспонированной матрицы\n"
   ]
  },
  {
   "cell_type": "markdown",
   "metadata": {},
   "source": [
    "Имеем формулы:\n",
    "    $$ E = XX^{-1} = X^{-1}X$$\n",
    "    $$ (XY)^{-1} = Y^{-1} X^{-1} $$\n",
    "    $$ (XY)^T = Y^T X^T $$\n",
    "Тогда:\n",
    "    $$ a = XP(P^TX^TXP)^{-1}P^TX^Ty =$$\n",
    "    $$ XPP^{-1}(P^TX^TX)^{-1}P^TX^Ty=$$\n",
    "    $$ XPP^{-1}(X^TX)^{-1}(P^T)^{-1}P^TX^Ty =$$\n",
    "    $$ X(X^TX)^{-1}X^Ty = Xw$$\n",
    "    \n",
    "Получается, что значение предсказания $a$ не меняется, если матрицу признаков уможить на какую-либо обратимую матрицу.\n"
   ]
  },
  {
   "cell_type": "markdown",
   "metadata": {},
   "source": [
    "\n",
    "Какое соотношение между $w$ и $w_p$?\n",
    "    \n",
    "$$\n",
    "w_P = ((XP)^T XP)^{-1} (XP)^T y = P^{-1} (P^T X^T X)^{-1} P^T X^T y = P^{-1} (X^T X)^{-1} (P^T)^{-1} P^T X^T y = P^{-1} (X^T X)^{-1} X^T y\n",
    "$$\n",
    "    \n",
    "    \n",
    "Так как $w = (X^T X)^{-1} X^T y$, то\n",
    "    \n",
    "    \n",
    "$$\n",
    "w_P = P^{-1} w\n",
    "$$"
   ]
  },
  {
   "cell_type": "markdown",
   "metadata": {},
   "source": [
    "Есть ещё один способ доказательства   когда мы берём\n",
    "    \n",
    "    \n",
    "$$\n",
    "w = \\arg\\min_w MSE(Xw, y)\n",
    "$$\n",
    "    \n",
    "  \n",
    "и     \n",
    "    \n",
    "$$\n",
    "w_P = \\arg\\min_w MSE(XPw_p, y)\n",
    "$$  \n",
    "    \n",
    "    \n",
    "И делая  замену     $w_P = P^{-1} w$, видим что задача  \n",
    "    \n",
    "$$\n",
    "\\arg\\min_w MSE(XPw_p, y)\n",
    "$$\n",
    "    \n",
    "сводится к     \n",
    "  \n",
    "    \n",
    "$$\n",
    "\\arg\\min_w MSE(XPw_p, y) = \\arg\\min_w MSE(X P P^{-1} w, y) = \\arg\\min_w MSE(Xw, y)\n",
    "$$"
   ]
  },
  {
   "cell_type": "markdown",
   "metadata": {},
   "source": [
    "## Алгоритм преобразования"
   ]
  },
  {
   "cell_type": "markdown",
   "metadata": {},
   "source": [
    "Исходя из задания проделанного выше, мы выяснили, что умножив матрицу признаков на какую-либо обратимую матрицу мы не изменим результат предсказания. Отсюда получается, что мы можем построить следующий систему шифрования:\n",
    "\n",
    "1. В качестве ключа шифрования будет выступать обратимая матрица $P$, значения которой будут иметь нормальное распределение.\n",
    "2. Функцией шифрования и будет являться умножение матрицы признаков на ключ (обратимую матрицу $P$), т.е. $X_{зашифрованное}=XP$. Злоумышленник перехватив $X_{зашифрованное}$ не сможет получить исходную матрицу признаков $X$, не зная ключа шифрования. В данном случае если мы вдруг хотим из зашифрованной матрицы получить исходную, то нужно лишь умножить $X_{зашифрованное}$ на $P^{-1}$, где $P^{-1}$ это обратная матрица к матрице $P$.\n",
    "\n",
    "Исходя из данных размышлений получаем следующий алгоритм:"
   ]
  },
  {
   "cell_type": "markdown",
   "metadata": {},
   "source": [
    "**Алгоритм**\n",
    "1. Создать матрицу $P$ размерности $(n,n)$, где $n$ - это кол-во признаков. Причем данная матрица должна быть обратимой, а обратные матрицы сеществуют только для квадратных невырожденных матриц (определитель не равен 0).\n",
    "2. Проверить чему равен определитель матрицы $Р$\n",
    "3. Умножит исходную матрицу $X$ на $P$."
   ]
  },
  {
   "cell_type": "markdown",
   "metadata": {},
   "source": [
    "**Обоснование**\n",
    "Обосновать это можно исходя из работы проделанной в пункте **Умножение матриц**, но также можно привести следующие рассуждения, что если P - это матрица из случайных чисел, которые имеют нормальное распределение, то при умножении на данную матрицу мы получим иные значения исходной матрицы Х, но при этом их распределения будут совпадать, а значит график предсказаний для линейной регрессии (прямая) будет иметь тот же наклон и то же расположение по оси Оу (ответ), что и график предсказания на исходной матрице Х. Разница будет лишь в том, что значения по оси Ох будут другими.\n"
   ]
  },
  {
   "cell_type": "markdown",
   "metadata": {},
   "source": [
    "## Проверка алгоритма"
   ]
  },
  {
   "cell_type": "markdown",
   "metadata": {},
   "source": [
    "### До преобразования "
   ]
  },
  {
   "cell_type": "code",
   "execution_count": 12,
   "metadata": {},
   "outputs": [],
   "source": [
    "features_train, features_test, target_train, target_test = train_test_split(\n",
    "    features, target, test_size=0.25, random_state=RANDOM_STATE)"
   ]
  },
  {
   "cell_type": "code",
   "execution_count": 13,
   "metadata": {},
   "outputs": [
    {
     "name": "stdout",
     "output_type": "stream",
     "text": [
      "Коэф. w: [-2.01781615e-03  3.63699909e-02 -9.82822884e-08 -1.24040362e-02]\n",
      "Метрика R2: 0.4214584788072574\n"
     ]
    }
   ],
   "source": [
    "model_before = LinearRegression()\n",
    "model_before.fit(features_train, target_train)\n",
    "results_before = model_before.predict(features_test)\n",
    "print(\"Коэф. w:\",model_before.coef_)\n",
    "print('Метрика R2:', r2_score(target_test,results_before))"
   ]
  },
  {
   "cell_type": "markdown",
   "metadata": {},
   "source": [
    "### После преобразования "
   ]
  },
  {
   "cell_type": "markdown",
   "metadata": {},
   "source": [
    "Создадим функцию зашифрования матрицы признаков, в которой и будет генерироваться подходящая матрица (ключ). Возвращать данная функция будет уже зашифрованную матрицу признаков."
   ]
  },
  {
   "cell_type": "code",
   "execution_count": 14,
   "metadata": {},
   "outputs": [],
   "source": [
    "def matrix_encrypt(features_matrix):\n",
    "    n = features_matrix.shape[1]\n",
    "    determ = 0\n",
    "    while(determ == 0):\n",
    "        try:\n",
    "            matrix_key = np.random.normal(size=(n,n))\n",
    "            linalg.inv(matrix_key)\n",
    "            determ = linalg.det(matrix_key)\n",
    "        except linalg.LinAlgError:\n",
    "            determ = 0\n",
    "    return features_matrix @ matrix_key"
   ]
  },
  {
   "cell_type": "code",
   "execution_count": 15,
   "metadata": {},
   "outputs": [],
   "source": [
    "features_enc = matrix_encrypt(features)"
   ]
  },
  {
   "cell_type": "markdown",
   "metadata": {},
   "source": [
    "Признаки до шифрования"
   ]
  },
  {
   "cell_type": "code",
   "execution_count": 16,
   "metadata": {},
   "outputs": [
    {
     "data": {
      "text/html": [
       "<div>\n",
       "<style scoped>\n",
       "    .dataframe tbody tr th:only-of-type {\n",
       "        vertical-align: middle;\n",
       "    }\n",
       "\n",
       "    .dataframe tbody tr th {\n",
       "        vertical-align: top;\n",
       "    }\n",
       "\n",
       "    .dataframe thead th {\n",
       "        text-align: right;\n",
       "    }\n",
       "</style>\n",
       "<table border=\"1\" class=\"dataframe\">\n",
       "  <thead>\n",
       "    <tr style=\"text-align: right;\">\n",
       "      <th></th>\n",
       "      <th>Пол</th>\n",
       "      <th>Возраст</th>\n",
       "      <th>Зарплата</th>\n",
       "      <th>Члены семьи</th>\n",
       "    </tr>\n",
       "  </thead>\n",
       "  <tbody>\n",
       "    <tr>\n",
       "      <th>0</th>\n",
       "      <td>1</td>\n",
       "      <td>41</td>\n",
       "      <td>49600</td>\n",
       "      <td>1</td>\n",
       "    </tr>\n",
       "    <tr>\n",
       "      <th>1</th>\n",
       "      <td>0</td>\n",
       "      <td>46</td>\n",
       "      <td>38000</td>\n",
       "      <td>1</td>\n",
       "    </tr>\n",
       "    <tr>\n",
       "      <th>2</th>\n",
       "      <td>0</td>\n",
       "      <td>29</td>\n",
       "      <td>21000</td>\n",
       "      <td>0</td>\n",
       "    </tr>\n",
       "    <tr>\n",
       "      <th>3</th>\n",
       "      <td>0</td>\n",
       "      <td>21</td>\n",
       "      <td>41700</td>\n",
       "      <td>2</td>\n",
       "    </tr>\n",
       "    <tr>\n",
       "      <th>4</th>\n",
       "      <td>1</td>\n",
       "      <td>28</td>\n",
       "      <td>26100</td>\n",
       "      <td>0</td>\n",
       "    </tr>\n",
       "    <tr>\n",
       "      <th>...</th>\n",
       "      <td>...</td>\n",
       "      <td>...</td>\n",
       "      <td>...</td>\n",
       "      <td>...</td>\n",
       "    </tr>\n",
       "    <tr>\n",
       "      <th>4842</th>\n",
       "      <td>0</td>\n",
       "      <td>28</td>\n",
       "      <td>35700</td>\n",
       "      <td>2</td>\n",
       "    </tr>\n",
       "    <tr>\n",
       "      <th>4843</th>\n",
       "      <td>0</td>\n",
       "      <td>34</td>\n",
       "      <td>52400</td>\n",
       "      <td>1</td>\n",
       "    </tr>\n",
       "    <tr>\n",
       "      <th>4844</th>\n",
       "      <td>0</td>\n",
       "      <td>20</td>\n",
       "      <td>33900</td>\n",
       "      <td>2</td>\n",
       "    </tr>\n",
       "    <tr>\n",
       "      <th>4845</th>\n",
       "      <td>1</td>\n",
       "      <td>22</td>\n",
       "      <td>32700</td>\n",
       "      <td>3</td>\n",
       "    </tr>\n",
       "    <tr>\n",
       "      <th>4846</th>\n",
       "      <td>1</td>\n",
       "      <td>28</td>\n",
       "      <td>40600</td>\n",
       "      <td>1</td>\n",
       "    </tr>\n",
       "  </tbody>\n",
       "</table>\n",
       "<p>4847 rows × 4 columns</p>\n",
       "</div>"
      ],
      "text/plain": [
       "      Пол  Возраст  Зарплата  Члены семьи\n",
       "0       1       41     49600            1\n",
       "1       0       46     38000            1\n",
       "2       0       29     21000            0\n",
       "3       0       21     41700            2\n",
       "4       1       28     26100            0\n",
       "...   ...      ...       ...          ...\n",
       "4842    0       28     35700            2\n",
       "4843    0       34     52400            1\n",
       "4844    0       20     33900            2\n",
       "4845    1       22     32700            3\n",
       "4846    1       28     40600            1\n",
       "\n",
       "[4847 rows x 4 columns]"
      ]
     },
     "execution_count": 16,
     "metadata": {},
     "output_type": "execute_result"
    }
   ],
   "source": [
    "features"
   ]
  },
  {
   "cell_type": "markdown",
   "metadata": {},
   "source": [
    "Признаки после шифрования"
   ]
  },
  {
   "cell_type": "code",
   "execution_count": 17,
   "metadata": {},
   "outputs": [
    {
     "data": {
      "text/html": [
       "<div>\n",
       "<style scoped>\n",
       "    .dataframe tbody tr th:only-of-type {\n",
       "        vertical-align: middle;\n",
       "    }\n",
       "\n",
       "    .dataframe tbody tr th {\n",
       "        vertical-align: top;\n",
       "    }\n",
       "\n",
       "    .dataframe thead th {\n",
       "        text-align: right;\n",
       "    }\n",
       "</style>\n",
       "<table border=\"1\" class=\"dataframe\">\n",
       "  <thead>\n",
       "    <tr style=\"text-align: right;\">\n",
       "      <th></th>\n",
       "      <th>0</th>\n",
       "      <th>1</th>\n",
       "      <th>2</th>\n",
       "      <th>3</th>\n",
       "    </tr>\n",
       "  </thead>\n",
       "  <tbody>\n",
       "    <tr>\n",
       "      <th>0</th>\n",
       "      <td>-3886.818617</td>\n",
       "      <td>-40426.457499</td>\n",
       "      <td>-25089.231960</td>\n",
       "      <td>-68166.752124</td>\n",
       "    </tr>\n",
       "    <tr>\n",
       "      <th>1</th>\n",
       "      <td>-2988.240925</td>\n",
       "      <td>-30960.318386</td>\n",
       "      <td>-19211.299569</td>\n",
       "      <td>-52198.473676</td>\n",
       "    </tr>\n",
       "    <tr>\n",
       "      <th>2</th>\n",
       "      <td>-1653.342959</td>\n",
       "      <td>-17106.691688</td>\n",
       "      <td>-10613.443055</td>\n",
       "      <td>-28838.848065</td>\n",
       "    </tr>\n",
       "    <tr>\n",
       "      <th>3</th>\n",
       "      <td>-3259.272820</td>\n",
       "      <td>-33998.828346</td>\n",
       "      <td>-21104.851445</td>\n",
       "      <td>-57337.794241</td>\n",
       "    </tr>\n",
       "    <tr>\n",
       "      <th>4</th>\n",
       "      <td>-2049.367823</td>\n",
       "      <td>-21267.403605</td>\n",
       "      <td>-13196.630110</td>\n",
       "      <td>-35856.493601</td>\n",
       "    </tr>\n",
       "    <tr>\n",
       "      <th>...</th>\n",
       "      <td>...</td>\n",
       "      <td>...</td>\n",
       "      <td>...</td>\n",
       "      <td>...</td>\n",
       "    </tr>\n",
       "    <tr>\n",
       "      <th>4842</th>\n",
       "      <td>-2797.722052</td>\n",
       "      <td>-29098.834736</td>\n",
       "      <td>-18061.092811</td>\n",
       "      <td>-49069.471558</td>\n",
       "    </tr>\n",
       "    <tr>\n",
       "      <th>4843</th>\n",
       "      <td>-4099.364511</td>\n",
       "      <td>-42716.419450</td>\n",
       "      <td>-26512.757329</td>\n",
       "      <td>-72033.450913</td>\n",
       "    </tr>\n",
       "    <tr>\n",
       "      <th>4844</th>\n",
       "      <td>-2652.098985</td>\n",
       "      <td>-27637.008392</td>\n",
       "      <td>-17155.462283</td>\n",
       "      <td>-46607.906368</td>\n",
       "    </tr>\n",
       "    <tr>\n",
       "      <th>4845</th>\n",
       "      <td>-2561.479844</td>\n",
       "      <td>-26656.359230</td>\n",
       "      <td>-16547.146195</td>\n",
       "      <td>-44953.719181</td>\n",
       "    </tr>\n",
       "    <tr>\n",
       "      <th>4846</th>\n",
       "      <td>-3177.838094</td>\n",
       "      <td>-33095.480537</td>\n",
       "      <td>-20541.037670</td>\n",
       "      <td>-55808.316906</td>\n",
       "    </tr>\n",
       "  </tbody>\n",
       "</table>\n",
       "<p>4847 rows × 4 columns</p>\n",
       "</div>"
      ],
      "text/plain": [
       "                0             1             2             3\n",
       "0    -3886.818617 -40426.457499 -25089.231960 -68166.752124\n",
       "1    -2988.240925 -30960.318386 -19211.299569 -52198.473676\n",
       "2    -1653.342959 -17106.691688 -10613.443055 -28838.848065\n",
       "3    -3259.272820 -33998.828346 -21104.851445 -57337.794241\n",
       "4    -2049.367823 -21267.403605 -13196.630110 -35856.493601\n",
       "...           ...           ...           ...           ...\n",
       "4842 -2797.722052 -29098.834736 -18061.092811 -49069.471558\n",
       "4843 -4099.364511 -42716.419450 -26512.757329 -72033.450913\n",
       "4844 -2652.098985 -27637.008392 -17155.462283 -46607.906368\n",
       "4845 -2561.479844 -26656.359230 -16547.146195 -44953.719181\n",
       "4846 -3177.838094 -33095.480537 -20541.037670 -55808.316906\n",
       "\n",
       "[4847 rows x 4 columns]"
      ]
     },
     "execution_count": 17,
     "metadata": {},
     "output_type": "execute_result"
    }
   ],
   "source": [
    "features_enc"
   ]
  },
  {
   "cell_type": "code",
   "execution_count": 18,
   "metadata": {},
   "outputs": [],
   "source": [
    "features_train, features_test, target_train, target_test = train_test_split(\n",
    "    features_enc, target, test_size=0.25, random_state=RANDOM_STATE)"
   ]
  },
  {
   "cell_type": "code",
   "execution_count": 19,
   "metadata": {},
   "outputs": [
    {
     "name": "stdout",
     "output_type": "stream",
     "text": [
      "Коэф. w: [-0.04099376  0.00835251  0.10505528 -0.04130394]\n",
      "Метрика R2: 0.42145847880761067\n"
     ]
    }
   ],
   "source": [
    "model_after = LinearRegression()\n",
    "model_after.fit(features_train, target_train)\n",
    "result_after = model_after.predict(features_test)\n",
    "print(\"Коэф. w:\",model_after.coef_)\n",
    "print('Метрика R2:', r2_score(target_test,result_after))"
   ]
  },
  {
   "cell_type": "markdown",
   "metadata": {},
   "source": [
    "### Итого"
   ]
  },
  {
   "cell_type": "code",
   "execution_count": 20,
   "metadata": {},
   "outputs": [
    {
     "name": "stdout",
     "output_type": "stream",
     "text": [
      "Коэф. w до преобразования: [-2.01781615e-03  3.63699909e-02 -9.82822884e-08 -1.24040362e-02]\n",
      "Метрика R2 до преобразования: 0.4214584788072574\n",
      "Коэф. w после преобразования: [-0.04099376  0.00835251  0.10505528 -0.04130394]\n",
      "Метрика R2 после преобразования: 0.42145847880761067\n"
     ]
    }
   ],
   "source": [
    "print(\"Коэф. w до преобразования:\",model_before.coef_)\n",
    "print('Метрика R2 до преобразования:', r2_score(target_test,results_before))\n",
    "print(\"Коэф. w после преобразования:\",model_after.coef_)\n",
    "print('Метрика R2 после преобразования:', r2_score(target_test,result_after))"
   ]
  },
  {
   "cell_type": "markdown",
   "metadata": {},
   "source": [
    "Можем видеть, что наш алгоритм работает верно: признаки передаются в зашифрованном виде, а качество модели при этом остается прежним."
   ]
  },
  {
   "cell_type": "markdown",
   "metadata": {},
   "source": [
    "\n",
    "В данной работе требовалось провести защиту данных клиентов. В первую очередь было проведено знакомство с данными, исходя из которого были проведены проверки на корреляцию признаков, наличие пропусков и повторений. Далее стояла задача подобрать такой способ защиты данных, который не изменил бы качество модели и предсказания, но изменил бы данные клиента, чтобы при перехвате этой информации личная информация клиентов осталась не известна. Для этого исходная матрица признаков была умноженна на некоторую обратимую матрицу Р. Данный способ позволил зашифровать матрицу признаков, а при сравнении модель на открытых и зашифрованных данных был получен одинаковый ответ. Отсюда можно сдлелать вывод, что требуемый результат был достигнут.\n"
   ]
  },
  {
   "cell_type": "markdown",
   "metadata": {},
   "source": [
    "## Чек-лист проверки"
   ]
  },
  {
   "cell_type": "markdown",
   "metadata": {},
   "source": [
    "Поставьте 'x' в выполненных пунктах. Далее нажмите Shift+Enter."
   ]
  },
  {
   "cell_type": "markdown",
   "metadata": {},
   "source": [
    "- [ ]  Jupyter Notebook открыт\n",
    "- [ ]  Весь код выполняется без ошибок\n",
    "- [ ]  Ячейки с кодом расположены в порядке исполнения\n",
    "- [ ]  Выполнен шаг 1: данные загружены\n",
    "- [ ]  Выполнен шаг 2: получен ответ на вопрос об умножении матриц\n",
    "    - [ ]  Указан правильный вариант ответа\n",
    "    - [ ]  Вариант обоснован\n",
    "- [ ]  Выполнен шаг 3: предложен алгоритм преобразования\n",
    "    - [ ]  Алгоритм описан\n",
    "    - [ ]  Алгоритм обоснован\n",
    "- [ ]  Выполнен шаг 4: алгоритм проверен\n",
    "    - [ ]  Алгоритм реализован\n",
    "    - [ ]  Проведено сравнение качества моделей до и после преобразования"
   ]
  }
 ],
 "metadata": {
  "ExecuteTimeLog": [
   {
    "duration": 2295,
    "start_time": "2023-01-15T12:00:16.308Z"
   },
   {
    "duration": 3,
    "start_time": "2023-01-15T12:00:18.605Z"
   },
   {
    "duration": 67,
    "start_time": "2023-01-15T12:00:18.609Z"
   },
   {
    "duration": 14,
    "start_time": "2023-01-15T12:00:18.678Z"
   },
   {
    "duration": 7,
    "start_time": "2023-01-15T12:00:18.694Z"
   },
   {
    "duration": 18,
    "start_time": "2023-01-15T12:00:18.702Z"
   },
   {
    "duration": 6,
    "start_time": "2023-01-15T12:00:18.722Z"
   },
   {
    "duration": 11,
    "start_time": "2023-01-15T12:00:18.729Z"
   },
   {
    "duration": 17,
    "start_time": "2023-01-15T12:00:18.741Z"
   },
   {
    "duration": 14,
    "start_time": "2023-01-15T12:00:18.760Z"
   },
   {
    "duration": 9,
    "start_time": "2023-01-15T12:00:18.776Z"
   },
   {
    "duration": 9,
    "start_time": "2023-01-15T12:00:18.787Z"
   },
   {
    "duration": 16,
    "start_time": "2023-01-15T12:00:18.798Z"
   },
   {
    "duration": 4,
    "start_time": "2023-01-15T12:00:18.816Z"
   },
   {
    "duration": 34,
    "start_time": "2023-01-15T12:00:18.822Z"
   },
   {
    "duration": 97,
    "start_time": "2023-01-15T12:00:18.859Z"
   },
   {
    "duration": 98,
    "start_time": "2023-01-15T12:00:18.959Z"
   },
   {
    "duration": 8,
    "start_time": "2023-01-15T12:00:19.059Z"
   },
   {
    "duration": 13,
    "start_time": "2023-01-15T12:00:19.070Z"
   },
   {
    "duration": 7,
    "start_time": "2023-01-15T12:00:19.085Z"
   },
   {
    "duration": 1512,
    "start_time": "2023-01-15T13:31:25.583Z"
   },
   {
    "duration": 3,
    "start_time": "2023-01-15T13:31:29.260Z"
   },
   {
    "duration": 153,
    "start_time": "2023-01-15T13:31:30.748Z"
   },
   {
    "duration": 13,
    "start_time": "2023-01-15T13:31:32.558Z"
   },
   {
    "duration": 5,
    "start_time": "2023-01-15T13:31:34.448Z"
   },
   {
    "duration": 16,
    "start_time": "2023-01-15T13:31:36.031Z"
   },
   {
    "duration": 4,
    "start_time": "2023-01-15T13:31:39.034Z"
   },
   {
    "duration": 9,
    "start_time": "2023-01-15T13:31:40.689Z"
   },
   {
    "duration": 8,
    "start_time": "2023-01-15T13:31:48.450Z"
   },
   {
    "duration": 11,
    "start_time": "2023-01-15T13:31:49.566Z"
   },
   {
    "duration": 5,
    "start_time": "2023-01-15T13:32:57.759Z"
   },
   {
    "duration": 51,
    "start_time": "2023-01-15T13:32:58.586Z"
   },
   {
    "duration": 15,
    "start_time": "2023-01-15T13:34:01.202Z"
   },
   {
    "duration": 52,
    "start_time": "2023-01-15T13:40:18.668Z"
   },
   {
    "duration": 371,
    "start_time": "2023-01-15T13:40:29.698Z"
   }
  ],
  "kernelspec": {
   "display_name": "Python 3 (ipykernel)",
   "language": "python",
   "name": "python3"
  },
  "language_info": {
   "codemirror_mode": {
    "name": "ipython",
    "version": 3
   },
   "file_extension": ".py",
   "mimetype": "text/x-python",
   "name": "python",
   "nbconvert_exporter": "python",
   "pygments_lexer": "ipython3",
   "version": "3.9.12"
  },
  "toc": {
   "base_numbering": 1,
   "nav_menu": {},
   "number_sections": true,
   "sideBar": true,
   "skip_h1_title": true,
   "title_cell": "Содержание",
   "title_sidebar": "Contents",
   "toc_cell": true,
   "toc_position": {},
   "toc_section_display": true,
   "toc_window_display": false
  }
 },
 "nbformat": 4,
 "nbformat_minor": 2
}
